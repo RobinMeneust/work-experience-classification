{
 "cells": [
  {
   "cell_type": "markdown",
   "metadata": {},
   "source": [
    "# Notebook to test SetFit performance"
   ]
  },
  {
   "cell_type": "markdown",
   "metadata": {},
   "source": [
    "Check CUDA"
   ]
  },
  {
   "cell_type": "code",
   "execution_count": 71,
   "metadata": {},
   "outputs": [],
   "source": [
    "import torch\n",
    "if torch.cuda.is_available():    \n",
    "    device = torch.device(\"cuda\")\n",
    "else:\n",
    "    device = torch.device(\"cpu\")"
   ]
  },
  {
   "cell_type": "markdown",
   "metadata": {},
   "source": [
    "Load dataset and transform data"
   ]
  },
  {
   "cell_type": "code",
   "execution_count": 72,
   "metadata": {},
   "outputs": [],
   "source": [
    "import pandas as pd\n",
    "import numpy as np\n",
    "\n",
    "dataFrame = pd.read_pickle(r'../data/7587_corrige.pkl')"
   ]
  },
  {
   "cell_type": "code",
   "execution_count": 73,
   "metadata": {},
   "outputs": [
    {
     "data": {
      "text/html": [
       "<div>\n",
       "<style scoped>\n",
       "    .dataframe tbody tr th:only-of-type {\n",
       "        vertical-align: middle;\n",
       "    }\n",
       "\n",
       "    .dataframe tbody tr th {\n",
       "        vertical-align: top;\n",
       "    }\n",
       "\n",
       "    .dataframe thead th {\n",
       "        text-align: right;\n",
       "    }\n",
       "</style>\n",
       "<table border=\"1\" class=\"dataframe\">\n",
       "  <thead>\n",
       "    <tr style=\"text-align: right;\">\n",
       "      <th></th>\n",
       "      <th>text</th>\n",
       "      <th>label</th>\n",
       "    </tr>\n",
       "  </thead>\n",
       "  <tbody>\n",
       "    <tr>\n",
       "      <th>2</th>\n",
       "      <td>Stagiaire ingénieur en intelligence artificiel...</td>\n",
       "      <td>1</td>\n",
       "    </tr>\n",
       "    <tr>\n",
       "      <th>3</th>\n",
       "      <td>Stagiaire en développement logiciel Développem...</td>\n",
       "      <td>0</td>\n",
       "    </tr>\n",
       "    <tr>\n",
       "      <th>4</th>\n",
       "      <td>Stagiaire en développement Web Création et évo...</td>\n",
       "      <td>0</td>\n",
       "    </tr>\n",
       "    <tr>\n",
       "      <th>5</th>\n",
       "      <td>Stagiaire en développement Web Portage d’une a...</td>\n",
       "      <td>0</td>\n",
       "    </tr>\n",
       "    <tr>\n",
       "      <th>6</th>\n",
       "      <td>Développeur Data / IA Développement d'applicat...</td>\n",
       "      <td>1</td>\n",
       "    </tr>\n",
       "    <tr>\n",
       "      <th>...</th>\n",
       "      <td>...</td>\n",
       "      <td>...</td>\n",
       "    </tr>\n",
       "    <tr>\n",
       "      <th>11281</th>\n",
       "      <td>Opérateur production Montage de transmission a...</td>\n",
       "      <td>0</td>\n",
       "    </tr>\n",
       "    <tr>\n",
       "      <th>11282</th>\n",
       "      <td>Opérateur production Montage de transmission a...</td>\n",
       "      <td>0</td>\n",
       "    </tr>\n",
       "    <tr>\n",
       "      <th>11283</th>\n",
       "      <td>Technicien réparation informatique Reparation ...</td>\n",
       "      <td>0</td>\n",
       "    </tr>\n",
       "    <tr>\n",
       "      <th>11284</th>\n",
       "      <td>Technicien réparation Reparation &amp; maintenance...</td>\n",
       "      <td>0</td>\n",
       "    </tr>\n",
       "    <tr>\n",
       "      <th>11286</th>\n",
       "      <td>Développeur web freelance Webdesign &amp; Infographie</td>\n",
       "      <td>0</td>\n",
       "    </tr>\n",
       "  </tbody>\n",
       "</table>\n",
       "<p>5167 rows × 2 columns</p>\n",
       "</div>"
      ],
      "text/plain": [
       "                                                    text  label\n",
       "2      Stagiaire ingénieur en intelligence artificiel...      1\n",
       "3      Stagiaire en développement logiciel Développem...      0\n",
       "4      Stagiaire en développement Web Création et évo...      0\n",
       "5      Stagiaire en développement Web Portage d’une a...      0\n",
       "6      Développeur Data / IA Développement d'applicat...      1\n",
       "...                                                  ...    ...\n",
       "11281  Opérateur production Montage de transmission a...      0\n",
       "11282  Opérateur production Montage de transmission a...      0\n",
       "11283  Technicien réparation informatique Reparation ...      0\n",
       "11284  Technicien réparation Reparation & maintenance...      0\n",
       "11286  Développeur web freelance Webdesign & Infographie      0\n",
       "\n",
       "[5167 rows x 2 columns]"
      ]
     },
     "execution_count": 73,
     "metadata": {},
     "output_type": "execute_result"
    }
   ],
   "source": [
    "subset = dataFrame[['jobTitle', 'description', 'label']].copy()\n",
    "\n",
    "subset.reset_index(drop=True, inplace=True)\n",
    "subset.replace('', np.nan, inplace=True)\n",
    "subset.dropna(inplace=True)\n",
    "\n",
    "subset['text'] = subset['jobTitle'] + ' ' + subset['description']\n",
    "subset['label'] = np.where((subset[\"label\"] < 3) | (subset[\"label\"].isna()), 0, 1)\n",
    "subset = subset[['text','label']]\n",
    "subset"
   ]
  },
  {
   "cell_type": "markdown",
   "metadata": {},
   "source": [
    "Split the dataset in two: training and test set"
   ]
  },
  {
   "cell_type": "code",
   "execution_count": 74,
   "metadata": {},
   "outputs": [],
   "source": [
    "from datasets import Dataset, disable_progress_bar\n",
    "disable_progress_bar() # Disable \"Map\" progress bar in the tests\n",
    "\n",
    "def split_train_test(dataset, ratio):\n",
    "    test_set = dataset.sample(frac = ratio, random_state=42)\n",
    "    train_set = dataset.drop(test_set.index)\n",
    "    return train_set, test_set\n",
    "\n",
    "train_set, test_set = split_train_test(subset, 0.2)"
   ]
  },
  {
   "cell_type": "markdown",
   "metadata": {},
   "source": [
    "# Functions to test different hyper parameters"
   ]
  },
  {
   "cell_type": "code",
   "execution_count": 75,
   "metadata": {},
   "outputs": [],
   "source": [
    "import json\n",
    "from datetime import datetime\n",
    "import os\n",
    "\n",
    "\n",
    "def save_to_json(object, folder_path):\n",
    "\t# Create folder if it doesn't exist\n",
    "\tif not os.path.exists(folder_path):\n",
    "\t\tos.makedirs(folder_path)\n",
    "\t# Generate file name\n",
    "\tdate = datetime.now().strftime(\"%Y-%m-%d_%H-%M-%S\")\n",
    "\tfile_name = folder_path+'/'+str(date)+\".json\"\n",
    "\n",
    "\t# Create file and save data\n",
    "\twith open(file_name, 'w') as file:\n",
    "\t\tjson.dump(object, file)"
   ]
  },
  {
   "cell_type": "code",
   "execution_count": 76,
   "metadata": {},
   "outputs": [],
   "source": [
    "from sentence_transformers.losses import CosineSimilarityLoss, BatchAllTripletLoss, BatchHardTripletLossDistanceFunction\n",
    "from transformers import PrinterCallback, ProgressCallback\n",
    "from setfit import Trainer, TrainingArguments, sample_dataset, SetFitModel\n",
    "import gc\n",
    "import time\n",
    "import logging\n",
    "import warnings\n",
    "\n",
    "# Disable some logs because there were too many messages during the tests\n",
    "logging.disable(logging.INFO)\n",
    "warnings.filterwarnings(\"ignore\", category=DeprecationWarning) \n",
    "\n",
    "def get_transformer_model(model_name):\n",
    "    model = SetFitModel.from_pretrained(model_name)\n",
    "    gc.collect()\n",
    "    torch.cuda.empty_cache()\n",
    "    \n",
    "    return model.to('cuda')\n",
    "\n",
    "def init_trainer(model, loss, train_dataset, test_dataset, distance_metric = None):\n",
    "    if distance_metric is None:\n",
    "        distance_metric = BatchHardTripletLossDistanceFunction.cosine_distance # default value for SetFit\n",
    "    \n",
    "    trainer_arguments = TrainingArguments(\n",
    "        show_progress_bar=False,\n",
    "        loss=loss,\n",
    "        distance_metric=distance_metric,\n",
    "        batch_size=(8,2),\n",
    "        num_epochs=(1,10) # Number of epochs to use for contrastive learning (for the transformer and for the classification head)\n",
    "    )\n",
    "\n",
    "    trainer = Trainer(\n",
    "        model=model,\n",
    "        args=trainer_arguments,\n",
    "        metric='f1',\n",
    "        train_dataset=train_dataset,\n",
    "        eval_dataset=test_dataset\n",
    "    )\n",
    "    \n",
    "    # Disable some logs because there were too many messages during the tests\n",
    "    trainer.pop_callback(PrinterCallback)\n",
    "    trainer.pop_callback(ProgressCallback)\n",
    "    \n",
    "    return trainer\n",
    "\n",
    "def setfit_f1_score(train_set, test_set, model_name, loss, distance_metric=None):   \n",
    "    if len(train_set) <= 1 or len(test_set) <= 1:\n",
    "        raise Exception\n",
    "    \n",
    "    model = get_transformer_model(model_name)\n",
    "    trainer = init_trainer(model, loss, train_set, test_set, distance_metric)\n",
    "    \n",
    "    start_time = time.time()\n",
    "    trainer.train()\n",
    "    run_time = time.time() - start_time\n",
    "    \n",
    "    metrics = trainer.evaluate()\n",
    "    \n",
    "    del model\n",
    "    del trainer\n",
    "    torch.cuda.empty_cache()\n",
    "    \n",
    "    return metrics['f1'], run_time"
   ]
  },
  {
   "cell_type": "code",
   "execution_count": 77,
   "metadata": {},
   "outputs": [],
   "source": [
    "from langdetect import detect\n",
    "\n",
    "def filter_lang(df, lang):\n",
    "    indices = []\n",
    "    for i in range(len(df)):\n",
    "        try:\n",
    "            l = detect(df.iloc[i][\"text\"])\n",
    "            if l == lang:\n",
    "                indices.append(i)\n",
    "        except:\"\"\n",
    "    \n",
    "    return df.iloc[indices]\n",
    "\n",
    "def filter_dataset(data, min_text_length=None, max_text_length=None, lang=None):\n",
    "    if min_text_length is None:\n",
    "        if max_text_length is None:\n",
    "            filtered_data = data\n",
    "        else:\n",
    "            filtered_data = data[data['text'].str.split().apply(len) <= max_text_length]\n",
    "    else:\n",
    "        if max_text_length is None:\n",
    "            filtered_data = data[data['text'].str.split().apply(len) >= min_text_length]\n",
    "        else:\n",
    "            filtered_data = data[data['text'].str.split().apply(len).between(min_text_length, max_text_length)]\n",
    "            \n",
    "    if not (lang is None):\n",
    "        filtered_data = filter_lang(filtered_data, lang)\n",
    "           \n",
    "    return filtered_data"
   ]
  },
  {
   "cell_type": "markdown",
   "metadata": {},
   "source": [
    "### N-Shots"
   ]
  },
  {
   "cell_type": "code",
   "execution_count": 78,
   "metadata": {},
   "outputs": [],
   "source": [
    "def n_shot_tests(params, train_set, test_set):\n",
    "\tn_values = params[\"n_shot\"]\n",
    "\tn_iter = params[\"n_iter\"]\n",
    "\tn_max_iter_per_shot = params[\"n_max_iter_per_shot\"]\n",
    "\tmodel = params[\"model\"]\n",
    "\tloss = params[\"loss\"]\n",
    "    \n",
    "\tn_values_max = np.max(n_values)\n",
    "\n",
    "\tresults = {}\n",
    "\trun_times = {}\n",
    "\tfor n_shot in n_values:\n",
    "\t\tresults[n_shot] = []\n",
    "\t\trun_times[n_shot] = []\n",
    "\t\n",
    "\tprogress = 0\n",
    "\tprogress_end = n_iter * ((len(n_values)-1)*n_max_iter_per_shot + 1)\n",
    " \n",
    "\t# Repeat the tests multiple times because F1-score variations might be due to the examples chosen and not the input length of those examples\n",
    "\tfor i in range(n_iter):\n",
    "\t\t# Use the same subset of the dataset for all of the tests in the following loop\n",
    "\t\tnew_train_set = train_set.sample(frac = 1, random_state=i*47).groupby('label').head(n_values_max)\n",
    "\t\tnew_train_set = Dataset.from_pandas(new_train_set, split=\"train\")\n",
    "\t\tnew_test_set = Dataset.from_pandas(test_set, split=\"test\")\n",
    "\n",
    "\t\tfor n_shot in n_values:\n",
    "\t\t\ttry:\n",
    "\t\t\t\tn_iter_shot = n_max_iter_per_shot if n_shot < n_values_max else 1\n",
    "\t\t\t\tfor i_shot in range(n_iter_shot):\n",
    "\t\t\t\t\tprogress += 1\n",
    "\t\t\t\t\tprint(\"Step:\", progress, \"/\", progress_end)\n",
    "     \n",
    "\t\t\t\t\ttrain_set_n_shot = sample_dataset(new_train_set, label_column=\"label\", num_samples=n_shot, seed=47*n_shot + 3*i_shot)\n",
    "\t\t\t\t\tf1_score, run_time = setfit_f1_score(train_set_n_shot, new_test_set, model, loss)\n",
    "\t\t\t\t\tresults[n_shot].append(f1_score)\n",
    "\t\t\t\t\trun_times[n_shot].append(run_time)\n",
    "\t\t\texcept Exception as err:\n",
    "\t\t\t\tprint(n_shot, \"failed\", str(err))\n",
    "\treturn results, run_times"
   ]
  },
  {
   "cell_type": "markdown",
   "metadata": {},
   "source": [
    "### Input length"
   ]
  },
  {
   "cell_type": "code",
   "execution_count": 79,
   "metadata": {},
   "outputs": [],
   "source": [
    "def input_length_tests(params, train_set, test_set):\n",
    "\tn_shot = params[\"n_shot\"]\n",
    "\tlen_values = params[\"input_length_range\"]\n",
    "\tn_iter = params[\"n_iter\"]\n",
    "\tmodel = params[\"model\"]\n",
    "\tloss = params[\"loss\"]\n",
    "    \n",
    "\tresults = {}\n",
    "\trun_times = {}\n",
    "\tnew_test_set = Dataset.from_pandas(test_set, split=\"test\")\n",
    "\n",
    "\tfor i in range(len(len_values)):\n",
    "\t\tkey = f\"[{len_values[i][0]},{len_values[i][1]}]\"\n",
    "\t\tresults[key] = []\n",
    "\t\trun_times[key] = []\n",
    "\t\t\n",
    "\tresults['all'] = []\n",
    "\trun_times['all'] = []\n",
    "\n",
    "\tprogress = 0\n",
    "\tprogress_end = n_iter * (len(len_values)+1)\n",
    " \n",
    "\t# Repeat the tests multiple times because F1-score variations might be due to the examples chosen and not the input length of those examples\n",
    "\tfor iter in range(n_iter):\n",
    "\t\tfor i in range(len(len_values)):\n",
    "\t\t\tkey = f\"[{len_values[i][0]},{len_values[i][1]}]\"\n",
    "\t\t\ttry:\n",
    "\t\t\t\tprogress += 1\n",
    "\t\t\t\tprint(\"Step:\", progress, \"/\", progress_end)\n",
    "    \n",
    "\t\t\t\tnew_train_set = filter_dataset(train_set, len_values[i][0], len_values[i][1])\n",
    "\t\t\t\tnew_train_set = Dataset.from_pandas(new_train_set, split=\"train\")\n",
    "\t\t\t\tnew_train_set = sample_dataset(new_train_set, label_column=\"label\", num_samples=n_shot, seed=47*iter)\n",
    "\t\t\t\tf1_score, run_time = setfit_f1_score(new_train_set, new_test_set, model, loss)\n",
    "\t\t\t\tresults[key].append(f1_score)\n",
    "\t\t\t\trun_times[key].append(run_time)\n",
    "\t\t\texcept Exception as err:\n",
    "\t\t\t\tprint(key, \"failed\", str(err))\n",
    "\t\n",
    "\t\t# Additional test: no length constraint\n",
    "\t\ttry:\n",
    "\t\t\tprogress += 1\n",
    "\t\t\tprint(\"Step:\", progress, \"/\", progress_end)\n",
    "   \n",
    "\t\t\tnew_train_set = Dataset.from_pandas(train_set, split=\"train\")\n",
    "\t\t\tnew_train_set = sample_dataset(new_train_set, label_column=\"label\", num_samples=n_shot, seed=47*iter)\n",
    "\t\t\tf1_score, run_time = setfit_f1_score(new_train_set, new_test_set, model, loss)\n",
    "\t\t\tresults['all'].append(f1_score)\n",
    "\t\t\trun_times['all'].append(run_time)\n",
    "\t\texcept Exception as err:\n",
    "\t\t\t\tprint(\"all\", \"failed\", str(err))\n",
    "\treturn results, run_times"
   ]
  },
  {
   "cell_type": "markdown",
   "metadata": {},
   "source": [
    "### Distance"
   ]
  },
  {
   "cell_type": "code",
   "execution_count": 80,
   "metadata": {},
   "outputs": [],
   "source": [
    "def distance_tests(params, train_set, test_set):\n",
    "\tn_shot = params[\"n_shot\"]\n",
    "\tn_iter = params[\"n_iter\"]\n",
    "\tmodel = params[\"model\"]\n",
    "\tloss = params[\"loss\"]\n",
    "\tdistances = params[\"distance\"]\n",
    "\n",
    "\tresults = {}\n",
    "\trun_times = {}\n",
    "\tfor key in distances.keys():\n",
    "\t\tresults[key] = []\n",
    "\t\trun_times[key] = []\n",
    "\n",
    "\tnew_test_set = Dataset.from_pandas(test_set, split=\"test\")\n",
    " \n",
    "\tprogress = 0\n",
    "\tprogress_end = n_iter * (len(distances))\n",
    "\n",
    "\tfor i in range(n_iter):\n",
    "\t\tnew_train_set = Dataset.from_pandas(train_set, split=\"train\")\n",
    "\t\tnew_train_set = sample_dataset(new_train_set, label_column=\"label\", num_samples=n_shot, seed=47*i)\n",
    "\t\t\n",
    "\t\tfor key in distances.keys():\n",
    "\t\t\tprogress += 1\n",
    "\t\t\tprint(\"Step:\", progress, \"/\", progress_end)\n",
    "   \n",
    "\t\t\ttry:\n",
    "\t\t\t\tf1_score, run_time = setfit_f1_score(new_train_set, new_test_set, model, loss, distances[key])\n",
    "\t\t\t\tresults[key].append(f1_score)\n",
    "\t\t\t\trun_times[key].append(run_time)\n",
    "\t\t\texcept Exception as err:\n",
    "\t\t\t\tprint(key, \"failed\", str(err))\n",
    "\treturn results, run_times"
   ]
  },
  {
   "cell_type": "markdown",
   "metadata": {},
   "source": [
    "### Loss"
   ]
  },
  {
   "cell_type": "code",
   "execution_count": 81,
   "metadata": {},
   "outputs": [],
   "source": [
    "def loss_tests(params, train_set, test_set):\n",
    "\tn_shot = params[\"n_shot\"]\n",
    "\tn_iter = params[\"n_iter\"]\n",
    "\tmodel = params[\"model\"]\n",
    "\tlosses = params[\"loss\"]\n",
    "\n",
    "\tresults = {}\n",
    "\trun_times = {}\n",
    "\tfor key in losses.keys():\n",
    "\t\tresults[key] = []\n",
    "\t\trun_times[key] = []\n",
    "\n",
    "\tnew_test_set = Dataset.from_pandas(test_set, split=\"test\")\n",
    " \n",
    "\tprogress = 0\n",
    "\tprogress_end = n_iter * (len(losses))\n",
    "\n",
    "\tfor i in range(n_iter):\n",
    "\t\tnew_train_set = Dataset.from_pandas(train_set, split=\"train\")\n",
    "\t\tnew_train_set = sample_dataset(new_train_set, label_column=\"label\", num_samples=n_shot, seed=47*i)\n",
    "\t\t\n",
    "\t\tfor key in losses.keys():\n",
    "\t\t\tprogress += 1\n",
    "\t\t\tprint(\"Step:\", progress, \"/\", progress_end)\n",
    "   \n",
    "\t\t\ttry:\n",
    "\t\t\t\tf1_score, run_time = setfit_f1_score(new_train_set, new_test_set, model, losses[key])\n",
    "\t\t\t\tresults[key].append(f1_score)\n",
    "\t\t\t\trun_times[key].append(run_time)\n",
    "\t\t\texcept Exception as err:\n",
    "\t\t\t\tprint(key, \"failed\", str(err))\n",
    "\treturn results, run_times"
   ]
  },
  {
   "cell_type": "markdown",
   "metadata": {},
   "source": [
    "### Language"
   ]
  },
  {
   "cell_type": "code",
   "execution_count": 82,
   "metadata": {},
   "outputs": [],
   "source": [
    "def language_tests(params, train_set, test_set):\n",
    "\tn_shot = params[\"n_shot\"]\n",
    "\tn_iter = params[\"n_iter\"]\n",
    "\tmodel = params[\"model\"]\n",
    "\tloss = params[\"loss\"]\n",
    "\tlanguages = params[\"lang\"]\n",
    " \n",
    "\tresults = {}\n",
    "\trun_times = {}\n",
    "\n",
    "\tfor key in languages:\n",
    "\t\tresults[key] = []\n",
    "\t\trun_times[key] = []\n",
    "\tresults['all'] = []\n",
    "\trun_times['all'] = []\n",
    " \n",
    "\tprogress = 0\n",
    "\tprogress_end = n_iter * (len(languages) + 1)\n",
    " \n",
    "\tfor i in range(n_iter):\n",
    "\t\ttemp_train_set_panda = {}\n",
    "\t\ttemp_test_set_panda = {}\n",
    "\n",
    "\t\tfor key in languages:\n",
    "\t\t\tprogress += 1\n",
    "\t\t\tprint(\"Step:\", progress, \"/\", progress_end)\n",
    "   \n",
    "\t\t\ttemp_train_set_panda[key] = filter_dataset(train_set, lang=key)\n",
    "\t\t\ttemp_train_set = Dataset.from_pandas(temp_train_set_panda[key], split=\"train\")\n",
    "\t\t\ttemp_train_set = sample_dataset(temp_train_set, label_column=\"label\", num_samples=n_shot, seed=47*i)\n",
    "   \n",
    "\t\t\ttemp_test_set_panda[key] = filter_dataset(test_set, lang=key)\n",
    "\t\t\ttemp_test_set = Dataset.from_pandas(temp_test_set_panda[key], split=\"test\")\n",
    "\t\t\ttry:\n",
    "\t\t\t\tf1_score, run_time = setfit_f1_score(temp_train_set, temp_test_set, model, loss)\n",
    "\t\t\t\tresults[key].append(f1_score)\n",
    "\t\t\t\trun_times[key].append(run_time)\n",
    "\t\t\texcept Exception as err:\n",
    "\t\t\t\tprint(key, \"failed\", str(err))\n",
    "\t\t\t\tdel temp_train_set_panda[key]\n",
    "\t\t\t\tdel temp_test_set_panda[key]\n",
    "\t\t\n",
    "\t\tall_temp_train_set = list(temp_train_set_panda.values())\n",
    "\t\tall_temp_test_set = list(temp_train_set_panda.values())\n",
    "  \n",
    "\t\tif len(all_temp_train_set) == 0 or len(all_temp_test_set) == 0:\n",
    "\t\t\tprogress += 1\n",
    "\t\t\tprint(\"Step:\", progress, \"/\", progress_end, \"failed\")\n",
    "\t\t\tcontinue\n",
    "\n",
    "\t\tall_train_set = pd.concat(all_temp_train_set)\n",
    "\t\tall_train_set = Dataset.from_pandas(all_train_set, split=\"test\")\n",
    "\t\tall_train_set = sample_dataset(all_train_set, label_column=\"label\", num_samples=n_shot, seed=47*i)\n",
    "\t\tall_test_set = pd.concat(all_temp_test_set)\n",
    "\t\tall_test_set = Dataset.from_pandas(all_test_set, split=\"test\")\n",
    "  \n",
    "\t\ttry:\n",
    "\t\t\tprogress += 1\n",
    "\t\t\tprint(\"Step:\", progress, \"/\", progress_end)\n",
    "   \n",
    "\t\t\tf1_score, run_time = setfit_f1_score(all_train_set, all_test_set, model, loss)\n",
    "\t\t\tresults['all'].append(f1_score)\n",
    "\t\t\trun_times['all'].append(run_time)\n",
    "\t\texcept Exception as err:\n",
    "\t\t\tprint('all', \"failed\", str(err))\n",
    "\treturn results, run_times"
   ]
  },
  {
   "cell_type": "markdown",
   "metadata": {},
   "source": [
    "### Sentence transformers\n",
    "\n",
    "Test SetFit with different ST models"
   ]
  },
  {
   "cell_type": "code",
   "execution_count": 83,
   "metadata": {},
   "outputs": [],
   "source": [
    "def model_tests(params, train_set, test_set):\n",
    "\tn_shot = params[\"n_shot\"]\n",
    "\tn_iter = params[\"n_iter\"]\n",
    "\tloss = params[\"loss\"]\n",
    "\tmodels = params[\"model\"]\n",
    " \n",
    "\tresults = {}\n",
    "\trun_times = {}\n",
    "\tnew_test_set = Dataset.from_pandas(test_set, split=\"test\")\n",
    "\n",
    "\tfor key in models.keys():\n",
    "\t\tresults[key] = []\n",
    "\t\trun_times[key] = []\n",
    "\n",
    "\tprogress = 0\n",
    "\tprogress_end = n_iter * len(models)\n",
    " \n",
    "\tfor i in range(n_iter):\n",
    "\t\t# Use the same subset of the dataset for all of the tests in the following loop\n",
    "\t\tnew_train_set = Dataset.from_pandas(train_set, split=\"train\")\n",
    "\t\tnew_train_set = sample_dataset(new_train_set, label_column=\"label\", num_samples=n_shot, seed=47*i)\n",
    "\n",
    "\t\tfor key, full_model_name in models.items():\n",
    "\t\t\tprogress += 1\n",
    "\t\t\tprint(\"Step:\", progress, \"/\", progress_end)\n",
    "   \n",
    "\t\t\ttry:\n",
    "\t\t\t\tf1_score, run_time = setfit_f1_score(new_train_set, new_test_set, full_model_name, loss)\n",
    "\t\t\t\tresults[key].append(f1_score)\n",
    "\t\t\t\trun_times[key].append(run_time)\n",
    "\t\t\texcept Exception as err:\n",
    "\t\t\t\tprint(key, \"failed\", str(err))\n",
    "\treturn results, run_times"
   ]
  },
  {
   "cell_type": "markdown",
   "metadata": {},
   "source": [
    "## Run tests"
   ]
  },
  {
   "cell_type": "code",
   "execution_count": 84,
   "metadata": {},
   "outputs": [],
   "source": [
    "def loss_to_str(loss):\n",
    "    if loss == CosineSimilarityLoss:\n",
    "        return \"Cosine\"\n",
    "    elif loss == BatchAllTripletLoss:\n",
    "        return \"Triplet\"\n",
    "    else:\n",
    "        return \"\""
   ]
  },
  {
   "cell_type": "markdown",
   "metadata": {},
   "source": [
    "### N-shots"
   ]
  },
  {
   "cell_type": "markdown",
   "metadata": {},
   "source": [
    "By default SetFit uses the oversampling strategy and the Cosine Similarity loss. For instance if we have 8 positive and 8 negative examples then we have:\n",
    "\n",
    "|   | Y | Y | Y | Y | Y | Y | Y | Y | N | N | N | N | N | N | N | N |\n",
    "|---|---|---|---|---|---|---|---|---|---|---|---|---|---|---|---|---|\n",
    "| Y | + | + | + | + | + | + | + | + | - | - | - | - | - | - | - | - |\n",
    "| Y |   | + | + | + | + | + | + | + | - | - | - | - | - | - | - | - |\n",
    "| Y |   |   | + | + | + | + | + | + | - | - | - | - | - | - | - | - |\n",
    "| Y |   |   |   | + | + | + | + | + | - | - | - | - | - | - | - | - |\n",
    "| Y |   |   |   |   | + | + | + | + | - | - | - | - | - | - | - | - |\n",
    "| Y |   |   |   |   |   | + | + | + | - | - | - | - | - | - | - | - |\n",
    "| Y |   |   |   |   |   |   | + | + | - | - | - | - | - | - | - | - |\n",
    "| Y |   |   |   |   |   |   |   | + | - | - | - | - | - | - | - | - |\n",
    "| N |   |   |   |   |   |   |   |   | + | + | + | + | + | + | + | + |\n",
    "| N |   |   |   |   |   |   |   |   |   | + | + | + | + | + | + | + |\n",
    "| N |   |   |   |   |   |   |   |   |   |   | + | + | + | + | + | + |\n",
    "| N |   |   |   |   |   |   |   |   |   |   |   | + | + | + | + | + |\n",
    "| N |   |   |   |   |   |   |   |   |   |   |   |   | + | + | + | + |\n",
    "| N |   |   |   |   |   |   |   |   |   |   |   |   |   | + | + | + |\n",
    "| N |   |   |   |   |   |   |   |   |   |   |   |   |   |   | + | + |\n",
    "| N |   |   |   |   |   |   |   |   |   |   |   |   |   |   |   | + |\n",
    "\n",
    "- P = 2 * (8 + 7 + 6 + 5 + 4 + 3 + 2 + 1) \t= 72\n",
    "- N = 8 * 8 = 64 -> + 8 duplications \t\t= 72\n",
    "- Total = 72 + 72 = 144"
   ]
  },
  {
   "cell_type": "code",
   "execution_count": 14,
   "metadata": {},
   "outputs": [
    {
     "name": "stdout",
     "output_type": "stream",
     "text": [
      "Step: 1 / 410\n",
      "Step: 2 / 410\n",
      "Step: 3 / 410\n",
      "Step: 4 / 410\n",
      "Step: 5 / 410\n",
      "Step: 6 / 410\n",
      "Step: 7 / 410\n",
      "Step: 8 / 410\n",
      "Step: 9 / 410\n",
      "Step: 10 / 410\n",
      "Step: 11 / 410\n",
      "Step: 12 / 410\n",
      "Step: 13 / 410\n",
      "Step: 14 / 410\n",
      "Step: 15 / 410\n",
      "Step: 16 / 410\n",
      "Step: 17 / 410\n",
      "Step: 18 / 410\n",
      "Step: 19 / 410\n",
      "Step: 20 / 410\n",
      "Step: 21 / 410\n",
      "Step: 22 / 410\n",
      "Step: 23 / 410\n",
      "Step: 24 / 410\n",
      "Step: 25 / 410\n",
      "Step: 26 / 410\n",
      "Step: 27 / 410\n",
      "Step: 28 / 410\n",
      "Step: 29 / 410\n",
      "Step: 30 / 410\n",
      "Step: 31 / 410\n",
      "Step: 32 / 410\n",
      "Step: 33 / 410\n",
      "Step: 34 / 410\n",
      "Step: 35 / 410\n",
      "Step: 36 / 410\n",
      "Step: 37 / 410\n",
      "Step: 38 / 410\n",
      "Step: 39 / 410\n",
      "Step: 40 / 410\n",
      "Step: 41 / 410\n",
      "Step: 42 / 410\n",
      "Step: 43 / 410\n",
      "Step: 44 / 410\n",
      "Step: 45 / 410\n",
      "Step: 46 / 410\n",
      "Step: 47 / 410\n",
      "Step: 48 / 410\n",
      "Step: 49 / 410\n",
      "Step: 50 / 410\n",
      "Step: 51 / 410\n",
      "Step: 52 / 410\n",
      "Step: 53 / 410\n",
      "Step: 54 / 410\n",
      "Step: 55 / 410\n",
      "Step: 56 / 410\n",
      "Step: 57 / 410\n",
      "Step: 58 / 410\n",
      "Step: 59 / 410\n",
      "Step: 60 / 410\n",
      "Step: 61 / 410\n",
      "Step: 62 / 410\n",
      "Step: 63 / 410\n",
      "Step: 64 / 410\n",
      "Step: 65 / 410\n",
      "Step: 66 / 410\n",
      "Step: 67 / 410\n",
      "Step: 68 / 410\n",
      "Step: 69 / 410\n",
      "Step: 70 / 410\n",
      "Step: 71 / 410\n",
      "Step: 72 / 410\n",
      "Step: 73 / 410\n",
      "Step: 74 / 410\n",
      "Step: 75 / 410\n",
      "Step: 76 / 410\n",
      "Step: 77 / 410\n",
      "Step: 78 / 410\n",
      "Step: 79 / 410\n",
      "Step: 80 / 410\n",
      "Step: 81 / 410\n",
      "Step: 82 / 410\n",
      "Step: 83 / 410\n",
      "Step: 84 / 410\n",
      "Step: 85 / 410\n",
      "Step: 86 / 410\n",
      "Step: 87 / 410\n",
      "Step: 88 / 410\n",
      "Step: 89 / 410\n",
      "Step: 90 / 410\n",
      "Step: 91 / 410\n",
      "Step: 92 / 410\n",
      "Step: 93 / 410\n",
      "Step: 94 / 410\n",
      "Step: 95 / 410\n",
      "Step: 96 / 410\n",
      "Step: 97 / 410\n",
      "Step: 98 / 410\n",
      "Step: 99 / 410\n",
      "Step: 100 / 410\n",
      "Step: 101 / 410\n",
      "Step: 102 / 410\n",
      "Step: 103 / 410\n",
      "Step: 104 / 410\n",
      "Step: 105 / 410\n",
      "Step: 106 / 410\n",
      "Step: 107 / 410\n",
      "Step: 108 / 410\n",
      "Step: 109 / 410\n",
      "Step: 110 / 410\n",
      "Step: 111 / 410\n",
      "Step: 112 / 410\n",
      "Step: 113 / 410\n",
      "Step: 114 / 410\n",
      "Step: 115 / 410\n",
      "Step: 116 / 410\n",
      "Step: 117 / 410\n",
      "Step: 118 / 410\n",
      "Step: 119 / 410\n",
      "Step: 120 / 410\n",
      "Step: 121 / 410\n",
      "Step: 122 / 410\n",
      "Step: 123 / 410\n",
      "Step: 124 / 410\n",
      "Step: 125 / 410\n",
      "Step: 126 / 410\n",
      "Step: 127 / 410\n",
      "Step: 128 / 410\n",
      "Step: 129 / 410\n",
      "Step: 130 / 410\n",
      "Step: 131 / 410\n",
      "Step: 132 / 410\n",
      "Step: 133 / 410\n",
      "Step: 134 / 410\n",
      "Step: 135 / 410\n",
      "Step: 136 / 410\n",
      "Step: 137 / 410\n",
      "Step: 138 / 410\n",
      "Step: 139 / 410\n",
      "Step: 140 / 410\n",
      "Step: 141 / 410\n",
      "Step: 142 / 410\n",
      "Step: 143 / 410\n",
      "Step: 144 / 410\n",
      "Step: 145 / 410\n",
      "Step: 146 / 410\n",
      "Step: 147 / 410\n",
      "Step: 148 / 410\n",
      "Step: 149 / 410\n",
      "Step: 150 / 410\n",
      "Step: 151 / 410\n",
      "Step: 152 / 410\n",
      "Step: 153 / 410\n",
      "Step: 154 / 410\n",
      "Step: 155 / 410\n",
      "Step: 156 / 410\n",
      "Step: 157 / 410\n",
      "Step: 158 / 410\n",
      "Step: 159 / 410\n",
      "Step: 160 / 410\n",
      "Step: 161 / 410\n",
      "Step: 162 / 410\n",
      "Step: 163 / 410\n",
      "Step: 164 / 410\n",
      "Step: 165 / 410\n",
      "Step: 166 / 410\n",
      "Step: 167 / 410\n",
      "Step: 168 / 410\n",
      "Step: 169 / 410\n",
      "Step: 170 / 410\n",
      "Step: 171 / 410\n",
      "Step: 172 / 410\n",
      "Step: 173 / 410\n",
      "Step: 174 / 410\n",
      "Step: 175 / 410\n",
      "Step: 176 / 410\n",
      "Step: 177 / 410\n",
      "Step: 178 / 410\n",
      "Step: 179 / 410\n",
      "Step: 180 / 410\n",
      "Step: 181 / 410\n",
      "Step: 182 / 410\n",
      "Step: 183 / 410\n",
      "Step: 184 / 410\n",
      "Step: 185 / 410\n",
      "Step: 186 / 410\n",
      "Step: 187 / 410\n",
      "Step: 188 / 410\n",
      "Step: 189 / 410\n",
      "Step: 190 / 410\n",
      "Step: 191 / 410\n",
      "Step: 192 / 410\n",
      "Step: 193 / 410\n",
      "Step: 194 / 410\n",
      "Step: 195 / 410\n",
      "Step: 196 / 410\n",
      "Step: 197 / 410\n",
      "Step: 198 / 410\n",
      "Step: 199 / 410\n",
      "Step: 200 / 410\n",
      "Step: 201 / 410\n",
      "Step: 202 / 410\n",
      "Step: 203 / 410\n",
      "Step: 204 / 410\n",
      "Step: 205 / 410\n",
      "Step: 206 / 410\n",
      "Step: 207 / 410\n",
      "Step: 208 / 410\n",
      "Step: 209 / 410\n",
      "Step: 210 / 410\n",
      "Step: 211 / 410\n",
      "Step: 212 / 410\n",
      "Step: 213 / 410\n",
      "Step: 214 / 410\n",
      "Step: 215 / 410\n",
      "Step: 216 / 410\n",
      "Step: 217 / 410\n",
      "Step: 218 / 410\n",
      "Step: 219 / 410\n",
      "Step: 220 / 410\n",
      "Step: 221 / 410\n",
      "Step: 222 / 410\n",
      "Step: 223 / 410\n",
      "Step: 224 / 410\n",
      "Step: 225 / 410\n",
      "Step: 226 / 410\n",
      "Step: 227 / 410\n",
      "Step: 228 / 410\n",
      "Step: 229 / 410\n",
      "Step: 230 / 410\n",
      "Step: 231 / 410\n",
      "Step: 232 / 410\n",
      "Step: 233 / 410\n",
      "Step: 234 / 410\n",
      "Step: 235 / 410\n",
      "Step: 236 / 410\n",
      "Step: 237 / 410\n",
      "Step: 238 / 410\n",
      "Step: 239 / 410\n",
      "Step: 240 / 410\n",
      "Step: 241 / 410\n",
      "Step: 242 / 410\n",
      "Step: 243 / 410\n",
      "Step: 244 / 410\n",
      "Step: 245 / 410\n",
      "Step: 246 / 410\n",
      "Step: 247 / 410\n",
      "Step: 248 / 410\n",
      "Step: 249 / 410\n",
      "Step: 250 / 410\n",
      "Step: 251 / 410\n",
      "Step: 252 / 410\n",
      "Step: 253 / 410\n",
      "Step: 254 / 410\n",
      "Step: 255 / 410\n",
      "Step: 256 / 410\n",
      "Step: 257 / 410\n",
      "Step: 258 / 410\n",
      "Step: 259 / 410\n",
      "Step: 260 / 410\n",
      "Step: 261 / 410\n",
      "Step: 262 / 410\n",
      "Step: 263 / 410\n",
      "Step: 264 / 410\n",
      "Step: 265 / 410\n",
      "Step: 266 / 410\n",
      "Step: 267 / 410\n",
      "Step: 268 / 410\n",
      "Step: 269 / 410\n",
      "Step: 270 / 410\n",
      "Step: 271 / 410\n",
      "Step: 272 / 410\n",
      "Step: 273 / 410\n",
      "Step: 274 / 410\n",
      "Step: 275 / 410\n",
      "Step: 276 / 410\n",
      "Step: 277 / 410\n",
      "Step: 278 / 410\n",
      "Step: 279 / 410\n",
      "Step: 280 / 410\n",
      "Step: 281 / 410\n",
      "Step: 282 / 410\n",
      "Step: 283 / 410\n",
      "Step: 284 / 410\n",
      "Step: 285 / 410\n",
      "Step: 286 / 410\n",
      "Step: 287 / 410\n",
      "Step: 288 / 410\n",
      "Step: 289 / 410\n",
      "Step: 290 / 410\n",
      "Step: 291 / 410\n",
      "Step: 292 / 410\n",
      "Step: 293 / 410\n",
      "Step: 294 / 410\n",
      "Step: 295 / 410\n",
      "Step: 296 / 410\n",
      "Step: 297 / 410\n",
      "Step: 298 / 410\n",
      "Step: 299 / 410\n",
      "Step: 300 / 410\n",
      "Step: 301 / 410\n",
      "Step: 302 / 410\n",
      "Step: 303 / 410\n",
      "Step: 304 / 410\n",
      "Step: 305 / 410\n",
      "Step: 306 / 410\n",
      "Step: 307 / 410\n",
      "Step: 308 / 410\n",
      "Step: 309 / 410\n",
      "Step: 310 / 410\n",
      "Step: 311 / 410\n",
      "Step: 312 / 410\n",
      "Step: 313 / 410\n",
      "Step: 314 / 410\n",
      "Step: 315 / 410\n",
      "Step: 316 / 410\n",
      "Step: 317 / 410\n",
      "Step: 318 / 410\n",
      "Step: 319 / 410\n",
      "Step: 320 / 410\n",
      "Step: 321 / 410\n",
      "Step: 322 / 410\n",
      "Step: 323 / 410\n",
      "Step: 324 / 410\n",
      "Step: 325 / 410\n",
      "Step: 326 / 410\n",
      "Step: 327 / 410\n",
      "Step: 328 / 410\n",
      "Step: 329 / 410\n",
      "Step: 330 / 410\n",
      "Step: 331 / 410\n",
      "Step: 332 / 410\n",
      "Step: 333 / 410\n",
      "Step: 334 / 410\n",
      "Step: 335 / 410\n",
      "Step: 336 / 410\n",
      "Step: 337 / 410\n",
      "Step: 338 / 410\n",
      "Step: 339 / 410\n",
      "Step: 340 / 410\n",
      "Step: 341 / 410\n",
      "Step: 342 / 410\n",
      "Step: 343 / 410\n",
      "Step: 344 / 410\n",
      "Step: 345 / 410\n",
      "Step: 346 / 410\n",
      "Step: 347 / 410\n",
      "Step: 348 / 410\n",
      "Step: 349 / 410\n",
      "Step: 350 / 410\n",
      "Step: 351 / 410\n",
      "Step: 352 / 410\n",
      "Step: 353 / 410\n",
      "Step: 354 / 410\n",
      "Step: 355 / 410\n",
      "Step: 356 / 410\n",
      "Step: 357 / 410\n",
      "Step: 358 / 410\n",
      "Step: 359 / 410\n",
      "Step: 360 / 410\n",
      "Step: 361 / 410\n",
      "Step: 362 / 410\n",
      "Step: 363 / 410\n",
      "Step: 364 / 410\n",
      "Step: 365 / 410\n",
      "Step: 366 / 410\n",
      "Step: 367 / 410\n",
      "Step: 368 / 410\n",
      "Step: 369 / 410\n",
      "Step: 370 / 410\n",
      "Step: 371 / 410\n",
      "Step: 372 / 410\n",
      "Step: 373 / 410\n",
      "Step: 374 / 410\n",
      "Step: 375 / 410\n",
      "Step: 376 / 410\n",
      "Step: 377 / 410\n",
      "Step: 378 / 410\n",
      "Step: 379 / 410\n",
      "Step: 380 / 410\n",
      "Step: 381 / 410\n",
      "Step: 382 / 410\n",
      "Step: 383 / 410\n",
      "Step: 384 / 410\n",
      "Step: 385 / 410\n",
      "Step: 386 / 410\n",
      "Step: 387 / 410\n",
      "Step: 388 / 410\n",
      "Step: 389 / 410\n",
      "Step: 390 / 410\n",
      "Step: 391 / 410\n",
      "Step: 392 / 410\n",
      "Step: 393 / 410\n",
      "Step: 394 / 410\n",
      "Step: 395 / 410\n",
      "Step: 396 / 410\n",
      "Step: 397 / 410\n",
      "Step: 398 / 410\n",
      "Step: 399 / 410\n",
      "Step: 400 / 410\n",
      "Step: 401 / 410\n",
      "Step: 402 / 410\n",
      "Step: 403 / 410\n",
      "Step: 404 / 410\n",
      "Step: 405 / 410\n",
      "Step: 406 / 410\n",
      "Step: 407 / 410\n",
      "Step: 408 / 410\n",
      "Step: 409 / 410\n",
      "Step: 410 / 410\n"
     ]
    }
   ],
   "source": [
    "params = {\n",
    "\t\"n_shot\": [2, 4, 6, 10, 20, 40, 60, 100],\n",
    "\t\"n_iter\": 10,\n",
    " \t\"n_max_iter_per_shot\": 10,\n",
    "\t\"model\": \"sentence-transformers/paraphrase-mpnet-base-v2\",\n",
    "\t\"loss\": BatchAllTripletLoss\n",
    "}\n",
    "\n",
    "results, run_times = n_shot_tests(params, train_set, test_set)\n",
    "\n",
    "params[\"loss\"] = loss_to_str(params[\"loss\"])\n",
    "save_to_json({\"results\":results, \"run_times\":run_times, \"params\": params},  r'../results/setfit/n_shot')"
   ]
  },
  {
   "cell_type": "markdown",
   "metadata": {},
   "source": [
    "### Input length"
   ]
  },
  {
   "cell_type": "code",
   "execution_count": 15,
   "metadata": {},
   "outputs": [
    {
     "name": "stdout",
     "output_type": "stream",
     "text": [
      "Step: 1 / 60\n",
      "Step: 2 / 60\n",
      "Step: 3 / 60\n",
      "Step: 4 / 60\n",
      "Step: 5 / 60\n",
      "Step: 6 / 60\n",
      "Step: 7 / 60\n",
      "Step: 8 / 60\n",
      "Step: 9 / 60\n",
      "Step: 10 / 60\n",
      "Step: 11 / 60\n",
      "Step: 12 / 60\n",
      "Step: 13 / 60\n",
      "Step: 14 / 60\n",
      "Step: 15 / 60\n",
      "Step: 16 / 60\n",
      "Step: 17 / 60\n",
      "Step: 18 / 60\n",
      "Step: 19 / 60\n",
      "Step: 20 / 60\n",
      "Step: 21 / 60\n",
      "Step: 22 / 60\n",
      "Step: 23 / 60\n",
      "Step: 24 / 60\n",
      "Step: 25 / 60\n",
      "Step: 26 / 60\n",
      "Step: 27 / 60\n",
      "Step: 28 / 60\n",
      "Step: 29 / 60\n",
      "Step: 30 / 60\n",
      "Step: 31 / 60\n",
      "Step: 32 / 60\n",
      "Step: 33 / 60\n",
      "Step: 34 / 60\n",
      "Step: 35 / 60\n",
      "Step: 36 / 60\n",
      "Step: 37 / 60\n",
      "Step: 38 / 60\n",
      "Step: 39 / 60\n",
      "Step: 40 / 60\n",
      "Step: 41 / 60\n",
      "Step: 42 / 60\n",
      "Step: 43 / 60\n",
      "Step: 44 / 60\n",
      "Step: 45 / 60\n",
      "Step: 46 / 60\n",
      "Step: 47 / 60\n",
      "Step: 48 / 60\n",
      "Step: 49 / 60\n",
      "Step: 50 / 60\n",
      "Step: 51 / 60\n",
      "Step: 52 / 60\n",
      "Step: 53 / 60\n",
      "Step: 54 / 60\n",
      "Step: 55 / 60\n",
      "Step: 56 / 60\n",
      "Step: 57 / 60\n",
      "Step: 58 / 60\n",
      "Step: 59 / 60\n",
      "Step: 60 / 60\n"
     ]
    }
   ],
   "source": [
    "params = {\n",
    "    \"input_length_range\": [(0,5),(0,10),(0,100),(6,100),(200,350)],\n",
    "\t\"n_shot\": 8,\n",
    "\t\"n_iter\": 10,\n",
    "\t\"model\": \"sentence-transformers/paraphrase-mpnet-base-v2\",\n",
    "\t\"loss\": BatchAllTripletLoss\n",
    "}\n",
    "\n",
    "results, run_times = input_length_tests(params, train_set, test_set)\n",
    "\n",
    "params[\"loss\"] = loss_to_str(params[\"loss\"])\n",
    "save_to_json({\"results\":results, \"run_times\":run_times, \"params\": params},  r'../results/setfit/input_length')"
   ]
  },
  {
   "cell_type": "markdown",
   "metadata": {},
   "source": [
    "### Distance"
   ]
  },
  {
   "cell_type": "code",
   "execution_count": 86,
   "metadata": {},
   "outputs": [
    {
     "name": "stdout",
     "output_type": "stream",
     "text": [
      "Step: 1 / 20\n",
      "Step: 2 / 20\n",
      "Step: 3 / 20\n",
      "Step: 4 / 20\n",
      "Step: 5 / 20\n",
      "Step: 6 / 20\n",
      "Step: 7 / 20\n",
      "Step: 8 / 20\n",
      "Step: 9 / 20\n",
      "Step: 10 / 20\n",
      "Step: 11 / 20\n",
      "Step: 12 / 20\n",
      "Step: 13 / 20\n",
      "Step: 14 / 20\n",
      "Step: 15 / 20\n",
      "Step: 16 / 20\n",
      "Step: 17 / 20\n",
      "Step: 18 / 20\n",
      "Step: 19 / 20\n",
      "Step: 20 / 20\n"
     ]
    }
   ],
   "source": [
    "params = {\n",
    "\t\"n_shot\": 8,\n",
    "\t\"n_iter\": 10,\n",
    "\t\"model\": \"sentence-transformers/paraphrase-mpnet-base-v2\",\n",
    "\t\"distance\": {\n",
    "\t\t\"Cosine\":BatchHardTripletLossDistanceFunction.cosine_distance,\n",
    "\t\t\"Euclidian\": BatchHardTripletLossDistanceFunction.eucledian_distance, # it's really \"eucledian\" and not \"euclidian\" in the module sentence_transformers\n",
    "\t},\n",
    "\t\"loss\": BatchAllTripletLoss,\n",
    "}\n",
    "\n",
    "\n",
    "results, run_times = distance_tests(params, train_set, test_set)\n",
    "\n",
    "for key in params[\"distance\"].keys():\n",
    "    params[\"distance\"][key] = key\n",
    "params[\"loss\"] = loss_to_str(params[\"loss\"])\n",
    "save_to_json({\"results\":results, \"run_times\":run_times, \"params\": params},  r'../results/setfit/distance')"
   ]
  },
  {
   "cell_type": "markdown",
   "metadata": {},
   "source": [
    "### Loss (pair-wise or Triplet)"
   ]
  },
  {
   "cell_type": "code",
   "execution_count": 87,
   "metadata": {},
   "outputs": [
    {
     "name": "stdout",
     "output_type": "stream",
     "text": [
      "Step: 1 / 20\n",
      "Step: 2 / 20\n",
      "Step: 3 / 20\n",
      "Step: 4 / 20\n",
      "Step: 5 / 20\n",
      "Step: 6 / 20\n",
      "Step: 7 / 20\n",
      "Step: 8 / 20\n",
      "Step: 9 / 20\n",
      "Step: 10 / 20\n",
      "Step: 11 / 20\n",
      "Step: 12 / 20\n",
      "Step: 13 / 20\n",
      "Step: 14 / 20\n",
      "Step: 15 / 20\n",
      "Step: 16 / 20\n",
      "Step: 17 / 20\n",
      "Step: 18 / 20\n",
      "Step: 19 / 20\n",
      "Step: 20 / 20\n"
     ]
    }
   ],
   "source": [
    "params = {\n",
    "\t\"n_shot\": 8,\n",
    "\t\"n_iter\": 10,\n",
    "\t\"model\": \"sentence-transformers/paraphrase-mpnet-base-v2\",\n",
    "\t\"loss\": {\"Cosine\":CosineSimilarityLoss, \"Triplet\":BatchAllTripletLoss}\n",
    "}\n",
    "\n",
    "\n",
    "results, run_times = loss_tests(params, train_set, test_set)\n",
    "\n",
    "for key in params[\"loss\"].keys():\n",
    "    params[\"loss\"][key] = key\n",
    "save_to_json({\"results\":results, \"run_times\":run_times, \"params\": params},  r'../results/setfit/loss')"
   ]
  },
  {
   "cell_type": "markdown",
   "metadata": {},
   "source": [
    "### Language"
   ]
  },
  {
   "cell_type": "code",
   "execution_count": null,
   "metadata": {},
   "outputs": [
    {
     "name": "stdout",
     "output_type": "stream",
     "text": [
      "Step: 1 / 30\n",
      "Step: 2 / 30\n",
      "Step: 3 / 30\n",
      "Step: 4 / 30\n",
      "Step: 5 / 30\n",
      "Step: 6 / 30\n",
      "Step: 7 / 30\n",
      "Step: 8 / 30\n",
      "Step: 9 / 30\n",
      "Step: 10 / 30\n",
      "Step: 11 / 30\n",
      "Step: 12 / 30\n",
      "Step: 13 / 30\n",
      "Step: 14 / 30\n",
      "Step: 15 / 30\n",
      "Step: 16 / 30\n",
      "Step: 17 / 30\n",
      "Step: 18 / 30\n",
      "Step: 19 / 30\n",
      "Step: 20 / 30\n",
      "Step: 21 / 30\n",
      "Step: 22 / 30\n",
      "Step: 23 / 30\n",
      "Step: 24 / 30\n",
      "Step: 25 / 30\n",
      "Step: 26 / 30\n",
      "Step: 27 / 30\n",
      "Step: 28 / 30\n",
      "Step: 29 / 30\n",
      "Step: 30 / 30\n"
     ]
    }
   ],
   "source": [
    "params = {\n",
    "\t\"n_shot\": 8,\n",
    "\t\"lang\": ['fr','en'],\n",
    "\t\"n_iter\": 10,\n",
    "\t\"model\": \"sentence-transformers/paraphrase-mpnet-base-v2\",\n",
    "\t\"loss\": BatchAllTripletLoss\n",
    "}\n",
    "\n",
    "results, run_times = language_tests(params, train_set, test_set)\n",
    "\n",
    "params[\"loss\"] = loss_to_str(params[\"loss\"])\n",
    "save_to_json({\"results\":results, \"run_times\":run_times, \"params\": params},  r'../results/setfit/language')"
   ]
  },
  {
   "cell_type": "markdown",
   "metadata": {},
   "source": [
    "### Sentence transformers"
   ]
  },
  {
   "cell_type": "code",
   "execution_count": 21,
   "metadata": {},
   "outputs": [
    {
     "name": "stdout",
     "output_type": "stream",
     "text": [
      "Step: 1 / 90\n",
      "Step: 2 / 90\n",
      "Step: 3 / 90\n",
      "Step: 4 / 90\n",
      "Step: 5 / 90\n",
      "Step: 6 / 90\n",
      "Step: 7 / 90\n",
      "Step: 8 / 90\n",
      "Step: 9 / 90\n",
      "Step: 10 / 90\n",
      "Step: 11 / 90\n",
      "Step: 12 / 90\n",
      "Step: 13 / 90\n",
      "Step: 14 / 90\n",
      "Step: 15 / 90\n",
      "Step: 16 / 90\n",
      "Step: 17 / 90\n",
      "Step: 18 / 90\n",
      "Step: 19 / 90\n",
      "Step: 20 / 90\n",
      "Step: 21 / 90\n",
      "Step: 22 / 90\n",
      "Step: 23 / 90\n",
      "Step: 24 / 90\n",
      "Step: 25 / 90\n",
      "Step: 26 / 90\n",
      "Step: 27 / 90\n",
      "Step: 28 / 90\n",
      "Step: 29 / 90\n",
      "Step: 30 / 90\n",
      "Step: 31 / 90\n",
      "Step: 32 / 90\n",
      "Step: 33 / 90\n",
      "Step: 34 / 90\n",
      "Step: 35 / 90\n",
      "Step: 36 / 90\n",
      "Step: 37 / 90\n",
      "Step: 38 / 90\n",
      "Step: 39 / 90\n",
      "Step: 40 / 90\n",
      "Step: 41 / 90\n",
      "Step: 42 / 90\n",
      "Step: 43 / 90\n",
      "Step: 44 / 90\n",
      "Step: 45 / 90\n",
      "Step: 46 / 90\n",
      "Step: 47 / 90\n",
      "Step: 48 / 90\n",
      "Step: 49 / 90\n",
      "Step: 50 / 90\n",
      "Step: 51 / 90\n",
      "Step: 52 / 90\n",
      "Step: 53 / 90\n",
      "Step: 54 / 90\n",
      "Step: 55 / 90\n",
      "Step: 56 / 90\n",
      "Step: 57 / 90\n",
      "Step: 58 / 90\n",
      "Step: 59 / 90\n",
      "Step: 60 / 90\n",
      "Step: 61 / 90\n",
      "Step: 62 / 90\n",
      "Step: 63 / 90\n",
      "Step: 64 / 90\n",
      "Step: 65 / 90\n",
      "Step: 66 / 90\n",
      "Step: 67 / 90\n",
      "Step: 68 / 90\n",
      "Step: 69 / 90\n",
      "Step: 70 / 90\n",
      "Step: 71 / 90\n",
      "Step: 72 / 90\n",
      "Step: 73 / 90\n",
      "Step: 74 / 90\n",
      "Step: 75 / 90\n",
      "Step: 76 / 90\n",
      "Step: 77 / 90\n",
      "Step: 78 / 90\n",
      "Step: 79 / 90\n",
      "Step: 80 / 90\n",
      "Step: 81 / 90\n",
      "Step: 82 / 90\n",
      "Step: 83 / 90\n",
      "Step: 84 / 90\n",
      "Step: 85 / 90\n",
      "Step: 86 / 90\n",
      "Step: 87 / 90\n",
      "Step: 88 / 90\n",
      "Step: 89 / 90\n",
      "Step: 90 / 90\n"
     ]
    }
   ],
   "source": [
    "params = {\n",
    "\t\"n_shot\": 8,\n",
    "\t\"n_iter\": 10,\n",
    "\t\"loss\": BatchAllTripletLoss,\n",
    "\t\"model\": {\n",
    "\t\t\"paraphrase-mpnet-base-v2\": \"sentence-transformers/paraphrase-mpnet-base-v2\",\n",
    "\t\t\"all-MiniLM-L6-v2\": \"sentence-transformers/all-MiniLM-L6-v2\",\n",
    "\t\t\"paraphrase-multilingual-MiniLM-L12-v2\": \"sentence-transformers/paraphrase-multilingual-MiniLM-L12-v2\",\n",
    "\t\t\"paraphrase-multilingual-mpnet-base-v2\": \"sentence-transformers/paraphrase-multilingual-mpnet-base-v2\",\n",
    "\t\t\"multilingual-e5-small\": \"intfloat/multilingual-e5-small\",\n",
    "\t\t\"all-distilroberta-v1\": \"sentence-transformers/all-distilroberta-v1\",\n",
    "\t\t\"msmarco-distilbert-dot-v5\": \"sentence-transformers/msmarco-distilbert-dot-v5\",\n",
    "\t\t\"bge-small-en-v1.5\": \"BAAI/bge-small-en-v1.5\",\n",
    "\t\t\"all-roberta-large-v1\": \"sentence-transformers/all-roberta-large-v1\"\n",
    "\t}\n",
    "}\n",
    "\n",
    "results, run_times = model_tests(params, train_set, test_set)\n",
    "\n",
    "params[\"loss\"] = loss_to_str(params[\"loss\"])\n",
    "save_to_json({\"results\":results, \"run_times\":run_times, \"params\": params},  r'../results/setfit/model')"
   ]
  },
  {
   "cell_type": "markdown",
   "metadata": {},
   "source": [
    "## Graphs"
   ]
  },
  {
   "cell_type": "code",
   "execution_count": 88,
   "metadata": {},
   "outputs": [],
   "source": [
    "import matplotlib.pyplot as plt\n",
    "\n",
    "def load_results_data(filename, folder):\n",
    "\twith open(folder+\"/\"+filename, 'r') as file:\n",
    "\t\tdata = json.load(file)\n",
    " \n",
    "\treturn data['results'], data['run_times']\n",
    "\n",
    "def load_latest_results_data(folder):\n",
    "\tfilenames = os.listdir(folder)\n",
    "\tlatest = max(filenames, key=lambda x: os.path.getmtime(os.path.join(folder, x)))\n",
    "\treturn load_results_data(latest, folder)\n",
    "\n",
    "def create_scatter_line_plot(data, title, xlabel, ylabel):\n",
    "\tresultsMeans = {}\n",
    "\n",
    "\tfor key in data.keys():\n",
    "\t\tif len(data[key]) > 0:\n",
    "\t\t\tresultsMeans[key] = np.mean(data[key])\n",
    "\t\telse:\n",
    "\t\t\tresultsMeans[key] = 0.0\n",
    "\n",
    "\txMean = list(resultsMeans.keys())\n",
    "\tyMean = list(resultsMeans.values())\n",
    "\n",
    "\tlistOfLists = list(data.values())\n",
    "\n",
    "\txAll = []\n",
    "\tfor i in range(len(listOfLists)): # for each key\n",
    "\t\tfor _ in range(len(listOfLists[i])): # for each repetition of the key\n",
    "\t\t\txAll.append(xMean[i])\n",
    "\tyAll = np.concatenate(list(data.values()))\n",
    "\t\n",
    "\tplt.figure(figsize=(8, 6))\n",
    "\tplt.plot(xMean, yMean, marker='', linestyle='-')\n",
    "\tplt.scatter(xAll, yAll)\n",
    "\t\n",
    "\tfor i in range(len(xMean)):\n",
    "\t\tplt.text(xMean[i], yMean[i], f'{yMean[i]:.2f}', ha='center', bbox = dict(facecolor = 'white', alpha =.8))\n",
    "\t\n",
    "\tplt.title(title)\n",
    "\tplt.xlabel(xlabel)\n",
    "\tplt.ylabel(ylabel)\n",
    "\t\n",
    "\tplt.grid(True)\n",
    "\tplt.show()\n",
    "\n",
    "def create_bar_plot(data, title, xlabel, ylabel, vertical_xticks=False):\n",
    "\tresultsMeans = {}\n",
    "\n",
    "\tfor key in data.keys():\n",
    "\t\tif len(data[key]) > 0:\n",
    "\t\t\tresultsMeans[key] = np.mean(data[key])\n",
    "\n",
    "\txMean = list(resultsMeans.keys())\n",
    "\tyMean = list(resultsMeans.values())\n",
    "\t\n",
    "\tplt.figure(figsize=(11, 6))\n",
    "\tif vertical_xticks:\n",
    "\t\tplt.xticks(fontsize=15, rotation='vertical')\n",
    "\telse:\n",
    "\t\tplt.xticks(fontsize=15)\n",
    "\tplt.yticks(fontsize=15)\n",
    "\n",
    "\tfor i in range(len(xMean)):\n",
    "\t\tplt.text(i, yMean[i], f'{yMean[i]:.2f}', ha = 'center', bbox = dict(facecolor = 'white', alpha =.8))\n",
    " \n",
    "\tplt.bar(xMean, yMean)\n",
    "\n",
    "\tplt.title(title)\n",
    "\tplt.xlabel(xlabel)\n",
    "\tplt.ylabel(ylabel)\n",
    "\n",
    "\tplt.show()\n",
    " \n",
    " \n",
    "def create_boxplot(data, title, xlabel, ylabel):\n",
    "\tmedians = {}\n",
    "\tfor key, value in data.items():\n",
    "\t\tmedians[key] = np.median(value)\n",
    "\n",
    "\tplt.figure(figsize=(8, 6))\n",
    "\tplt.boxplot(data.values())\n",
    "\tplt.xticks(ticks=list(range(1,len(data)+1)) ,labels=data.keys())\n",
    "\t\n",
    "\ti = 1 \n",
    "\tfor key in data.keys():\n",
    "\t\tplt.text(i, medians[key], f'{medians[key]:.2f}', ha='center', bbox = dict(facecolor = 'white', alpha =.8))\n",
    "\t\ti += 1\n",
    "\t\n",
    "\tplt.title(title)\n",
    "\tplt.xlabel(xlabel)\n",
    "\tplt.ylabel(ylabel)\n",
    "\t\n",
    "\tplt.grid(True)\n",
    "\tplt.show()"
   ]
  },
  {
   "cell_type": "markdown",
   "metadata": {},
   "source": [
    "### Plot graphs"
   ]
  },
  {
   "cell_type": "code",
   "execution_count": 90,
   "metadata": {},
   "outputs": [
    {
     "data": {
      "image/png": "[encoded data removed]",
      "text/plain": [
       "<Figure size 800x600 with 1 Axes>"
      ]
     },
     "metadata": {},
     "output_type": "display_data"
    },
    {
     "data": {
      "image/png": "[encoded data removed]",
      "text/plain": [
       "<Figure size 1100x600 with 1 Axes>"
      ]
     },
     "metadata": {},
     "output_type": "display_data"
    },
    {
     "data": {
      "image/png": "[encoded data removed]",
      "text/plain": [
       "<Figure size 800x600 with 1 Axes>"
      ]
     },
     "metadata": {},
     "output_type": "display_data"
    },
    {
     "data": {
      "image/png": "[encoded data removed]",
      "text/plain": [
       "<Figure size 1100x600 with 1 Axes>"
      ]
     },
     "metadata": {},
     "output_type": "display_data"
    },
    {
     "data": {
      "image/png": "[encoded data removed]",
      "text/plain": [
       "<Figure size 800x600 with 1 Axes>"
      ]
     },
     "metadata": {},
     "output_type": "display_data"
    },
    {
     "data": {
      "image/png": "[encoded data removed]",
      "text/plain": [
       "<Figure size 1100x600 with 1 Axes>"
      ]
     },
     "metadata": {},
     "output_type": "display_data"
    },
    {
     "data": {
      "image/png": "[encoded data removed]",
      "text/plain": [
       "<Figure size 800x600 with 1 Axes>"
      ]
     },
     "metadata": {},
     "output_type": "display_data"
    },
    {
     "data": {
      "image/png": "[encoded data removed]",
      "text/plain": [
       "<Figure size 1100x600 with 1 Axes>"
      ]
     },
     "metadata": {},
     "output_type": "display_data"
    },
    {
     "data": {
      "image/png": "[encoded data removed]",
      "text/plain": [
       "<Figure size 800x600 with 1 Axes>"
      ]
     },
     "metadata": {},
     "output_type": "display_data"
    },
    {
     "data": {
      "image/png": "[encoded data removed]",
      "text/plain": [
       "<Figure size 1100x600 with 1 Axes>"
      ]
     },
     "metadata": {},
     "output_type": "display_data"
    },
    {
     "ename": "TypeError",
     "evalue": "create_boxplot() got an unexpected keyword argument 'vertical_xticks'",
     "output_type": "error",
     "traceback": [
      "\u001b[1;31m---------------------------------------------------------------------------\u001b[0m",
      "\u001b[1;31mTypeError\u001b[0m                                 Traceback (most recent call last)",
      "\u001b[1;32mg:\\CYTech\\ING2\\ProjetLinkedin\\2024_02_25\\linkedin-work-experience-classification\\notebooks\\setfit.ipynb Cell 43\u001b[0m line \u001b[0;36m2\n\u001b[0;32m     <a href='vscode-notebook-cell:/g%3A/CYTech/ING2/ProjetLinkedin/2024_02_25/linkedin-work-experience-classification/notebooks/setfit.ipynb#X53sZmlsZQ%3D%3D?line=18'>19</a>\u001b[0m create_bar_plot(run_times, \u001b[39m'\u001b[39m\u001b[39mRuntime for the language tests\u001b[39m\u001b[39m'\u001b[39m, \u001b[39m'\u001b[39m\u001b[39mLanguage\u001b[39m\u001b[39m'\u001b[39m, \u001b[39m'\u001b[39m\u001b[39mRun time (s)\u001b[39m\u001b[39m'\u001b[39m)\n\u001b[0;32m     <a href='vscode-notebook-cell:/g%3A/CYTech/ING2/ProjetLinkedin/2024_02_25/linkedin-work-experience-classification/notebooks/setfit.ipynb#X53sZmlsZQ%3D%3D?line=20'>21</a>\u001b[0m results, run_times \u001b[39m=\u001b[39m load_latest_results_data(\u001b[39mr\u001b[39m\u001b[39m'\u001b[39m\u001b[39m../results/setfit/model\u001b[39m\u001b[39m'\u001b[39m)\n\u001b[1;32m---> <a href='vscode-notebook-cell:/g%3A/CYTech/ING2/ProjetLinkedin/2024_02_25/linkedin-work-experience-classification/notebooks/setfit.ipynb#X53sZmlsZQ%3D%3D?line=21'>22</a>\u001b[0m create_boxplot(results, \u001b[39m'\u001b[39;49m\u001b[39mEffect of the Sentence Transformer model on F1-score\u001b[39;49m\u001b[39m'\u001b[39;49m, \u001b[39m'\u001b[39;49m\u001b[39mModel\u001b[39;49m\u001b[39m'\u001b[39;49m, \u001b[39m'\u001b[39;49m\u001b[39mF1-score\u001b[39;49m\u001b[39m'\u001b[39;49m, vertical_xticks\u001b[39m=\u001b[39;49m\u001b[39mTrue\u001b[39;49;00m)\n\u001b[0;32m     <a href='vscode-notebook-cell:/g%3A/CYTech/ING2/ProjetLinkedin/2024_02_25/linkedin-work-experience-classification/notebooks/setfit.ipynb#X53sZmlsZQ%3D%3D?line=22'>23</a>\u001b[0m create_bar_plot(run_times, \u001b[39m'\u001b[39m\u001b[39mRuntime for the Sentence Transformer model tests\u001b[39m\u001b[39m'\u001b[39m, \u001b[39m'\u001b[39m\u001b[39mModel\u001b[39m\u001b[39m'\u001b[39m, \u001b[39m'\u001b[39m\u001b[39mRun time (s)\u001b[39m\u001b[39m'\u001b[39m, vertical_xticks\u001b[39m=\u001b[39m\u001b[39mTrue\u001b[39;00m)\n",
      "\u001b[1;31mTypeError\u001b[0m: create_boxplot() got an unexpected keyword argument 'vertical_xticks'"
     ]
    }
   ],
   "source": [
    "results, run_times = load_latest_results_data(r'../results/setfit/n_shot')\n",
    "create_boxplot(results, 'Effect of the number of shots on F1-score', 'N-shot', 'F1-score')\n",
    "create_bar_plot(run_times, 'Runtime for the N-shot tests', 'N-shot', 'Run time (s)')\n",
    "\n",
    "results, run_times = load_latest_results_data(r'../results/setfit/input_length')\n",
    "create_boxplot(results, 'Effect of the length of the input on F1-score (train set only)', 'Number of words', 'F1-score')\n",
    "create_bar_plot(run_times, 'Runtime for the input length tests', 'Number of words', 'Run time (s)')\n",
    "\n",
    "results, run_times = load_latest_results_data(r'../results/setfit/distance')\n",
    "create_boxplot(results, 'Effect of the distance on F1-score', 'Distance', 'F1-score')\n",
    "create_bar_plot(run_times, 'Runtime for the distance tests', 'Distance', 'Run time (s)')\n",
    "\n",
    "results, run_times = load_latest_results_data(r'../results/setfit/loss')\n",
    "create_boxplot(results, 'Effect of the distance on F1-score', 'Distance', 'F1-score')\n",
    "create_bar_plot(run_times, 'Runtime for the distance tests', 'Distance', 'Run time (s)')\n",
    "\n",
    "results, run_times = load_latest_results_data(r'../results/setfit/language')\n",
    "create_boxplot(results, 'Effect of the language on F1-score (train and test sets)', 'Language', 'F1-score')\n",
    "create_bar_plot(run_times, 'Runtime for the language tests', 'Language', 'Run time (s)')\n",
    "\n",
    "results, run_times = load_latest_results_data(r'../results/setfit/model')\n",
    "create_boxplot(results, 'Effect of the Sentence Transformer model on F1-score', 'Model', 'F1-score', vertical_xticks=True)\n",
    "create_bar_plot(run_times, 'Runtime for the Sentence Transformer model tests', 'Model', 'Run time (s)', vertical_xticks=True)"
   ]
  },
  {
   "cell_type": "markdown",
   "metadata": {},
   "source": [
    "## Hyperparameter Optimization (with optuna)"
   ]
  },
  {
   "cell_type": "code",
   "execution_count": 21,
   "metadata": {},
   "outputs": [
    {
     "data": {
      "application/vnd.jupyter.widget-view+json": {
       "model_id": "bfd70871362441e182c031fae9fd2fde",
       "version_major": 2,
       "version_minor": 0
      },
      "text/plain": [
       "  0%|          | 0/5 [00:00<?, ?it/s]"
      ]
     },
     "metadata": {},
     "output_type": "display_data"
    },
    {
     "data": {
      "application/vnd.jupyter.widget-view+json": {
       "model_id": "5a45bd8943a0482fbe7c61de1285d241",
       "version_major": 2,
       "version_minor": 0
      },
      "text/plain": [
       "  0%|          | 0/5 [00:00<?, ?it/s]"
      ]
     },
     "metadata": {},
     "output_type": "display_data"
    },
    {
     "name": "stdout",
     "output_type": "stream",
     "text": [
      "{'embedding_loss': 0.1883, 'learning_rate': 5.063135705176968e-06, 'epoch': 0.2}\n",
      "{'train_runtime': 6.335, 'train_samples_per_second': 25.257, 'train_steps_per_second': 0.789, 'epoch': 1.0}\n"
     ]
    },
    {
     "data": {
      "application/vnd.jupyter.widget-view+json": {
       "model_id": "c1dd0727063e42d9a87551a7744b75ec",
       "version_major": 2,
       "version_minor": 0
      },
      "text/plain": [
       "  0%|          | 0/10 [00:00<?, ?it/s]"
      ]
     },
     "metadata": {},
     "output_type": "display_data"
    },
    {
     "data": {
      "application/vnd.jupyter.widget-view+json": {
       "model_id": "c115b57463aa41fdaf870a4dd4c0f48c",
       "version_major": 2,
       "version_minor": 0
      },
      "text/plain": [
       "  0%|          | 0/10 [00:00<?, ?it/s]"
      ]
     },
     "metadata": {},
     "output_type": "display_data"
    },
    {
     "name": "stdout",
     "output_type": "stream",
     "text": [
      "{'embedding_loss': 0.1875, 'learning_rate': 4.378416782646164e-06, 'epoch': 0.2}\n",
      "{'train_runtime': 16.982, 'train_samples_per_second': 18.843, 'train_steps_per_second': 0.589, 'epoch': 2.0}\n"
     ]
    },
    {
     "data": {
      "application/vnd.jupyter.widget-view+json": {
       "model_id": "f52e3bf295924290b94028ad182f39cb",
       "version_major": 2,
       "version_minor": 0
      },
      "text/plain": [
       "  0%|          | 0/5 [00:00<?, ?it/s]"
      ]
     },
     "metadata": {},
     "output_type": "display_data"
    },
    {
     "data": {
      "application/vnd.jupyter.widget-view+json": {
       "model_id": "b4e710f9701047cf8efaeffe78e35514",
       "version_major": 2,
       "version_minor": 0
      },
      "text/plain": [
       "  0%|          | 0/5 [00:00<?, ?it/s]"
      ]
     },
     "metadata": {},
     "output_type": "display_data"
    },
    {
     "name": "stdout",
     "output_type": "stream",
     "text": [
      "{'embedding_loss': 0.1875, 'learning_rate': 0.0001618441403125536, 'epoch': 0.2}\n",
      "{'train_runtime': 7.921, 'train_samples_per_second': 20.199, 'train_steps_per_second': 0.631, 'epoch': 1.0}\n"
     ]
    },
    {
     "data": {
      "application/vnd.jupyter.widget-view+json": {
       "model_id": "1992f611fb5442efa3f49cf9eebbb34f",
       "version_major": 2,
       "version_minor": 0
      },
      "text/plain": [
       "  0%|          | 0/18 [00:00<?, ?it/s]"
      ]
     },
     "metadata": {},
     "output_type": "display_data"
    },
    {
     "data": {
      "application/vnd.jupyter.widget-view+json": {
       "model_id": "01b6249acd034fe7ad1e8568fb3bd411",
       "version_major": 2,
       "version_minor": 0
      },
      "text/plain": [
       "  0%|          | 0/18 [00:00<?, ?it/s]"
      ]
     },
     "metadata": {},
     "output_type": "display_data"
    },
    {
     "name": "stdout",
     "output_type": "stream",
     "text": [
      "{'embedding_loss': 0.1758, 'learning_rate': 5.784945603212164e-05, 'epoch': 0.11}\n",
      "{'train_runtime': 20.303, 'train_samples_per_second': 14.185, 'train_steps_per_second': 0.887, 'epoch': 2.0}\n"
     ]
    },
    {
     "data": {
      "application/vnd.jupyter.widget-view+json": {
       "model_id": "7f0c45a0058f4000824428c59e97f5c5",
       "version_major": 2,
       "version_minor": 0
      },
      "text/plain": [
       "  0%|          | 0/9 [00:00<?, ?it/s]"
      ]
     },
     "metadata": {},
     "output_type": "display_data"
    },
    {
     "data": {
      "application/vnd.jupyter.widget-view+json": {
       "model_id": "c402b2ccb60642b6826d00a8d3e16a89",
       "version_major": 2,
       "version_minor": 0
      },
      "text/plain": [
       "  0%|          | 0/9 [00:00<?, ?it/s]"
      ]
     },
     "metadata": {},
     "output_type": "display_data"
    },
    {
     "name": "stdout",
     "output_type": "stream",
     "text": [
      "{'embedding_loss': 0.1654, 'learning_rate': 1.1827320266143048e-05, 'epoch': 0.11}\n",
      "{'train_runtime': 9.661, 'train_samples_per_second': 14.905, 'train_steps_per_second': 0.932, 'epoch': 1.0}\n"
     ]
    },
    {
     "data": {
      "application/vnd.jupyter.widget-view+json": {
       "model_id": "4cc6e12d34b3410a8fc224929b33dd77",
       "version_major": 2,
       "version_minor": 0
      },
      "text/plain": [
       "  0%|          | 0/36 [00:00<?, ?it/s]"
      ]
     },
     "metadata": {},
     "output_type": "display_data"
    },
    {
     "data": {
      "application/vnd.jupyter.widget-view+json": {
       "model_id": "4fdc3e2013ec4e88b3a3da90e012df85",
       "version_major": 2,
       "version_minor": 0
      },
      "text/plain": [
       "  0%|          | 0/36 [00:00<?, ?it/s]"
      ]
     },
     "metadata": {},
     "output_type": "display_data"
    },
    {
     "name": "stdout",
     "output_type": "stream",
     "text": [
      "{'embedding_loss': 0.1602, 'learning_rate': 9.163175009538302e-07, 'epoch': 0.06}\n",
      "{'train_runtime': 31.633, 'train_samples_per_second': 9.104, 'train_steps_per_second': 1.138, 'epoch': 2.0}\n"
     ]
    },
    {
     "data": {
      "application/vnd.jupyter.widget-view+json": {
       "model_id": "7fe475a301d948eaa743a3dd9c53f348",
       "version_major": 2,
       "version_minor": 0
      },
      "text/plain": [
       "  0%|          | 0/5 [00:00<?, ?it/s]"
      ]
     },
     "metadata": {},
     "output_type": "display_data"
    },
    {
     "data": {
      "application/vnd.jupyter.widget-view+json": {
       "model_id": "a43460ac576f407db519292135dbbfde",
       "version_major": 2,
       "version_minor": 0
      },
      "text/plain": [
       "  0%|          | 0/5 [00:00<?, ?it/s]"
      ]
     },
     "metadata": {},
     "output_type": "display_data"
    },
    {
     "name": "stdout",
     "output_type": "stream",
     "text": [
      "{'embedding_loss': 0.1922, 'learning_rate': 0.00010067576423927498, 'epoch': 0.2}\n",
      "{'train_runtime': 8.039, 'train_samples_per_second': 19.903, 'train_steps_per_second': 0.622, 'epoch': 1.0}\n"
     ]
    },
    {
     "data": {
      "application/vnd.jupyter.widget-view+json": {
       "model_id": "d3023e909b1a4a42bd899e7ae89f7eff",
       "version_major": 2,
       "version_minor": 0
      },
      "text/plain": [
       "  0%|          | 0/5 [00:00<?, ?it/s]"
      ]
     },
     "metadata": {},
     "output_type": "display_data"
    },
    {
     "data": {
      "application/vnd.jupyter.widget-view+json": {
       "model_id": "813942d26477436c9f1d00ef6bc82a11",
       "version_major": 2,
       "version_minor": 0
      },
      "text/plain": [
       "  0%|          | 0/5 [00:00<?, ?it/s]"
      ]
     },
     "metadata": {},
     "output_type": "display_data"
    },
    {
     "name": "stdout",
     "output_type": "stream",
     "text": [
      "{'embedding_loss': 0.188, 'learning_rate': 3.919325134012801e-05, 'epoch': 0.2}\n",
      "{'train_runtime': 8.749, 'train_samples_per_second': 18.288, 'train_steps_per_second': 0.571, 'epoch': 1.0}\n"
     ]
    },
    {
     "data": {
      "application/vnd.jupyter.widget-view+json": {
       "model_id": "aeab1c9e1fcc430aabe55bc714dc5ef2",
       "version_major": 2,
       "version_minor": 0
      },
      "text/plain": [
       "  0%|          | 0/10 [00:00<?, ?it/s]"
      ]
     },
     "metadata": {},
     "output_type": "display_data"
    },
    {
     "data": {
      "application/vnd.jupyter.widget-view+json": {
       "model_id": "de4015c7726a4b30afca4ede0833a7cb",
       "version_major": 2,
       "version_minor": 0
      },
      "text/plain": [
       "  0%|          | 0/10 [00:00<?, ?it/s]"
      ]
     },
     "metadata": {},
     "output_type": "display_data"
    },
    {
     "name": "stdout",
     "output_type": "stream",
     "text": [
      "{'embedding_loss': 0.1915, 'learning_rate': 8.732786183353698e-05, 'epoch': 0.2}\n",
      "{'train_runtime': 17.976, 'train_samples_per_second': 17.802, 'train_steps_per_second': 0.556, 'epoch': 2.0}\n"
     ]
    },
    {
     "data": {
      "application/vnd.jupyter.widget-view+json": {
       "model_id": "4f9d937a2ef94b5eb405748bef3157fd",
       "version_major": 2,
       "version_minor": 0
      },
      "text/plain": [
       "  0%|          | 0/5 [00:00<?, ?it/s]"
      ]
     },
     "metadata": {},
     "output_type": "display_data"
    },
    {
     "data": {
      "application/vnd.jupyter.widget-view+json": {
       "model_id": "928d937761fa452ba5b8367b36b2f6e6",
       "version_major": 2,
       "version_minor": 0
      },
      "text/plain": [
       "  0%|          | 0/5 [00:00<?, ?it/s]"
      ]
     },
     "metadata": {},
     "output_type": "display_data"
    },
    {
     "name": "stdout",
     "output_type": "stream",
     "text": [
      "{'embedding_loss': 0.187, 'learning_rate': 0.00011485915004084542, 'epoch': 0.2}\n",
      "{'train_runtime': 8.134, 'train_samples_per_second': 19.671, 'train_steps_per_second': 0.615, 'epoch': 1.0}\n"
     ]
    }
   ],
   "source": [
    "from typing import Dict, Any, Union\n",
    "from optuna import Trial\n",
    "\n",
    "def model_init(params: Dict[str, Any]) -> SetFitModel:\n",
    "    params = params or {}\n",
    "    max_iter = params.get(\"max_iter\", 100)\n",
    "    solver = params.get(\"solver\", \"liblinear\")\n",
    "    params = {\n",
    "        \"head_params\": {\n",
    "            \"max_iter\": max_iter,\n",
    "            \"solver\": solver,\n",
    "        }\n",
    "    }\n",
    "    return SetFitModel.from_pretrained(\"sentence-transformers/paraphrase-multilingual-mpnet-base-v2\", **params)\n",
    "\n",
    "def hp_space(trial: Trial) -> Dict[str, Union[float, int, str]]:\n",
    "    return {\n",
    "        \"body_learning_rate\": trial.suggest_float(\"body_learning_rate\", 1e-6, 1e-3, log=True),\n",
    "        \"num_epochs\": trial.suggest_int(\"num_epochs\", 1, 2),\n",
    "        \"batch_size\": trial.suggest_categorical(\"batch_size\", [8, 16, 32]),\n",
    "        \"seed\": trial.suggest_int(\"seed\", 1, 40),\n",
    "        \"max_iter\": trial.suggest_int(\"max_iter\", 50, 300),\n",
    "        \"solver\": trial.suggest_categorical(\"solver\", [\"newton-cg\", \"lbfgs\", \"liblinear\"]),\n",
    "    }\n",
    "    \n",
    "new_train_set = Dataset.from_pandas(train_set, split=\"train\")\n",
    "new_train_set = sample_dataset(new_train_set, label_column=\"label\", num_samples=8)\n",
    "new_test_set = Dataset.from_pandas(test_set, split=\"test\")\n",
    "\n",
    "trainer_arguments = TrainingArguments(\n",
    "    show_progress_bar=False,\n",
    ")\n",
    "\n",
    "trainer = Trainer(\n",
    "    train_dataset=new_train_set,\n",
    "    eval_dataset=new_train_set,\n",
    "    args=trainer_arguments,\n",
    "    model_init=model_init,\n",
    "    metric='f1',\n",
    ")\n",
    "\n",
    "best_run = trainer.hyperparameter_search(direction=\"maximize\", hp_space=hp_space, n_trials=10)"
   ]
  },
  {
   "cell_type": "code",
   "execution_count": 22,
   "metadata": {},
   "outputs": [
    {
     "name": "stdout",
     "output_type": "stream",
     "text": [
      "BestRun(run_id='0', objective=1.0, hyperparameters={'body_learning_rate': 5.063135705176968e-06, 'num_epochs': 1, 'batch_size': 32, 'seed': 4, 'max_iter': 151, 'solver': 'lbfgs'}, backend=<optuna.study.study.Study object at 0x000002C6980768F0>)\n"
     ]
    }
   ],
   "source": [
    "print(best_run)"
   ]
  },
  {
   "cell_type": "code",
   "execution_count": 23,
   "metadata": {},
   "outputs": [
    {
     "data": {
      "application/vnd.jupyter.widget-view+json": {
       "model_id": "70605f055d5a4c3ebdd671f6081da4ba",
       "version_major": 2,
       "version_minor": 0
      },
      "text/plain": [
       "  0%|          | 0/5 [00:00<?, ?it/s]"
      ]
     },
     "metadata": {},
     "output_type": "display_data"
    },
    {
     "data": {
      "application/vnd.jupyter.widget-view+json": {
       "model_id": "23ab272bbdeb4be484b896c8342b76a7",
       "version_major": 2,
       "version_minor": 0
      },
      "text/plain": [
       "  0%|          | 0/5 [00:00<?, ?it/s]"
      ]
     },
     "metadata": {},
     "output_type": "display_data"
    },
    {
     "name": "stdout",
     "output_type": "stream",
     "text": [
      "{'embedding_loss': 0.1883, 'learning_rate': 5.063135705176968e-06, 'epoch': 0.2}\n",
      "{'train_runtime': 13.307, 'train_samples_per_second': 12.024, 'train_steps_per_second': 0.376, 'epoch': 1.0}\n"
     ]
    }
   ],
   "source": [
    "trainer.apply_hyperparameters(best_run.hyperparameters, final_model=True)\n",
    "trainer.train()"
   ]
  },
  {
   "cell_type": "code",
   "execution_count": 24,
   "metadata": {},
   "outputs": [
    {
     "data": {
      "text/plain": [
       "{'f1': 1.0}"
      ]
     },
     "execution_count": 24,
     "metadata": {},
     "output_type": "execute_result"
    }
   ],
   "source": [
    "trainer.evaluate()"
   ]
  }
 ],
 "metadata": {
  "kernelspec": {
   "display_name": "Python 3 (ipykernel)",
   "language": "python",
   "name": "python3"
  },
  "language_info": {
   "codemirror_mode": {
    "name": "ipython",
    "version": 3
   },
   "file_extension": ".py",
   "mimetype": "text/x-python",
   "name": "python",
   "nbconvert_exporter": "python",
   "pygments_lexer": "ipython3",
   "version": "3.10.6"
  }
 },
 "nbformat": 4,
 "nbformat_minor": 2
}
