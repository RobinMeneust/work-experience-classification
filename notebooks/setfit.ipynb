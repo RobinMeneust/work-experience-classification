{
 "cells": [
  {
   "cell_type": "markdown",
   "metadata": {},
   "source": [
    "# Notebook to test SetFit performance"
   ]
  },
  {
   "cell_type": "markdown",
   "metadata": {},
   "source": [
    "Check CUDA"
   ]
  },
  {
   "cell_type": "code",
   "execution_count": 1,
   "metadata": {},
   "outputs": [],
   "source": [
    "import torch\n",
    "if torch.cuda.is_available():    \n",
    "    device = torch.device(\"cuda\")\n",
    "else:\n",
    "    device = torch.device(\"cpu\")"
   ]
  },
  {
   "cell_type": "markdown",
   "metadata": {},
   "source": [
    "Load dataset and transform data"
   ]
  },
  {
   "cell_type": "code",
   "execution_count": 2,
   "metadata": {},
   "outputs": [],
   "source": [
    "import pandas as pd\n",
    "import numpy as np\n",
    "\n",
    "dataFrame = pd.read_pickle(r'../data/7587_corrige.pkl')"
   ]
  },
  {
   "cell_type": "code",
   "execution_count": 3,
   "metadata": {},
   "outputs": [
    {
     "data": {
      "text/html": [
       "<div>\n",
       "<style scoped>\n",
       "    .dataframe tbody tr th:only-of-type {\n",
       "        vertical-align: middle;\n",
       "    }\n",
       "\n",
       "    .dataframe tbody tr th {\n",
       "        vertical-align: top;\n",
       "    }\n",
       "\n",
       "    .dataframe thead th {\n",
       "        text-align: right;\n",
       "    }\n",
       "</style>\n",
       "<table border=\"1\" class=\"dataframe\">\n",
       "  <thead>\n",
       "    <tr style=\"text-align: right;\">\n",
       "      <th></th>\n",
       "      <th>text</th>\n",
       "      <th>label</th>\n",
       "    </tr>\n",
       "  </thead>\n",
       "  <tbody>\n",
       "    <tr>\n",
       "      <th>2</th>\n",
       "      <td>Stagiaire ingénieur en intelligence artificiel...</td>\n",
       "      <td>1</td>\n",
       "    </tr>\n",
       "    <tr>\n",
       "      <th>3</th>\n",
       "      <td>Stagiaire en développement logiciel Développem...</td>\n",
       "      <td>0</td>\n",
       "    </tr>\n",
       "    <tr>\n",
       "      <th>4</th>\n",
       "      <td>Stagiaire en développement Web Création et évo...</td>\n",
       "      <td>0</td>\n",
       "    </tr>\n",
       "    <tr>\n",
       "      <th>5</th>\n",
       "      <td>Stagiaire en développement Web Portage d’une a...</td>\n",
       "      <td>0</td>\n",
       "    </tr>\n",
       "    <tr>\n",
       "      <th>6</th>\n",
       "      <td>Développeur Data / IA Développement d'applicat...</td>\n",
       "      <td>1</td>\n",
       "    </tr>\n",
       "    <tr>\n",
       "      <th>...</th>\n",
       "      <td>...</td>\n",
       "      <td>...</td>\n",
       "    </tr>\n",
       "    <tr>\n",
       "      <th>11281</th>\n",
       "      <td>Opérateur production Montage de transmission a...</td>\n",
       "      <td>0</td>\n",
       "    </tr>\n",
       "    <tr>\n",
       "      <th>11282</th>\n",
       "      <td>Opérateur production Montage de transmission a...</td>\n",
       "      <td>0</td>\n",
       "    </tr>\n",
       "    <tr>\n",
       "      <th>11283</th>\n",
       "      <td>Technicien réparation informatique Reparation ...</td>\n",
       "      <td>0</td>\n",
       "    </tr>\n",
       "    <tr>\n",
       "      <th>11284</th>\n",
       "      <td>Technicien réparation Reparation &amp; maintenance...</td>\n",
       "      <td>0</td>\n",
       "    </tr>\n",
       "    <tr>\n",
       "      <th>11286</th>\n",
       "      <td>Développeur web freelance Webdesign &amp; Infographie</td>\n",
       "      <td>0</td>\n",
       "    </tr>\n",
       "  </tbody>\n",
       "</table>\n",
       "<p>5167 rows × 2 columns</p>\n",
       "</div>"
      ],
      "text/plain": [
       "                                                    text  label\n",
       "2      Stagiaire ingénieur en intelligence artificiel...      1\n",
       "3      Stagiaire en développement logiciel Développem...      0\n",
       "4      Stagiaire en développement Web Création et évo...      0\n",
       "5      Stagiaire en développement Web Portage d’une a...      0\n",
       "6      Développeur Data / IA Développement d'applicat...      1\n",
       "...                                                  ...    ...\n",
       "11281  Opérateur production Montage de transmission a...      0\n",
       "11282  Opérateur production Montage de transmission a...      0\n",
       "11283  Technicien réparation informatique Reparation ...      0\n",
       "11284  Technicien réparation Reparation & maintenance...      0\n",
       "11286  Développeur web freelance Webdesign & Infographie      0\n",
       "\n",
       "[5167 rows x 2 columns]"
      ]
     },
     "execution_count": 3,
     "metadata": {},
     "output_type": "execute_result"
    }
   ],
   "source": [
    "subset = dataFrame[['jobTitle', 'description', 'label']].copy()\n",
    "\n",
    "subset.reset_index(drop=True, inplace=True)\n",
    "subset.replace('', np.nan, inplace=True)\n",
    "subset.dropna(inplace=True)\n",
    "\n",
    "subset['text'] = subset['jobTitle'] + ' ' + subset['description']\n",
    "subset['label'] = np.where((subset[\"label\"] < 3) | (subset[\"label\"].isna()), 0, 1)\n",
    "subset = subset[['text','label']]\n",
    "subset"
   ]
  },
  {
   "cell_type": "markdown",
   "metadata": {},
   "source": [
    "Split the dataset in two: training and test set"
   ]
  },
  {
   "cell_type": "code",
   "execution_count": 4,
   "metadata": {},
   "outputs": [],
   "source": [
    "from datasets import Dataset, disable_progress_bar\n",
    "disable_progress_bar() # Disable \"Map\" progress bar in the tests\n",
    "\n",
    "def split_train_test(dataset, ratio):\n",
    "    test_set = dataset.sample(frac = ratio, random_state=42)\n",
    "    train_set = dataset.drop(test_set.index)\n",
    "    return train_set, test_set\n",
    "\n",
    "train_set, test_set = split_train_test(subset, 0.2)"
   ]
  },
  {
   "cell_type": "markdown",
   "metadata": {},
   "source": [
    "# Functions to test different hyper parameters"
   ]
  },
  {
   "cell_type": "code",
   "execution_count": 5,
   "metadata": {},
   "outputs": [],
   "source": [
    "import json\n",
    "from datetime import datetime\n",
    "import os\n",
    "from sentence_transformers.losses import CosineSimilarityLoss, BatchAllTripletLoss, BatchHardTripletLossDistanceFunction\n",
    "from transformers import PrinterCallback, ProgressCallback\n",
    "from setfit import Trainer, TrainingArguments, sample_dataset, SetFitModel\n",
    "import gc\n",
    "import time\n",
    "\n",
    "\n",
    "import logging\n",
    "import warnings\n",
    "\n",
    "\n",
    "def save_to_json(object, folder_path):\n",
    "\t# Create folder if it doesn't exist\n",
    "\tif not os.path.exists(folder_path):\n",
    "\t\tos.makedirs(folder_path)\n",
    "\t# Generate file name\n",
    "\tdate = datetime.now().strftime(\"%Y-%m-%d_%H-%M-%S\")\n",
    "\tfile_name = folder_path+'/'+str(date)+\".json\"\n",
    "\n",
    "\t# Create file and save data\n",
    "\twith open(file_name, 'w') as file:\n",
    "\t\tjson.dump(object, file)"
   ]
  },
  {
   "cell_type": "code",
   "execution_count": 6,
   "metadata": {},
   "outputs": [],
   "source": [
    "def get_transformer_model(model_name, use_differentiable_head=False):\n",
    "    model = SetFitModel.from_pretrained(model_name, use_differentiable_head=use_differentiable_head)\n",
    "    gc.collect()\n",
    "    torch.cuda.empty_cache()\n",
    "    \n",
    "    return model.to('cuda')\n",
    "\n",
    "def init_trainer(model, loss, train_dataset, test_dataset, distance_metric = None, classification_head = None, num_epochs = None, batch_size = None, head_learning_rate = None):\n",
    "    if distance_metric is None:\n",
    "        distance_metric = BatchHardTripletLossDistanceFunction.cosine_distance # default value for SetFit\n",
    "    if classification_head is None:\n",
    "        classification_head = BatchHardTripletLossDistanceFunction.cosine_distance # default value for SetFit\n",
    "    \n",
    "    # Number of epochs to use for contrastive learning (for the transformer and for the classification head)\n",
    "    if num_epochs is None:\n",
    "        num_epochs = (1,16) \n",
    "    if batch_size is None:\n",
    "        batch_size = (16,2)\n",
    "    \n",
    "    if head_learning_rate is None:\n",
    "        head_learning_rate = 1e-2\n",
    "    \n",
    "    trainer_arguments = TrainingArguments(\n",
    "        show_progress_bar=False,\n",
    "        loss=loss,\n",
    "        distance_metric=distance_metric,\n",
    "        batch_size=batch_size,\n",
    "        num_epochs=num_epochs,\n",
    "\t\thead_learning_rate=head_learning_rate,\n",
    "    )\n",
    "\n",
    "    trainer = Trainer(\n",
    "        model=model,\n",
    "        args=trainer_arguments,\n",
    "        metric='f1',\n",
    "        train_dataset=train_dataset,\n",
    "        eval_dataset=test_dataset\n",
    "    )\n",
    "    \n",
    "    # Disable some logs because there were too many messages during the tests\n",
    "    trainer.pop_callback(PrinterCallback)\n",
    "    trainer.pop_callback(ProgressCallback)\n",
    "    \n",
    "    return trainer\n",
    "\n",
    "def setfit_f1_score(train_set, test_set, model_name, loss, distance_metric=None, classification_head=None, num_epochs = None, batch_size = None, head_learning_rate = None):\n",
    "    if len(train_set) <= 1 or len(test_set) <= 1:\n",
    "        raise Exception\n",
    "    \n",
    "    model = get_transformer_model(model_name, (not (num_epochs is None)) and num_epochs[1]>1)\n",
    "    trainer = init_trainer(model, loss, train_set, test_set, distance_metric, classification_head, num_epochs, batch_size, head_learning_rate)\n",
    "    \n",
    "    start_time = time.time()\n",
    "    trainer.train()\n",
    "    run_time = time.time() - start_time\n",
    "    \n",
    "    metrics = trainer.evaluate()\n",
    "    \n",
    "    del model\n",
    "    del trainer\n",
    "    torch.cuda.empty_cache()\n",
    "    \n",
    "    return metrics['f1'], run_time"
   ]
  },
  {
   "cell_type": "code",
   "execution_count": 7,
   "metadata": {},
   "outputs": [],
   "source": [
    "from langdetect import detect\n",
    "\n",
    "def filter_lang(df, lang):\n",
    "    indices = []\n",
    "    for i in range(len(df)):\n",
    "        try:\n",
    "            l = detect(df.iloc[i][\"text\"])\n",
    "            if l == lang:\n",
    "                indices.append(i)\n",
    "        except:\"\"\n",
    "    \n",
    "    return df.iloc[indices]\n",
    "\n",
    "def filter_dataset(data, min_text_length=None, max_text_length=None, lang=None):\n",
    "    if min_text_length is None:\n",
    "        if max_text_length is None:\n",
    "            filtered_data = data\n",
    "        else:\n",
    "            filtered_data = data[data['text'].str.split().apply(len) <= max_text_length]\n",
    "    else:\n",
    "        if max_text_length is None:\n",
    "            filtered_data = data[data['text'].str.split().apply(len) >= min_text_length]\n",
    "        else:\n",
    "            filtered_data = data[data['text'].str.split().apply(len).between(min_text_length, max_text_length)]\n",
    "            \n",
    "    if not (lang is None):\n",
    "        filtered_data = filter_lang(filtered_data, lang)\n",
    "           \n",
    "    return filtered_data"
   ]
  },
  {
   "cell_type": "code",
   "execution_count": 8,
   "metadata": {},
   "outputs": [],
   "source": [
    "# Disable some logs because there were too many messages during the tests\n",
    "# logging.disable(logging.INFO)\n",
    "# warnings.filterwarnings(\"ignore\", category=DeprecationWarning) "
   ]
  },
  {
   "cell_type": "markdown",
   "metadata": {},
   "source": [
    "### N-Shots"
   ]
  },
  {
   "cell_type": "code",
   "execution_count": 9,
   "metadata": {},
   "outputs": [],
   "source": [
    "def n_shot_tests(params, train_set, test_set):\n",
    "\tn_values = params[\"n_shot\"]\n",
    "\tn_iter = params[\"n_iter\"]\n",
    "\tn_max_iter_per_shot = params[\"n_max_iter_per_shot\"]\n",
    "\tmodel = params[\"model\"]\n",
    "\tloss = params[\"loss\"]\n",
    "    \n",
    "\tn_values_max = np.max(n_values)\n",
    "\n",
    "\tresults = {}\n",
    "\trun_times = {}\n",
    "\tfor n_shot in n_values:\n",
    "\t\tresults[n_shot] = []\n",
    "\t\trun_times[n_shot] = []\n",
    "\t\n",
    "\tprogress = 0\n",
    "\tprogress_end = n_iter * ((len(n_values)-1)*n_max_iter_per_shot + 1)\n",
    " \n",
    "\t# Repeat the tests multiple times because F1-score variations might be due to the examples chosen and not the input length of those examples\n",
    "\tfor i in range(n_iter):\n",
    "\t\t# Use the same subset of the dataset for all of the tests in the following loop\n",
    "\t\tnew_train_set = train_set.sample(frac = 1, random_state=i*47).groupby('label').head(n_values_max)\n",
    "\t\tnew_train_set = Dataset.from_pandas(new_train_set, split=\"train\")\n",
    "\t\tnew_test_set = Dataset.from_pandas(test_set, split=\"test\")\n",
    "\n",
    "\t\tfor n_shot in n_values:\n",
    "\t\t\ttry:\n",
    "\t\t\t\tn_iter_shot = n_max_iter_per_shot if n_shot < n_values_max else 1\n",
    "\t\t\t\tfor i_shot in range(n_iter_shot):\n",
    "\t\t\t\t\tprogress += 1\n",
    "\t\t\t\t\tprint(\"Step:\", progress, \"/\", progress_end)\n",
    "     \n",
    "\t\t\t\t\ttrain_set_n_shot = sample_dataset(new_train_set, label_column=\"label\", num_samples=n_shot, seed=47*n_shot + 3*i_shot)\n",
    "\t\t\t\t\tf1_score, run_time = setfit_f1_score(train_set_n_shot, new_test_set, model, loss)\n",
    "\t\t\t\t\tresults[n_shot].append(f1_score)\n",
    "\t\t\t\t\trun_times[n_shot].append(run_time)\n",
    "\t\t\texcept Exception as err:\n",
    "\t\t\t\tprint(n_shot, \"failed\", str(err))\n",
    "\treturn results, run_times"
   ]
  },
  {
   "cell_type": "markdown",
   "metadata": {},
   "source": [
    "### Input length"
   ]
  },
  {
   "cell_type": "code",
   "execution_count": 10,
   "metadata": {},
   "outputs": [],
   "source": [
    "def input_length_tests(params, train_set, test_set):\n",
    "\tn_shot = params[\"n_shot\"]\n",
    "\tlen_values = params[\"input_length_range\"]\n",
    "\tn_iter = params[\"n_iter\"]\n",
    "\tmodel = params[\"model\"]\n",
    "\tloss = params[\"loss\"]\n",
    "    \n",
    "\tresults = {}\n",
    "\trun_times = {}\n",
    "\tnew_test_set = Dataset.from_pandas(test_set, split=\"test\")\n",
    "\n",
    "\tfor i in range(len(len_values)):\n",
    "\t\tkey = f\"[{len_values[i][0]},{len_values[i][1]}]\"\n",
    "\t\tresults[key] = []\n",
    "\t\trun_times[key] = []\n",
    "\n",
    "\tprogress = 0\n",
    "\tprogress_end = n_iter * len(len_values)\n",
    " \n",
    "\t# Repeat the tests multiple times because F1-score variations might be due to the examples chosen and not the input length of those examples\n",
    "\tfor iter in range(n_iter):\n",
    "\t\tfor i in range(len(len_values)):\n",
    "\t\t\tkey = f\"[{len_values[i][0]},{len_values[i][1]}]\"\n",
    "\t\t\ttry:\n",
    "\t\t\t\tprogress += 1\n",
    "\t\t\t\tprint(\"Step:\", progress, \"/\", progress_end)\n",
    "    \n",
    "\t\t\t\tnew_train_set = filter_dataset(train_set, len_values[i][0], len_values[i][1])\n",
    "\t\t\t\tnew_train_set = Dataset.from_pandas(new_train_set, split=\"train\")\n",
    "\t\t\t\tnew_train_set = sample_dataset(new_train_set, label_column=\"label\", num_samples=n_shot, seed=47*iter)\n",
    "\t\t\t\tf1_score, run_time = setfit_f1_score(new_train_set, new_test_set, model, loss)\n",
    "\t\t\t\tresults[key].append(f1_score)\n",
    "\t\t\t\trun_times[key].append(run_time)\n",
    "\t\t\texcept Exception as err:\n",
    "\t\t\t\tprint(key, \"failed\", str(err))\n",
    "\treturn results, run_times"
   ]
  },
  {
   "cell_type": "markdown",
   "metadata": {},
   "source": [
    "### Distance"
   ]
  },
  {
   "cell_type": "code",
   "execution_count": 11,
   "metadata": {},
   "outputs": [],
   "source": [
    "def distance_tests(params, train_set, test_set):\n",
    "\tn_shot = params[\"n_shot\"]\n",
    "\tn_iter = params[\"n_iter\"]\n",
    "\tmodel = params[\"model\"]\n",
    "\tloss = params[\"loss\"]\n",
    "\tdistances = params[\"distance\"]\n",
    "\n",
    "\tresults = {}\n",
    "\trun_times = {}\n",
    "\tfor key in distances.keys():\n",
    "\t\tresults[key] = []\n",
    "\t\trun_times[key] = []\n",
    "\n",
    "\tnew_test_set = Dataset.from_pandas(test_set, split=\"test\")\n",
    " \n",
    "\tprogress = 0\n",
    "\tprogress_end = n_iter * (len(distances))\n",
    "\n",
    "\tfor i in range(n_iter):\n",
    "\t\tnew_train_set = Dataset.from_pandas(train_set, split=\"train\")\n",
    "\t\tnew_train_set = sample_dataset(new_train_set, label_column=\"label\", num_samples=n_shot, seed=47*i)\n",
    "\t\t\n",
    "\t\tfor key in distances.keys():\n",
    "\t\t\tprogress += 1\n",
    "\t\t\tprint(\"Step:\", progress, \"/\", progress_end)\n",
    "   \n",
    "\t\t\ttry:\n",
    "\t\t\t\tf1_score, run_time = setfit_f1_score(new_train_set, new_test_set, model, loss, distances[key])\n",
    "\t\t\t\tresults[key].append(f1_score)\n",
    "\t\t\t\trun_times[key].append(run_time)\n",
    "\t\t\texcept Exception as err:\n",
    "\t\t\t\tprint(key, \"failed\", str(err))\n",
    "\treturn results, run_times"
   ]
  },
  {
   "cell_type": "markdown",
   "metadata": {},
   "source": [
    "### Loss"
   ]
  },
  {
   "cell_type": "code",
   "execution_count": 12,
   "metadata": {},
   "outputs": [],
   "source": [
    "def loss_tests(params, train_set, test_set):\n",
    "\tn_shot = params[\"n_shot\"]\n",
    "\tn_iter = params[\"n_iter\"]\n",
    "\tmodel = params[\"model\"]\n",
    "\tlosses = params[\"loss\"]\n",
    "\n",
    "\tresults = {}\n",
    "\trun_times = {}\n",
    "\tfor key in losses.keys():\n",
    "\t\tresults[key] = []\n",
    "\t\trun_times[key] = []\n",
    "\n",
    "\tnew_test_set = Dataset.from_pandas(test_set, split=\"test\")\n",
    " \n",
    "\tprogress = 0\n",
    "\tprogress_end = n_iter * (len(losses))\n",
    "\n",
    "\tfor i in range(n_iter):\n",
    "\t\tnew_train_set = Dataset.from_pandas(train_set, split=\"train\")\n",
    "\t\tnew_train_set = sample_dataset(new_train_set, label_column=\"label\", num_samples=n_shot, seed=47*i)\n",
    "\t\t\n",
    "\t\tfor key in losses.keys():\n",
    "\t\t\tprogress += 1\n",
    "\t\t\tprint(\"Step:\", progress, \"/\", progress_end)\n",
    "   \n",
    "\t\t\ttry:\n",
    "\t\t\t\tf1_score, run_time = setfit_f1_score(new_train_set, new_test_set, model, losses[key])\n",
    "\t\t\t\tresults[key].append(f1_score)\n",
    "\t\t\t\trun_times[key].append(run_time)\n",
    "\t\t\texcept Exception as err:\n",
    "\t\t\t\tprint(key, \"failed\", str(err))\n",
    "\treturn results, run_times"
   ]
  },
  {
   "cell_type": "markdown",
   "metadata": {},
   "source": [
    "### Language"
   ]
  },
  {
   "cell_type": "code",
   "execution_count": 13,
   "metadata": {},
   "outputs": [],
   "source": [
    "def language_tests(params, train_set, test_set):\n",
    "\tn_shot = params[\"n_shot\"]\n",
    "\tn_iter = params[\"n_iter\"]\n",
    "\tmodel = params[\"model\"]\n",
    "\tloss = params[\"loss\"]\n",
    "\tlanguages = params[\"lang\"]\n",
    " \n",
    "\tresults = {}\n",
    "\trun_times = {}\n",
    "\n",
    "\tfor key in languages:\n",
    "\t\tresults[key] = []\n",
    "\t\trun_times[key] = []\n",
    "\tresults['all'] = []\n",
    "\trun_times['all'] = []\n",
    " \n",
    "\tprogress = 0\n",
    "\tprogress_end = n_iter * (len(languages) + 1)\n",
    " \n",
    "\tfor i in range(n_iter):\n",
    "\t\ttemp_train_set_panda = {}\n",
    "\t\ttemp_test_set_panda = {}\n",
    "\n",
    "\t\tfor key in languages:\n",
    "\t\t\tprogress += 1\n",
    "\t\t\tprint(\"Step:\", progress, \"/\", progress_end)\n",
    "   \n",
    "\t\t\ttemp_train_set_panda[key] = filter_dataset(train_set, lang=key)\n",
    "\t\t\ttemp_train_set = Dataset.from_pandas(temp_train_set_panda[key], split=\"train\")\n",
    "\t\t\ttemp_train_set = sample_dataset(temp_train_set, label_column=\"label\", num_samples=n_shot, seed=47*i)\n",
    "   \n",
    "\t\t\ttemp_test_set_panda[key] = filter_dataset(test_set, lang=key)\n",
    "\t\t\ttemp_test_set = Dataset.from_pandas(temp_test_set_panda[key], split=\"test\")\n",
    "\t\t\ttry:\n",
    "\t\t\t\tf1_score, run_time = setfit_f1_score(temp_train_set, temp_test_set, model, loss)\n",
    "\t\t\t\tresults[key].append(f1_score)\n",
    "\t\t\t\trun_times[key].append(run_time)\n",
    "\t\t\texcept Exception as err:\n",
    "\t\t\t\tprint(key, \"failed\", str(err))\n",
    "\t\t\t\tdel temp_train_set_panda[key]\n",
    "\t\t\t\tdel temp_test_set_panda[key]\n",
    "\t\t\n",
    "\t\tall_temp_train_set = list(temp_train_set_panda.values())\n",
    "\t\tall_temp_test_set = list(temp_train_set_panda.values())\n",
    "  \n",
    "\t\tif len(all_temp_train_set) == 0 or len(all_temp_test_set) == 0:\n",
    "\t\t\tprogress += 1\n",
    "\t\t\tprint(\"Step:\", progress, \"/\", progress_end, \"failed\")\n",
    "\t\t\tcontinue\n",
    "\n",
    "\t\tall_train_set = pd.concat(all_temp_train_set)\n",
    "\t\tall_train_set = Dataset.from_pandas(all_train_set, split=\"test\")\n",
    "\t\tall_train_set = sample_dataset(all_train_set, label_column=\"label\", num_samples=n_shot, seed=47*i)\n",
    "\t\tall_test_set = pd.concat(all_temp_test_set)\n",
    "\t\tall_test_set = Dataset.from_pandas(all_test_set, split=\"test\")\n",
    "  \n",
    "\t\ttry:\n",
    "\t\t\tprogress += 1\n",
    "\t\t\tprint(\"Step:\", progress, \"/\", progress_end)\n",
    "   \n",
    "\t\t\tf1_score, run_time = setfit_f1_score(all_train_set, all_test_set, model, loss)\n",
    "\t\t\tresults['all'].append(f1_score)\n",
    "\t\t\trun_times['all'].append(run_time)\n",
    "\t\texcept Exception as err:\n",
    "\t\t\tprint('all', \"failed\", str(err))\n",
    "\treturn results, run_times"
   ]
  },
  {
   "cell_type": "markdown",
   "metadata": {},
   "source": [
    "### Sentence transformers\n",
    "\n",
    "Test SetFit with different ST models"
   ]
  },
  {
   "cell_type": "code",
   "execution_count": 14,
   "metadata": {},
   "outputs": [],
   "source": [
    "def model_tests(params, train_set, test_set):\n",
    "\tn_shot = params[\"n_shot\"]\n",
    "\tn_iter = params[\"n_iter\"]\n",
    "\tloss = params[\"loss\"]\n",
    "\tmodels = params[\"model\"]\n",
    " \n",
    "\tresults = {}\n",
    "\trun_times = {}\n",
    "\tnew_test_set = Dataset.from_pandas(test_set, split=\"test\")\n",
    "\n",
    "\tfor key in models.keys():\n",
    "\t\tresults[key] = []\n",
    "\t\trun_times[key] = []\n",
    "\n",
    "\tprogress = 0\n",
    "\tprogress_end = n_iter * len(models)\n",
    " \n",
    "\tfor i in range(n_iter):\n",
    "\t\t# Use the same subset of the dataset for all of the tests in the following loop\n",
    "\t\tnew_train_set = Dataset.from_pandas(train_set, split=\"train\")\n",
    "\t\tnew_train_set = sample_dataset(new_train_set, label_column=\"label\", num_samples=n_shot, seed=47*i)\n",
    "\n",
    "\t\tfor key, full_model_name in models.items():\n",
    "\t\t\tprogress += 1\n",
    "\t\t\tprint(\"Step:\", progress, \"/\", progress_end)\n",
    "   \n",
    "\t\t\ttry:\n",
    "\t\t\t\tf1_score, run_time = setfit_f1_score(new_train_set, new_test_set, full_model_name, loss)\n",
    "\t\t\t\tresults[key].append(f1_score)\n",
    "\t\t\t\trun_times[key].append(run_time)\n",
    "\t\t\texcept Exception as err:\n",
    "\t\t\t\tprint(key, \"failed\", str(err))\n",
    "\treturn results, run_times"
   ]
  },
  {
   "cell_type": "markdown",
   "metadata": {},
   "source": [
    "### Number of epochs"
   ]
  },
  {
   "cell_type": "code",
   "execution_count": 15,
   "metadata": {},
   "outputs": [],
   "source": [
    "def num_epochs_tests(params, train_set, test_set):\n",
    "\tn_shot = params[\"n_shot\"]\n",
    "\tn_iter = params[\"n_iter\"]\n",
    "\tloss = params[\"loss\"]\n",
    "\tmodel = params[\"model\"]\n",
    "\tnum_epochs = params[\"num_epochs\"]\n",
    " \n",
    "\tresults = {}\n",
    "\trun_times = {}\n",
    "\tnew_test_set = Dataset.from_pandas(test_set, split=\"test\")\n",
    "\n",
    "\tfor epoch_tuple in num_epochs:\n",
    "\t\tkey = f\"({epoch_tuple[0]}, {epoch_tuple[1]})\"\n",
    "\t\tresults[key] = []\n",
    "\t\trun_times[key] = []\n",
    "\n",
    "\tprogress = 0\n",
    "\tprogress_end = n_iter * len(num_epochs)\n",
    " \n",
    "\tfor i in range(n_iter):\n",
    "\t\t# Use the same subset of the dataset for all of the tests in the following loop\n",
    "\t\tnew_train_set = Dataset.from_pandas(train_set, split=\"train\")\n",
    "\t\tnew_train_set = sample_dataset(new_train_set, label_column=\"label\", num_samples=n_shot, seed=47*i)\n",
    "\n",
    "\t\tfor epoch_tuple in num_epochs:\n",
    "\t\t\tkey = f\"({epoch_tuple[0]}, {epoch_tuple[1]})\"\n",
    "\t\t\tprogress += 1\n",
    "\t\t\tprint(\"Step:\", progress, \"/\", progress_end)\n",
    "   \n",
    "\t\t\ttry:\n",
    "\t\t\t\tf1_score, run_time = setfit_f1_score(new_train_set, new_test_set, model, loss, num_epochs=epoch_tuple)\n",
    "\t\t\t\tresults[key].append(f1_score)\n",
    "\t\t\t\trun_times[key].append(run_time)\n",
    "\t\t\texcept Exception as err:\n",
    "\t\t\t\tprint(key, \"failed\", str(err))\n",
    "\treturn results, run_times"
   ]
  },
  {
   "cell_type": "markdown",
   "metadata": {},
   "source": [
    "### Data sampling"
   ]
  },
  {
   "cell_type": "code",
   "execution_count": 16,
   "metadata": {},
   "outputs": [],
   "source": [
    "def constant_params_tests(params, train_set, test_set):\n",
    "\tresults = []\n",
    "\trun_times = []\n",
    "\tnew_test_set = Dataset.from_pandas(test_set, split=\"test\")\n",
    "\tprogress = 0\n",
    "\n",
    "\tfor i in range(params[\"n_iter\"]):\n",
    "\t\tprogress += 1\n",
    "\t\tprint(\"Step:\", progress, \"/\", params[\"n_iter\"])\n",
    "\t\tnew_train_set = filter_dataset(train_set, params[\"input_length_range\"][0], params[\"input_length_range\"][1])\n",
    "\t\tnew_train_set = Dataset.from_pandas(train_set, split=\"train\")\n",
    "\t\tnew_train_set = sample_dataset(new_train_set, label_column=\"label\", num_samples=params[\"n_shot\"], seed=47*i)\n",
    "\n",
    "\t\ttry:\n",
    "\t\t\tf1_score, run_time = setfit_f1_score(new_train_set, new_test_set, params[\"model\"], params[\"loss\"])\n",
    "\t\t\tresults.append(f1_score)\n",
    "\t\t\trun_times.append(run_time)\n",
    "\t\texcept Exception as err:\n",
    "\t\t\t\tprint(i, \"failed\", str(err))\n",
    "\treturn {\"all\":results}, {\"all\":run_times}"
   ]
  },
  {
   "cell_type": "markdown",
   "metadata": {},
   "source": [
    "### Data Augmentation"
   ]
  },
  {
   "cell_type": "code",
   "execution_count": 17,
   "metadata": {},
   "outputs": [
    {
     "name": "stderr",
     "output_type": "stream",
     "text": [
      "[nltk_data] Downloading package wordnet to\n",
      "[nltk_data]     C:\\Users\\robin\\AppData\\Roaming\\nltk_data...\n",
      "[nltk_data]   Package wordnet is already up-to-date!\n"
     ]
    }
   ],
   "source": [
    "import nltk\n",
    "from nltk.corpus import wordnet\n",
    "from nltk.tokenize import word_tokenize, sent_tokenize\n",
    "import random\n",
    "\n",
    "nltk.download('wordnet')\n",
    "\n",
    "def get_synonyms(word, lang):\n",
    "    l = 'fra' if lang == 'fr' else 'eng'\n",
    "    synonyms=[synset.lemma_names(l) for synset in wordnet.synsets(word, lang=l)]\n",
    "    return synonyms\n",
    "\n",
    "def replace_with_synonym(word, synonyms):\n",
    "\tif synonyms:\n",
    "\t\tsyn = random.choice(synonyms)\n",
    "\t\tif type(syn) == type([]):\n",
    "\t\t\tsyn = random.choice(syn)\n",
    "\treturn word\n",
    "\n",
    "def gen_text_with_synonym_replacement(text, lang, params=None):\n",
    "\tmodification_ratio = 1\n",
    "\tif not (params is None) and \"modification_ratio\" in params :\n",
    "\t\tif params[\"modification_ratio\"] < 0 or params[\"modification_ratio\"] > 1:\n",
    "\t\t\traise Exception(\"Invalid modification_ratio (expected a value between 0 and 1)\")\n",
    "\t\telse:\n",
    "\t\t\tmodification_ratio = params[\"modification_ratio\"]\n",
    "\t\t\n",
    "\tsentences = sent_tokenize(text)\n",
    "\taugmented_sentences = []\n",
    "\n",
    "\topposite_modification_ratio = 1 - modification_ratio\t\n",
    " \n",
    "\tfor sentence in sentences:\n",
    "\t\ttokenized = word_tokenize(sentence)\n",
    "\t\taugmented_tokens = []\n",
    "\t\tfor token in tokenized:\n",
    "\t\t\tdo_replace_by_synonym = 1 == np.random.choice([0,1], p=[opposite_modification_ratio,modification_ratio])\n",
    "\t\t\tif do_replace_by_synonym:\n",
    "\t\t\t\tsynonyms = get_synonyms(token, lang)\n",
    "\t\t\t\taugmented_tokens.append(replace_with_synonym(token, synonyms))\n",
    "\t\t\telse:\n",
    "\t\t\t\taugmented_tokens.append(token)\n",
    "\t\taugmented_sentence = ' '.join(augmented_tokens)\n",
    "\t\taugmented_sentences.append(augmented_sentence)\n",
    "\t \n",
    "\taugmented_text = ' '.join(augmented_sentences)\n",
    "\treturn augmented_text\n",
    "\n",
    "def augment_synonym_replacement(data, new_samples, n_new_samples_per_class, classes, strategy_params):\n",
    "\tprogress = 0\n",
    "\tprogress_end = n_new_samples_per_class * len(classes)\n",
    "\tdo_continue = True\n",
    "\t\n",
    "\twhile(do_continue and progress < progress_end):     \n",
    "\t\tfor i in range(len(data)):\n",
    "\t\t\tc = data.iloc[i][\"label\"]\n",
    "\t\t\tif(len(new_samples[c]) >= n_new_samples_per_class):\n",
    "\t\t\t\tcontinue\n",
    "\t\t\t\t\n",
    "\t\t\tprint(\"Data augmentation... (\", progress, \"/\", progress_end,\")\")\n",
    "\t\t\ttry:\n",
    "\t\t\t\tl = detect(data.iloc[i][\"text\"])\n",
    "\t\t\t\tif l != 'fr' and l != 'en':\n",
    "\t\t\t\t\tcontinue\n",
    "\t\t\t\tnew_samples[c].append(gen_text_with_synonym_replacement(data.iloc[i][\"text\"], l, strategy_params))\n",
    "\t\t\texcept Exception as err:\n",
    "\t\t\t\tprint(\"failed\", str(err))\n",
    "\t\n",
    "\t\t\tprogress += 1\n",
    "\t\t\tif progress >= progress_end:\n",
    "\t\t\t\tbreak\n",
    "\n",
    "\t\tdo_continue = False\n",
    "\t\tfor val in new_samples.values():\n",
    "\t\t\tif len(val) < n_new_samples_per_class:\n",
    "\t\t\t\tdo_continue = True\n",
    "\t\n",
    "\treturn new_samples"
   ]
  },
  {
   "cell_type": "code",
   "execution_count": 18,
   "metadata": {},
   "outputs": [],
   "source": [
    "from random import randint\n",
    "\n",
    "def gen_text_from_sentences(sentences, length):\n",
    "\tselected_sentences = []\n",
    "\tfor _ in range(length):\n",
    "\t\tselected_sentences.append(random.choice(sentences))\n",
    "\treturn ' '.join(selected_sentences)\n",
    "     \n",
    "\n",
    "def augment_swapping_inter(data, new_samples, n_new_samples_per_class, classes):\n",
    "\tprogress = 0\n",
    "\tprogress_end = n_new_samples_per_class * len(classes)\n",
    "\tmax_text_size = 10 # max number of sentences\n",
    " \n",
    "\tfor c in classes:\n",
    "\t\tfiltered_rows = data[data['label'] == c]\n",
    "\t\tsentences = []\n",
    "\t\tfor i in range(len(filtered_rows)):\n",
    "\t\t\tsentences = sentences + sent_tokenize(filtered_rows.iloc[i][\"text\"])\n",
    "\n",
    "\t\twhile(len(new_samples[c]) < n_new_samples_per_class):\n",
    "\t\t\tprogress += 1\n",
    "\t\t\tprint(\"Data augmentation... (\", progress, \"/\", progress_end,\")\")\n",
    "   \n",
    "\t\t\tlength = randint(1, max(1,min(len(sentences)//4, max_text_size)))\n",
    "\t\t\tnew_text = gen_text_from_sentences(sentences, length)\n",
    "\t\t\tnew_samples[c].append(new_text)\n",
    "\t\t\t\t\n",
    "\treturn new_samples"
   ]
  },
  {
   "cell_type": "code",
   "execution_count": 48,
   "metadata": {},
   "outputs": [],
   "source": [
    "from math import floor\n",
    "\n",
    "def augment_crossover(data, new_samples, n_new_samples_per_class, classes, strategy_params=None):\n",
    "\tn_points_crossover = floor(strategy_params[\"n_points_crossover\"]) if not (strategy_params is None) and \"n_points_crossover\" in strategy_params else 1\n",
    "\tif n_points_crossover<0:\n",
    "\t\tn_points_crossover = 1\n",
    "\tprogress = 0\n",
    "\tprogress_end = n_new_samples_per_class * len(classes)\n",
    "\tn_divs = n_points_crossover+1\n",
    " \n",
    "\tfor c in classes:\n",
    "\t\tfiltered_rows = data[data['label'] == c]\n",
    "\t\t\n",
    "\t\twhile(len(new_samples[c]) < n_new_samples_per_class):\n",
    "\t\t\tfor parent1 in range(len(filtered_rows)):\n",
    "\t\t\t\tprogress += 1\n",
    "\t\t\t\tprint(\"Data augmentation... (\", progress, \"/\", progress_end,\")\")\n",
    "    \n",
    "\t\t\t\tparent2 =  random.choice([j for j in range(len(filtered_rows)) if j != parent1])\n",
    "    \n",
    "\t\t\t\tsentences_parent1 = sent_tokenize(filtered_rows.iloc[parent1][\"text\"])\n",
    "\t\t\t\tsentences_parent2 = sent_tokenize(filtered_rows.iloc[parent2][\"text\"])\n",
    "\t\t\t\n",
    "\t\t\t\tchunk_len_parent1 = len(sentences_parent1) // n_divs + (1 if len(sentences_parent1) % n_divs != 0 else 0)\n",
    "\t\t\t\tchunk_len_parent2 = len(sentences_parent2) // n_divs + (1 if len(sentences_parent2) % n_divs != 0 else 0)\n",
    "\t\t\t\ti1 = 0\n",
    "\t\t\t\ti2 = 0\n",
    "\n",
    "\t\t\t\taugmented_sentences = []\n",
    "\n",
    "\t\t\t\tfor _ in range(n_divs):\n",
    "\t\t\t\t\tif i1>=len(sentences_parent1):\n",
    "\t\t\t\t\t\twhile i1>=len(sentences_parent1) and i2 < len(sentences_parent2):\n",
    "\t\t\t\t\t\t\taugmented_sentences.append(sentences_parent2[i2])\n",
    "\t\t\t\t\t\t\ti2 += 1\n",
    "\t\t\t\t\t\tbreak\n",
    "\t\t\t\t\telif i2>=len(sentences_parent2):\n",
    "\t\t\t\t\t\twhile i2>=len(sentences_parent2) and i1 < len(sentences_parent1):\n",
    "\t\t\t\t\t\t\taugmented_sentences.append(sentences_parent1[i1])\n",
    "\t\t\t\t\t\t\ti1 += 1\n",
    "\t\t\t\t\t\tbreak\n",
    "\t\t\t\t\telse:\n",
    "\t\t\t\t\t\ti_parent = random.choice([1,2])\n",
    "\t\t\t\t\t\tif i_parent == 1:\n",
    "\t\t\t\t\t\t\ti_chunk = 0\n",
    "\t\t\t\t\t\t\twhile i_chunk < chunk_len_parent1 and i1<len(sentences_parent1):\n",
    "\t\t\t\t\t\t\t\taugmented_sentences.append(sentences_parent1[i1 + i_chunk])\n",
    "\t\t\t\t\t\t\t\ti_chunk += 1\n",
    "\t\t\t\t\t\t\ti1 += chunk_len_parent1\n",
    "\t\t\t\t\t\telse:\n",
    "\t\t\t\t\t\t\ti_chunk = 0\n",
    "\t\t\t\t\t\t\twhile i_chunk < chunk_len_parent2 and i2<len(sentences_parent2):\n",
    "\t\t\t\t\t\t\t\taugmented_sentences.append(sentences_parent1[i2 + i_chunk])\n",
    "\t\t\t\t\t\t\t\ti_chunk += 1\n",
    "\t\t\t\t\t\t\ti1 += chunk_len_parent2\n",
    "\t\t\t\t\n",
    "\n",
    "\t\t\t\tnew_text = ' '.join(augmented_sentences)\n",
    "\t\t\t\tnew_samples[c].append(new_text)\n",
    "\n",
    "\t\t\t\tif len(new_samples[c]) >= n_new_samples_per_class:\n",
    "\t\t\t\t\tbreak\n",
    "\t\t\t\t\n",
    "\treturn new_samples"
   ]
  },
  {
   "cell_type": "code",
   "execution_count": 43,
   "metadata": {},
   "outputs": [],
   "source": [
    "from transformers import MarianMTModel, MarianTokenizer\n",
    "\n",
    "def augment_back_translation(data, new_samples, n_new_samples_per_class, classes):\n",
    "\tmodel_name_fr_en = \"Helsinki-NLP/opus-mt-fr-en\"\n",
    "\tmodel_name_en_fr = \"Helsinki-NLP/opus-mt-en-fr\"\n",
    "\n",
    "\ttokenizer_fr_en = MarianTokenizer.from_pretrained(model_name_fr_en)\n",
    "\ttokenizer_en_fr = MarianTokenizer.from_pretrained(model_name_en_fr)\n",
    "\tmodel_fr_en = MarianMTModel.from_pretrained(model_name_fr_en)\n",
    "\tmodel_en_fr = MarianMTModel.from_pretrained(model_name_en_fr)\t\n",
    "\tprogress = 0\n",
    "\tprogress_end = n_new_samples_per_class * len(classes)\n",
    "\tdo_continue = True\n",
    " \n",
    "\twhile(do_continue and progress < progress_end):     \n",
    "\t\tfor i in range(len(data)):\n",
    "\t\t\tc = data.iloc[i][\"label\"]\n",
    "\t\t\tif(len(new_samples[c]) >= n_new_samples_per_class):\n",
    "\t\t\t\tcontinue\n",
    "\t\t\t\t\n",
    "\t\t\tprint(\"Data augmentation... (\", progress, \"/\", progress_end,\")\")\n",
    "\t\t\ttry:\n",
    "\t\t\t\tl = detect(data.iloc[i][\"text\"])\n",
    "\n",
    "\t\t\t\tif l != 'fr' and l != 'en':\n",
    "\t\t\t\t\tcontinue\n",
    "\n",
    "\t\t\t\tif l == 'fr':\n",
    "\t\t\t\t\ttemp = model_fr_en.generate(**tokenizer_fr_en(\">>en<< \"+data.iloc[i][\"text\"], return_tensors=\"pt\", padding=True))[0]\n",
    "\t\t\t\t\ttemp = tokenizer_fr_en.decode(temp, skip_special_tokens=True)\n",
    "\t\t\t\t\ttemp = model_en_fr.generate(**tokenizer_en_fr(\">>fr<< \"+temp, return_tensors=\"pt\", padding=True))[0]\n",
    "\t\t\t\t\tnew_samples[c].append(tokenizer_en_fr.decode(temp, skip_special_tokens=True))\n",
    "\t\t\t\telif l == 'en':\n",
    "\t\t\t\t\ttemp = model_en_fr.generate(**tokenizer_en_fr(\">>fr<< \"+data.iloc[i][\"text\"], return_tensors=\"pt\", padding=True))[0]\n",
    "\t\t\t\t\ttemp = tokenizer_en_fr.decode(temp, skip_special_tokens=True)\n",
    "\t\t\t\t\ttemp = model_fr_en.generate(**tokenizer_fr_en(\">>en<< \"+temp, return_tensors=\"pt\", padding=True))[0]\n",
    "\t\t\t\t\tnew_samples[c].append(tokenizer_fr_en.decode(temp, skip_special_tokens=True))\n",
    "\t\t\texcept Exception as err:\n",
    "\t\t\t\tprint(\"failed\", str(err))\n",
    "\t\n",
    "\t\t\tprogress += 1\n",
    "\t\t\tif progress >= progress_end:\n",
    "\t\t\t\tbreak\n",
    "\n",
    "\t\tdo_continue = False\n",
    "\t\tfor val in new_samples.values():\n",
    "\t\t\tif len(val) < n_new_samples_per_class:\n",
    "\t\t\t\tdo_continue = True\n",
    "    \n",
    "\tdel tokenizer_fr_en\n",
    "\tdel tokenizer_en_fr\n",
    "\tdel model_fr_en\n",
    "\tdel model_en_fr\n",
    " \n",
    "\treturn new_samples"
   ]
  },
  {
   "cell_type": "code",
   "execution_count": 57,
   "metadata": {},
   "outputs": [],
   "source": [
    "# Some methods come from: Li, Bohan, Yutai Hou, and Wanxiang Che. \"Data augmentation approaches in natural language processing: A survey.\" Ai Open 3 (2022): 71-90.\n",
    "\n",
    "def augment_data(data, n_new_samples_per_class, classes, strategy='synonym', strategy_params = None):\n",
    "\tif n_new_samples_per_class <= 0:\n",
    "\t\treturn data\n",
    "\n",
    "\tnew_samples = {}\n",
    "\tfor c in classes:\n",
    "\t\tnew_samples[c] = []\n",
    "\n",
    "\tif strategy == \"swapping_inter\":\n",
    "\t\tnew_samples = augment_swapping_inter(data, new_samples, n_new_samples_per_class, classes)\n",
    "\telif strategy == \"back_translation\":\n",
    "\t\tnew_samples = augment_back_translation(data, new_samples, n_new_samples_per_class, classes)\n",
    "\telif strategy == \"synonym_replacement\":\n",
    "\t\tnew_samples = augment_synonym_replacement(data, new_samples, n_new_samples_per_class, classes, strategy_params)\n",
    "\telif strategy == \"crossover\":\n",
    "\t\tnew_samples = augment_crossover(data, new_samples, n_new_samples_per_class, classes, strategy_params)\n",
    "\telse:\n",
    "\t\traise Exception(\"Unknown strategy\")\n",
    "\n",
    "\tgc.collect()\n",
    "\ttorch.cuda.empty_cache()\n",
    "\n",
    "\tnewData = data.copy()\n",
    "\tfor c, samples_list in new_samples.items():\n",
    "\t\tfor sample in samples_list:\n",
    "\t\t\tnewData.loc[len(newData.index)] = {\"text\":sample,\"label\":c}\n",
    "\treturn newData"
   ]
  },
  {
   "cell_type": "code",
   "execution_count": 21,
   "metadata": {},
   "outputs": [],
   "source": [
    "from math import round\n",
    "\n",
    "def data_augmentation_tests(params, train_set, test_set):\n",
    "\tn_shot = params[\"n_shot\"]\n",
    "\tn_iter = params[\"n_iter\"]\n",
    "\tmodel = params[\"model\"]\n",
    "\tloss = params[\"loss\"]\n",
    "\taugmentation_ratios = params[\"data_augmentation_ratio\"]\n",
    "\tstrategy = params[\"data_augmentation_strategy\"]\n",
    "\tnum_epochs = params[\"num_epochs\"] if \"num_epochs\" in params else None\n",
    "\tbatch_size = params[\"batch_size\"] if \"batch_size\" in params else None\n",
    "\tstrategy_params = params[\"strategy_params\"] if \"strategy_params\" in params else None\n",
    "\n",
    "\tresults = {}\n",
    "\trun_times = {}\n",
    "\tfor ratio in augmentation_ratios:\n",
    "\t\tresults[ratio] = []\n",
    "\t\trun_times[ratio] = []\n",
    "\t\n",
    "\tprogress = 0\n",
    "\tprogress_end = n_iter * len(augmentation_ratios)\n",
    " \n",
    "\t# Repeat the tests multiple times because F1-score variations might be due to the examples chosen and not the input length of those examples\n",
    "\tfor i in range(n_iter):\n",
    "\t\t# Use the same subset of the dataset for all of the tests in the following loop\n",
    "\t\tnew_train_set = train_set.sample(frac = 1, random_state=i*47).groupby('label').head(n_shot)\n",
    "\t\tnew_test_set = Dataset.from_pandas(test_set, split=\"test\")\n",
    "\n",
    "\t\tfor ratio in augmentation_ratios:\n",
    "\t\t\ttry:\n",
    "\t\t\t\tprogress += 1\n",
    "\t\t\t\tprint(\"Step:\", progress, \"/\", progress_end)\n",
    "\n",
    "\t\t\t\tif ratio*n_shot >= n_shot+1:\n",
    "\t\t\t\t\tnew_train_set_augmented = augment_data(new_train_set, round((ratio-1) * n_shot), [0,1], strategy, strategy_params)\n",
    "\t\t\t\telse:\n",
    "\t\t\t\t\tnew_train_set_augmented = new_train_set\n",
    "\t\t\t\tnew_train_set_augmented = Dataset.from_pandas(new_train_set_augmented, split=\"test\")\n",
    "\t\t\t\tprint(\"Training...\",end=\"\")\n",
    "\t\t\t\tf1_score, run_time = setfit_f1_score(new_train_set_augmented, new_test_set, model, loss, num_epochs=num_epochs, batch_size=batch_size)\n",
    "\t\t\t\tprint(\"Done\")\n",
    "\t\t\t\tresults[ratio].append(f1_score)\n",
    "\t\t\t\trun_times[ratio].append(run_time)\n",
    "\t\t\texcept Exception as err:\n",
    "\t\t\t\tprint(ratio, \"failed\", str(err))\n",
    "\treturn results, run_times"
   ]
  },
  {
   "cell_type": "markdown",
   "metadata": {},
   "source": [
    "## Run tests"
   ]
  },
  {
   "cell_type": "code",
   "execution_count": 22,
   "metadata": {},
   "outputs": [],
   "source": [
    "def loss_to_str(loss):\n",
    "    if loss == CosineSimilarityLoss:\n",
    "        return \"Cosine\"\n",
    "    elif loss == BatchAllTripletLoss:\n",
    "        return \"Triplet\"\n",
    "    else:\n",
    "        return \"\""
   ]
  },
  {
   "cell_type": "markdown",
   "metadata": {},
   "source": [
    "### N-shots"
   ]
  },
  {
   "cell_type": "markdown",
   "metadata": {},
   "source": [
    "By default SetFit uses the oversampling strategy and the Cosine Similarity loss. For instance if we have 8 positive and 8 negative examples then we have:\n",
    "\n",
    "|   | Y | Y | Y | Y | Y | Y | Y | Y | N | N | N | N | N | N | N | N |\n",
    "|---|---|---|---|---|---|---|---|---|---|---|---|---|---|---|---|---|\n",
    "| Y | + | + | + | + | + | + | + | + | - | - | - | - | - | - | - | - |\n",
    "| Y |   | + | + | + | + | + | + | + | - | - | - | - | - | - | - | - |\n",
    "| Y |   |   | + | + | + | + | + | + | - | - | - | - | - | - | - | - |\n",
    "| Y |   |   |   | + | + | + | + | + | - | - | - | - | - | - | - | - |\n",
    "| Y |   |   |   |   | + | + | + | + | - | - | - | - | - | - | - | - |\n",
    "| Y |   |   |   |   |   | + | + | + | - | - | - | - | - | - | - | - |\n",
    "| Y |   |   |   |   |   |   | + | + | - | - | - | - | - | - | - | - |\n",
    "| Y |   |   |   |   |   |   |   | + | - | - | - | - | - | - | - | - |\n",
    "| N |   |   |   |   |   |   |   |   | + | + | + | + | + | + | + | + |\n",
    "| N |   |   |   |   |   |   |   |   |   | + | + | + | + | + | + | + |\n",
    "| N |   |   |   |   |   |   |   |   |   |   | + | + | + | + | + | + |\n",
    "| N |   |   |   |   |   |   |   |   |   |   |   | + | + | + | + | + |\n",
    "| N |   |   |   |   |   |   |   |   |   |   |   |   | + | + | + | + |\n",
    "| N |   |   |   |   |   |   |   |   |   |   |   |   |   | + | + | + |\n",
    "| N |   |   |   |   |   |   |   |   |   |   |   |   |   |   | + | + |\n",
    "| N |   |   |   |   |   |   |   |   |   |   |   |   |   |   |   | + |\n",
    "\n",
    "- P = 2 * (8 + 7 + 6 + 5 + 4 + 3 + 2 + 1) \t= 72\n",
    "- N = 8 * 8 = 64 -> + 8 duplications \t\t= 72\n",
    "- Total = 72 + 72 = 144"
   ]
  },
  {
   "cell_type": "code",
   "execution_count": null,
   "metadata": {},
   "outputs": [],
   "source": [
    "params = {\n",
    "\t\"n_shot\": [2, 4, 6, 10, 20, 40, 60, 100],\n",
    "\t\"n_iter\": 10,\n",
    " \t\"n_max_iter_per_shot\": 10,\n",
    "\t\"model\": \"sentence-transformers/paraphrase-mpnet-base-v2\",\n",
    "\t\"loss\": BatchAllTripletLoss\n",
    "}\n",
    "\n",
    "results, run_times = n_shot_tests(params, train_set, test_set)\n",
    "\n",
    "params[\"loss\"] = loss_to_str(params[\"loss\"])\n",
    "save_to_json({\"results\":results, \"run_times\":run_times, \"params\": params},  r'../results/setfit/n_shot')"
   ]
  },
  {
   "cell_type": "markdown",
   "metadata": {},
   "source": [
    "### Input length"
   ]
  },
  {
   "cell_type": "code",
   "execution_count": null,
   "metadata": {},
   "outputs": [],
   "source": [
    "params = {\n",
    "    \"input_length_range\": [[0,4],[4,5],[5,6],[6,7],[7,8],[8,9],[9,10]],\n",
    "    #[[6,10],[10,15],[15,20],[20,30], [6,15], [15,30], [6,20], [10,30], [6,30]],\n",
    "    # [[0,5],[5,10], [10,50], [50,100],[100,200],[200,350]],\n",
    "    # [[0,9],[1,9],[2,9],[3,9],[4,9],[5,9],[6,9],[7,9],[8,9],[9,9]],\n",
    "    # [[0,9],[9,100],[9,350],[100,350],[0,350]],\n",
    "\t# [[8,50],[8,100],[8,150],[8,200],[8,250],[8,300],[8,350]],\n",
    "\t# [[7,350],[8,350],[9,350],[10,350]],\n",
    "    # [[0,3],[0,4],[0,5],[0,6],[0,7],[0,8],[0,9],[0,10]],\n",
    "    # [[0,5],[0,10],[0,100],[6,100],[200,350]],\n",
    "\t\"n_shot\": 8,\n",
    "\t\"n_iter\": 50,\n",
    "\t\"model\": \"sentence-transformers/paraphrase-mpnet-base-v2\",\n",
    "\t\"loss\": BatchAllTripletLoss\n",
    "}\n",
    "\n",
    "results, run_times = input_length_tests(params, train_set, test_set)\n",
    "\n",
    "params[\"loss\"] = loss_to_str(params[\"loss\"])\n",
    "save_to_json({\"results\":results, \"run_times\":run_times, \"params\": params},  r'../results/setfit/input_length')"
   ]
  },
  {
   "cell_type": "markdown",
   "metadata": {},
   "source": [
    "### Distance"
   ]
  },
  {
   "cell_type": "code",
   "execution_count": null,
   "metadata": {},
   "outputs": [],
   "source": [
    "params = {\n",
    "\t\"n_shot\": 8,\n",
    "\t\"n_iter\": 10,\n",
    "\t\"model\": \"sentence-transformers/paraphrase-mpnet-base-v2\",\n",
    "\t\"distance\": {\n",
    "\t\t\"Cosine\":BatchHardTripletLossDistanceFunction.cosine_distance,\n",
    "\t\t\"Euclidian\": BatchHardTripletLossDistanceFunction.eucledian_distance, # it's really \"eucledian\" and not \"euclidian\" in the module sentence_transformers\n",
    "\t},\n",
    "\t\"loss\": BatchAllTripletLoss,\n",
    "}\n",
    "\n",
    "\n",
    "results, run_times = distance_tests(params, train_set, test_set)\n",
    "\n",
    "list_distances = []\n",
    "for key in params[\"distance\"].keys():\n",
    "    list_distances.append(key)\n",
    "params[\"distance\"] = list_distances\n",
    "params[\"loss\"] = loss_to_str(params[\"loss\"])\n",
    "save_to_json({\"results\":results, \"run_times\":run_times, \"params\": params},  r'../results/setfit/distance')"
   ]
  },
  {
   "cell_type": "markdown",
   "metadata": {},
   "source": [
    "### Loss (pair-wise or Triplet)"
   ]
  },
  {
   "cell_type": "code",
   "execution_count": null,
   "metadata": {},
   "outputs": [],
   "source": [
    "params = {\n",
    "\t\"n_shot\": 8,\n",
    "\t\"n_iter\": 50,\n",
    "\t\"model\": \"sentence-transformers/paraphrase-mpnet-base-v2\",\n",
    "\t\"loss\": {\"Cosine\":CosineSimilarityLoss, \"Triplet\":BatchAllTripletLoss}\n",
    "}\n",
    "\n",
    "results, run_times = loss_tests(params, train_set, test_set)\n",
    "\n",
    "list_losses = []\n",
    "for key in params[\"loss\"].keys():\n",
    "    list_losses.append(key)\n",
    "params[\"loss\"] = list_losses\n",
    "save_to_json({\"results\":results, \"run_times\":run_times, \"params\": params},  r'../results/setfit/loss')"
   ]
  },
  {
   "cell_type": "markdown",
   "metadata": {},
   "source": [
    "### Language"
   ]
  },
  {
   "cell_type": "code",
   "execution_count": null,
   "metadata": {},
   "outputs": [],
   "source": [
    "params = {\n",
    "\t\"n_shot\": 8,\n",
    "\t\"lang\": ['fr','en'],\n",
    "\t\"n_iter\": 10,\n",
    "\t\"model\": \"sentence-transformers/paraphrase-mpnet-base-v2\",\n",
    "\t\"loss\": BatchAllTripletLoss\n",
    "}\n",
    "\n",
    "results, run_times = language_tests(params, train_set, test_set)\n",
    "\n",
    "params[\"loss\"] = loss_to_str(params[\"loss\"])\n",
    "save_to_json({\"results\":results, \"run_times\":run_times, \"params\": params},  r'../results/setfit/language')"
   ]
  },
  {
   "cell_type": "markdown",
   "metadata": {},
   "source": [
    "### Sentence transformers"
   ]
  },
  {
   "cell_type": "code",
   "execution_count": null,
   "metadata": {},
   "outputs": [],
   "source": [
    "params = {\n",
    "\t\"n_shot\": 8,\n",
    "\t\"n_iter\": 5,\n",
    "\t\"loss\": BatchAllTripletLoss,\n",
    "\t\"model\": {\n",
    "\t\t\"paraphrase-mpnet-base-v2-fr-en\":\"RobinMeneust/paraphrase-mpnet-base-v2-fr-en\",\n",
    "\t\t\"paraphrase-mpnet-base-v2\": \"sentence-transformers/paraphrase-mpnet-base-v2\",\n",
    "\t\t\"all-mpnet-base-v2\":\"sentence-transformers/all-mpnet-base-v2\",\n",
    "\t}\n",
    "}\n",
    "\n",
    "results, run_times = model_tests(params, train_set, test_set)\n",
    "\n",
    "params[\"loss\"] = loss_to_str(params[\"loss\"])\n",
    "save_to_json({\"results\":results, \"run_times\":run_times, \"params\": params},  r'../results/setfit/model')"
   ]
  },
  {
   "cell_type": "markdown",
   "metadata": {},
   "source": [
    "### Number of epochs"
   ]
  },
  {
   "cell_type": "code",
   "execution_count": null,
   "metadata": {},
   "outputs": [],
   "source": [
    "params = {\n",
    "\t\"n_shot\": 8,\n",
    "\t\"n_iter\": 5,\n",
    "\t\"loss\": BatchAllTripletLoss,\n",
    "\t\"model\": \"paraphrase-mpnet-base-v2\",\n",
    "\t\"num_epochs\": [(8,1),(8,2),(8,4),(8,8),(8,10),(8,20),(8,30),(8,40)], \n",
    "\t#[(1,1),(2,1),(4,1),(8,1),(16,1),(32,1),(64,1)], \n",
    "\t#[(1,1),(1,2),(1,4),(1,8),(1,12),(1,16),(1,20),(1,25),(1,30)],\n",
    "}\n",
    "\n",
    "results, run_times = num_epochs_tests(params, train_set, test_set)\n",
    "\n",
    "params[\"loss\"] = loss_to_str(params[\"loss\"])\n",
    "save_to_json({\"results\":results, \"run_times\":run_times, \"params\": params},  r'../results/setfit/num_epoch')"
   ]
  },
  {
   "cell_type": "markdown",
   "metadata": {},
   "source": [
    "### Data sampling\n",
    "\n",
    "Run multiple tests with different training sets but the same parameters"
   ]
  },
  {
   "cell_type": "code",
   "execution_count": null,
   "metadata": {},
   "outputs": [],
   "source": [
    "params = {\n",
    "\t\"n_shot\": 10,\n",
    "\t\"n_iter\": 20,\n",
    "\t\"loss\": CosineSimilarityLoss,\n",
    "\t\"model\": \"paraphrase-mpnet-base-v2\",\n",
    "\t\"num_epochs\":(8,1),\n",
    "\t\"input_length_range\":[0,9],\n",
    "}\n",
    "\n",
    "results, run_times = constant_params_tests(params, train_set, test_set)\n",
    "\n",
    "params[\"loss\"] = loss_to_str(params[\"loss\"])\n",
    "save_to_json({\"results\":results, \"run_times\":run_times, \"params\": params},  r'../results/setfit/data_sampling')"
   ]
  },
  {
   "cell_type": "markdown",
   "metadata": {},
   "source": [
    "### Data Augmentation\n",
    "\n",
    "For now we only use a back translation technique and synonym replacement, but we could try other ones"
   ]
  },
  {
   "cell_type": "code",
   "execution_count": 59,
   "metadata": {},
   "outputs": [
    {
     "name": "stdout",
     "output_type": "stream",
     "text": [
      "Step: 1 / 100\n",
      "Training..."
     ]
    },
    {
     "name": "stderr",
     "output_type": "stream",
     "text": [
      "model_head.pkl not found on HuggingFace Hub, initialising classification head with random weights. You should TRAIN this model on a downstream task to use it for predictions and inference.\n",
      "***** Running training *****\n",
      "  Num unique pairs = 20\n",
      "  Batch size = 16\n",
      "  Num epochs = 8\n",
      "  Total optimization steps = 8\n",
      "***** Running evaluation *****\n"
     ]
    },
    {
     "name": "stdout",
     "output_type": "stream",
     "text": [
      "Done\n",
      "Step: 2 / 100\n",
      "Data augmentation... ( 1 / 2 )\n",
      "Data augmentation... ( 2 / 2 )\n",
      "Training..."
     ]
    },
    {
     "name": "stderr",
     "output_type": "stream",
     "text": [
      "model_head.pkl not found on HuggingFace Hub, initialising classification head with random weights. You should TRAIN this model on a downstream task to use it for predictions and inference.\n",
      "***** Running training *****\n",
      "  Num unique pairs = 22\n",
      "  Batch size = 16\n",
      "  Num epochs = 8\n",
      "  Total optimization steps = 8\n",
      "***** Running evaluation *****\n"
     ]
    },
    {
     "name": "stdout",
     "output_type": "stream",
     "text": [
      "Done\n",
      "Step: 3 / 100\n",
      "Training..."
     ]
    },
    {
     "name": "stderr",
     "output_type": "stream",
     "text": [
      "model_head.pkl not found on HuggingFace Hub, initialising classification head with random weights. You should TRAIN this model on a downstream task to use it for predictions and inference.\n",
      "***** Running training *****\n",
      "  Num unique pairs = 20\n",
      "  Batch size = 16\n",
      "  Num epochs = 8\n",
      "  Total optimization steps = 8\n",
      "***** Running evaluation *****\n"
     ]
    },
    {
     "name": "stdout",
     "output_type": "stream",
     "text": [
      "Done\n",
      "Step: 4 / 100\n",
      "Data augmentation... ( 1 / 2 )\n",
      "Data augmentation... ( 2 / 2 )\n",
      "Training..."
     ]
    },
    {
     "name": "stderr",
     "output_type": "stream",
     "text": [
      "model_head.pkl not found on HuggingFace Hub, initialising classification head with random weights. You should TRAIN this model on a downstream task to use it for predictions and inference.\n",
      "***** Running training *****\n",
      "  Num unique pairs = 22\n",
      "  Batch size = 16\n",
      "  Num epochs = 8\n",
      "  Total optimization steps = 8\n",
      "***** Running evaluation *****\n"
     ]
    },
    {
     "name": "stdout",
     "output_type": "stream",
     "text": [
      "Done\n",
      "Step: 5 / 100\n",
      "Training..."
     ]
    },
    {
     "name": "stderr",
     "output_type": "stream",
     "text": [
      "model_head.pkl not found on HuggingFace Hub, initialising classification head with random weights. You should TRAIN this model on a downstream task to use it for predictions and inference.\n",
      "***** Running training *****\n",
      "  Num unique pairs = 20\n",
      "  Batch size = 16\n",
      "  Num epochs = 8\n",
      "  Total optimization steps = 8\n",
      "***** Running evaluation *****\n"
     ]
    },
    {
     "name": "stdout",
     "output_type": "stream",
     "text": [
      "Done\n",
      "Step: 6 / 100\n",
      "Data augmentation... ( 1 / 2 )\n",
      "Data augmentation... ( 2 / 2 )\n",
      "Training..."
     ]
    },
    {
     "name": "stderr",
     "output_type": "stream",
     "text": [
      "model_head.pkl not found on HuggingFace Hub, initialising classification head with random weights. You should TRAIN this model on a downstream task to use it for predictions and inference.\n",
      "***** Running training *****\n",
      "  Num unique pairs = 22\n",
      "  Batch size = 16\n",
      "  Num epochs = 8\n",
      "  Total optimization steps = 8\n",
      "***** Running evaluation *****\n"
     ]
    },
    {
     "name": "stdout",
     "output_type": "stream",
     "text": [
      "Done\n",
      "Step: 7 / 100\n",
      "Training..."
     ]
    },
    {
     "name": "stderr",
     "output_type": "stream",
     "text": [
      "model_head.pkl not found on HuggingFace Hub, initialising classification head with random weights. You should TRAIN this model on a downstream task to use it for predictions and inference.\n",
      "***** Running training *****\n",
      "  Num unique pairs = 20\n",
      "  Batch size = 16\n",
      "  Num epochs = 8\n",
      "  Total optimization steps = 8\n",
      "***** Running evaluation *****\n"
     ]
    },
    {
     "name": "stdout",
     "output_type": "stream",
     "text": [
      "Done\n",
      "Step: 8 / 100\n",
      "Data augmentation... ( 1 / 2 )\n",
      "Data augmentation... ( 2 / 2 )\n",
      "Training..."
     ]
    },
    {
     "name": "stderr",
     "output_type": "stream",
     "text": [
      "model_head.pkl not found on HuggingFace Hub, initialising classification head with random weights. You should TRAIN this model on a downstream task to use it for predictions and inference.\n",
      "***** Running training *****\n",
      "  Num unique pairs = 22\n",
      "  Batch size = 16\n",
      "  Num epochs = 8\n",
      "  Total optimization steps = 8\n",
      "***** Running evaluation *****\n"
     ]
    },
    {
     "name": "stdout",
     "output_type": "stream",
     "text": [
      "Done\n",
      "Step: 9 / 100\n",
      "Training..."
     ]
    },
    {
     "name": "stderr",
     "output_type": "stream",
     "text": [
      "model_head.pkl not found on HuggingFace Hub, initialising classification head with random weights. You should TRAIN this model on a downstream task to use it for predictions and inference.\n",
      "***** Running training *****\n",
      "  Num unique pairs = 20\n",
      "  Batch size = 16\n",
      "  Num epochs = 8\n",
      "  Total optimization steps = 8\n",
      "***** Running evaluation *****\n"
     ]
    },
    {
     "name": "stdout",
     "output_type": "stream",
     "text": [
      "Done\n",
      "Step: 10 / 100\n",
      "Data augmentation... ( 1 / 2 )\n",
      "Data augmentation... ( 2 / 2 )\n",
      "Training..."
     ]
    },
    {
     "name": "stderr",
     "output_type": "stream",
     "text": [
      "model_head.pkl not found on HuggingFace Hub, initialising classification head with random weights. You should TRAIN this model on a downstream task to use it for predictions and inference.\n",
      "***** Running training *****\n",
      "  Num unique pairs = 22\n",
      "  Batch size = 16\n",
      "  Num epochs = 8\n",
      "  Total optimization steps = 8\n",
      "***** Running evaluation *****\n"
     ]
    },
    {
     "name": "stdout",
     "output_type": "stream",
     "text": [
      "Done\n",
      "Step: 11 / 100\n",
      "Training..."
     ]
    },
    {
     "name": "stderr",
     "output_type": "stream",
     "text": [
      "model_head.pkl not found on HuggingFace Hub, initialising classification head with random weights. You should TRAIN this model on a downstream task to use it for predictions and inference.\n",
      "***** Running training *****\n",
      "  Num unique pairs = 20\n",
      "  Batch size = 16\n",
      "  Num epochs = 8\n",
      "  Total optimization steps = 8\n",
      "***** Running evaluation *****\n"
     ]
    },
    {
     "name": "stdout",
     "output_type": "stream",
     "text": [
      "Done\n",
      "Step: 12 / 100\n",
      "Data augmentation... ( 1 / 2 )\n",
      "Data augmentation... ( 2 / 2 )\n",
      "Training..."
     ]
    },
    {
     "name": "stderr",
     "output_type": "stream",
     "text": [
      "model_head.pkl not found on HuggingFace Hub, initialising classification head with random weights. You should TRAIN this model on a downstream task to use it for predictions and inference.\n",
      "***** Running training *****\n",
      "  Num unique pairs = 22\n",
      "  Batch size = 16\n",
      "  Num epochs = 8\n",
      "  Total optimization steps = 8\n",
      "***** Running evaluation *****\n"
     ]
    },
    {
     "name": "stdout",
     "output_type": "stream",
     "text": [
      "Done\n",
      "Step: 13 / 100\n",
      "Training..."
     ]
    },
    {
     "name": "stderr",
     "output_type": "stream",
     "text": [
      "model_head.pkl not found on HuggingFace Hub, initialising classification head with random weights. You should TRAIN this model on a downstream task to use it for predictions and inference.\n",
      "***** Running training *****\n",
      "  Num unique pairs = 20\n",
      "  Batch size = 16\n",
      "  Num epochs = 8\n",
      "  Total optimization steps = 8\n",
      "***** Running evaluation *****\n"
     ]
    },
    {
     "name": "stdout",
     "output_type": "stream",
     "text": [
      "Done\n",
      "Step: 14 / 100\n",
      "Data augmentation... ( 1 / 2 )\n",
      "Data augmentation... ( 2 / 2 )\n",
      "Training..."
     ]
    },
    {
     "name": "stderr",
     "output_type": "stream",
     "text": [
      "model_head.pkl not found on HuggingFace Hub, initialising classification head with random weights. You should TRAIN this model on a downstream task to use it for predictions and inference.\n",
      "***** Running training *****\n",
      "  Num unique pairs = 22\n",
      "  Batch size = 16\n",
      "  Num epochs = 8\n",
      "  Total optimization steps = 8\n",
      "***** Running evaluation *****\n"
     ]
    },
    {
     "name": "stdout",
     "output_type": "stream",
     "text": [
      "Done\n",
      "Step: 15 / 100\n",
      "Training..."
     ]
    },
    {
     "name": "stderr",
     "output_type": "stream",
     "text": [
      "model_head.pkl not found on HuggingFace Hub, initialising classification head with random weights. You should TRAIN this model on a downstream task to use it for predictions and inference.\n",
      "***** Running training *****\n",
      "  Num unique pairs = 20\n",
      "  Batch size = 16\n",
      "  Num epochs = 8\n",
      "  Total optimization steps = 8\n",
      "***** Running evaluation *****\n"
     ]
    },
    {
     "name": "stdout",
     "output_type": "stream",
     "text": [
      "Done\n",
      "Step: 16 / 100\n",
      "Data augmentation... ( 1 / 2 )\n",
      "Data augmentation... ( 2 / 2 )\n",
      "Training..."
     ]
    },
    {
     "name": "stderr",
     "output_type": "stream",
     "text": [
      "model_head.pkl not found on HuggingFace Hub, initialising classification head with random weights. You should TRAIN this model on a downstream task to use it for predictions and inference.\n",
      "***** Running training *****\n",
      "  Num unique pairs = 22\n",
      "  Batch size = 16\n",
      "  Num epochs = 8\n",
      "  Total optimization steps = 8\n",
      "***** Running evaluation *****\n"
     ]
    },
    {
     "name": "stdout",
     "output_type": "stream",
     "text": [
      "Done\n",
      "Step: 17 / 100\n",
      "Training..."
     ]
    },
    {
     "name": "stderr",
     "output_type": "stream",
     "text": [
      "model_head.pkl not found on HuggingFace Hub, initialising classification head with random weights. You should TRAIN this model on a downstream task to use it for predictions and inference.\n",
      "***** Running training *****\n",
      "  Num unique pairs = 20\n",
      "  Batch size = 16\n",
      "  Num epochs = 8\n",
      "  Total optimization steps = 8\n",
      "***** Running evaluation *****\n"
     ]
    },
    {
     "name": "stdout",
     "output_type": "stream",
     "text": [
      "Done\n",
      "Step: 18 / 100\n",
      "Data augmentation... ( 1 / 2 )\n",
      "Data augmentation... ( 2 / 2 )\n",
      "Training..."
     ]
    },
    {
     "name": "stderr",
     "output_type": "stream",
     "text": [
      "model_head.pkl not found on HuggingFace Hub, initialising classification head with random weights. You should TRAIN this model on a downstream task to use it for predictions and inference.\n",
      "***** Running training *****\n",
      "  Num unique pairs = 22\n",
      "  Batch size = 16\n",
      "  Num epochs = 8\n",
      "  Total optimization steps = 8\n",
      "***** Running evaluation *****\n"
     ]
    },
    {
     "name": "stdout",
     "output_type": "stream",
     "text": [
      "Done\n",
      "Step: 19 / 100\n",
      "Training..."
     ]
    },
    {
     "name": "stderr",
     "output_type": "stream",
     "text": [
      "model_head.pkl not found on HuggingFace Hub, initialising classification head with random weights. You should TRAIN this model on a downstream task to use it for predictions and inference.\n",
      "***** Running training *****\n",
      "  Num unique pairs = 20\n",
      "  Batch size = 16\n",
      "  Num epochs = 8\n",
      "  Total optimization steps = 8\n",
      "***** Running evaluation *****\n"
     ]
    },
    {
     "name": "stdout",
     "output_type": "stream",
     "text": [
      "Done\n",
      "Step: 20 / 100\n",
      "Data augmentation... ( 1 / 2 )\n",
      "Data augmentation... ( 2 / 2 )\n",
      "Training..."
     ]
    },
    {
     "name": "stderr",
     "output_type": "stream",
     "text": [
      "model_head.pkl not found on HuggingFace Hub, initialising classification head with random weights. You should TRAIN this model on a downstream task to use it for predictions and inference.\n",
      "***** Running training *****\n",
      "  Num unique pairs = 22\n",
      "  Batch size = 16\n",
      "  Num epochs = 8\n",
      "  Total optimization steps = 8\n",
      "***** Running evaluation *****\n"
     ]
    },
    {
     "name": "stdout",
     "output_type": "stream",
     "text": [
      "Done\n",
      "Step: 21 / 100\n",
      "Training..."
     ]
    },
    {
     "name": "stderr",
     "output_type": "stream",
     "text": [
      "model_head.pkl not found on HuggingFace Hub, initialising classification head with random weights. You should TRAIN this model on a downstream task to use it for predictions and inference.\n",
      "***** Running training *****\n",
      "  Num unique pairs = 20\n",
      "  Batch size = 16\n",
      "  Num epochs = 8\n",
      "  Total optimization steps = 8\n",
      "***** Running evaluation *****\n"
     ]
    },
    {
     "name": "stdout",
     "output_type": "stream",
     "text": [
      "Done\n",
      "Step: 22 / 100\n",
      "Data augmentation... ( 1 / 2 )\n",
      "Data augmentation... ( 2 / 2 )\n",
      "Training..."
     ]
    },
    {
     "name": "stderr",
     "output_type": "stream",
     "text": [
      "model_head.pkl not found on HuggingFace Hub, initialising classification head with random weights. You should TRAIN this model on a downstream task to use it for predictions and inference.\n",
      "***** Running training *****\n",
      "  Num unique pairs = 22\n",
      "  Batch size = 16\n",
      "  Num epochs = 8\n",
      "  Total optimization steps = 8\n",
      "***** Running evaluation *****\n"
     ]
    },
    {
     "name": "stdout",
     "output_type": "stream",
     "text": [
      "Done\n",
      "Step: 23 / 100\n",
      "Training..."
     ]
    },
    {
     "name": "stderr",
     "output_type": "stream",
     "text": [
      "model_head.pkl not found on HuggingFace Hub, initialising classification head with random weights. You should TRAIN this model on a downstream task to use it for predictions and inference.\n",
      "***** Running training *****\n",
      "  Num unique pairs = 20\n",
      "  Batch size = 16\n",
      "  Num epochs = 8\n",
      "  Total optimization steps = 8\n",
      "***** Running evaluation *****\n"
     ]
    },
    {
     "name": "stdout",
     "output_type": "stream",
     "text": [
      "Done\n",
      "Step: 24 / 100\n",
      "Data augmentation... ( 1 / 2 )\n",
      "Data augmentation... ( 2 / 2 )\n",
      "Training..."
     ]
    },
    {
     "name": "stderr",
     "output_type": "stream",
     "text": [
      "model_head.pkl not found on HuggingFace Hub, initialising classification head with random weights. You should TRAIN this model on a downstream task to use it for predictions and inference.\n",
      "***** Running training *****\n",
      "  Num unique pairs = 22\n",
      "  Batch size = 16\n",
      "  Num epochs = 8\n",
      "  Total optimization steps = 8\n",
      "***** Running evaluation *****\n"
     ]
    },
    {
     "name": "stdout",
     "output_type": "stream",
     "text": [
      "Done\n",
      "Step: 25 / 100\n",
      "Training..."
     ]
    },
    {
     "name": "stderr",
     "output_type": "stream",
     "text": [
      "model_head.pkl not found on HuggingFace Hub, initialising classification head with random weights. You should TRAIN this model on a downstream task to use it for predictions and inference.\n",
      "***** Running training *****\n",
      "  Num unique pairs = 20\n",
      "  Batch size = 16\n",
      "  Num epochs = 8\n",
      "  Total optimization steps = 8\n",
      "***** Running evaluation *****\n"
     ]
    },
    {
     "name": "stdout",
     "output_type": "stream",
     "text": [
      "Done\n",
      "Step: 26 / 100\n",
      "Data augmentation... ( 1 / 2 )\n",
      "Data augmentation... ( 2 / 2 )\n",
      "Training..."
     ]
    },
    {
     "name": "stderr",
     "output_type": "stream",
     "text": [
      "model_head.pkl not found on HuggingFace Hub, initialising classification head with random weights. You should TRAIN this model on a downstream task to use it for predictions and inference.\n",
      "***** Running training *****\n",
      "  Num unique pairs = 22\n",
      "  Batch size = 16\n",
      "  Num epochs = 8\n",
      "  Total optimization steps = 8\n",
      "***** Running evaluation *****\n"
     ]
    },
    {
     "name": "stdout",
     "output_type": "stream",
     "text": [
      "Done\n",
      "Step: 27 / 100\n",
      "Training..."
     ]
    },
    {
     "name": "stderr",
     "output_type": "stream",
     "text": [
      "model_head.pkl not found on HuggingFace Hub, initialising classification head with random weights. You should TRAIN this model on a downstream task to use it for predictions and inference.\n",
      "***** Running training *****\n",
      "  Num unique pairs = 20\n",
      "  Batch size = 16\n",
      "  Num epochs = 8\n",
      "  Total optimization steps = 8\n",
      "***** Running evaluation *****\n"
     ]
    },
    {
     "name": "stdout",
     "output_type": "stream",
     "text": [
      "Done\n",
      "Step: 28 / 100\n",
      "Data augmentation... ( 1 / 2 )\n",
      "Data augmentation... ( 2 / 2 )\n",
      "Training..."
     ]
    },
    {
     "name": "stderr",
     "output_type": "stream",
     "text": [
      "model_head.pkl not found on HuggingFace Hub, initialising classification head with random weights. You should TRAIN this model on a downstream task to use it for predictions and inference.\n",
      "***** Running training *****\n",
      "  Num unique pairs = 22\n",
      "  Batch size = 16\n",
      "  Num epochs = 8\n",
      "  Total optimization steps = 8\n",
      "***** Running evaluation *****\n"
     ]
    },
    {
     "name": "stdout",
     "output_type": "stream",
     "text": [
      "Done\n",
      "Step: 29 / 100\n",
      "Training..."
     ]
    },
    {
     "name": "stderr",
     "output_type": "stream",
     "text": [
      "model_head.pkl not found on HuggingFace Hub, initialising classification head with random weights. You should TRAIN this model on a downstream task to use it for predictions and inference.\n",
      "***** Running training *****\n",
      "  Num unique pairs = 20\n",
      "  Batch size = 16\n",
      "  Num epochs = 8\n",
      "  Total optimization steps = 8\n",
      "***** Running evaluation *****\n"
     ]
    },
    {
     "name": "stdout",
     "output_type": "stream",
     "text": [
      "Done\n",
      "Step: 30 / 100\n",
      "Data augmentation... ( 1 / 2 )\n",
      "Data augmentation... ( 2 / 2 )\n",
      "Training..."
     ]
    },
    {
     "name": "stderr",
     "output_type": "stream",
     "text": [
      "model_head.pkl not found on HuggingFace Hub, initialising classification head with random weights. You should TRAIN this model on a downstream task to use it for predictions and inference.\n",
      "***** Running training *****\n",
      "  Num unique pairs = 22\n",
      "  Batch size = 16\n",
      "  Num epochs = 8\n",
      "  Total optimization steps = 8\n",
      "***** Running evaluation *****\n"
     ]
    },
    {
     "name": "stdout",
     "output_type": "stream",
     "text": [
      "Done\n",
      "Step: 31 / 100\n",
      "Training..."
     ]
    },
    {
     "name": "stderr",
     "output_type": "stream",
     "text": [
      "model_head.pkl not found on HuggingFace Hub, initialising classification head with random weights. You should TRAIN this model on a downstream task to use it for predictions and inference.\n",
      "***** Running training *****\n",
      "  Num unique pairs = 20\n",
      "  Batch size = 16\n",
      "  Num epochs = 8\n",
      "  Total optimization steps = 8\n",
      "***** Running evaluation *****\n"
     ]
    },
    {
     "name": "stdout",
     "output_type": "stream",
     "text": [
      "Done\n",
      "Step: 32 / 100\n",
      "Data augmentation... ( 1 / 2 )\n",
      "Data augmentation... ( 2 / 2 )\n",
      "Training..."
     ]
    },
    {
     "name": "stderr",
     "output_type": "stream",
     "text": [
      "model_head.pkl not found on HuggingFace Hub, initialising classification head with random weights. You should TRAIN this model on a downstream task to use it for predictions and inference.\n",
      "***** Running training *****\n",
      "  Num unique pairs = 22\n",
      "  Batch size = 16\n",
      "  Num epochs = 8\n",
      "  Total optimization steps = 8\n",
      "***** Running evaluation *****\n"
     ]
    },
    {
     "name": "stdout",
     "output_type": "stream",
     "text": [
      "Done\n",
      "Step: 33 / 100\n",
      "Training..."
     ]
    },
    {
     "name": "stderr",
     "output_type": "stream",
     "text": [
      "model_head.pkl not found on HuggingFace Hub, initialising classification head with random weights. You should TRAIN this model on a downstream task to use it for predictions and inference.\n",
      "***** Running training *****\n",
      "  Num unique pairs = 20\n",
      "  Batch size = 16\n",
      "  Num epochs = 8\n",
      "  Total optimization steps = 8\n",
      "***** Running evaluation *****\n"
     ]
    },
    {
     "name": "stdout",
     "output_type": "stream",
     "text": [
      "Done\n",
      "Step: 34 / 100\n",
      "Data augmentation... ( 1 / 2 )\n",
      "Data augmentation... ( 2 / 2 )\n",
      "Training..."
     ]
    },
    {
     "name": "stderr",
     "output_type": "stream",
     "text": [
      "model_head.pkl not found on HuggingFace Hub, initialising classification head with random weights. You should TRAIN this model on a downstream task to use it for predictions and inference.\n",
      "***** Running training *****\n",
      "  Num unique pairs = 22\n",
      "  Batch size = 16\n",
      "  Num epochs = 8\n",
      "  Total optimization steps = 8\n",
      "***** Running evaluation *****\n"
     ]
    },
    {
     "name": "stdout",
     "output_type": "stream",
     "text": [
      "Done\n",
      "Step: 35 / 100\n",
      "Training..."
     ]
    },
    {
     "name": "stderr",
     "output_type": "stream",
     "text": [
      "model_head.pkl not found on HuggingFace Hub, initialising classification head with random weights. You should TRAIN this model on a downstream task to use it for predictions and inference.\n",
      "***** Running training *****\n",
      "  Num unique pairs = 20\n",
      "  Batch size = 16\n",
      "  Num epochs = 8\n",
      "  Total optimization steps = 8\n",
      "***** Running evaluation *****\n"
     ]
    },
    {
     "name": "stdout",
     "output_type": "stream",
     "text": [
      "Done\n",
      "Step: 36 / 100\n",
      "Data augmentation... ( 1 / 2 )\n",
      "Data augmentation... ( 2 / 2 )\n",
      "Training..."
     ]
    },
    {
     "name": "stderr",
     "output_type": "stream",
     "text": [
      "model_head.pkl not found on HuggingFace Hub, initialising classification head with random weights. You should TRAIN this model on a downstream task to use it for predictions and inference.\n",
      "***** Running training *****\n",
      "  Num unique pairs = 22\n",
      "  Batch size = 16\n",
      "  Num epochs = 8\n",
      "  Total optimization steps = 8\n",
      "***** Running evaluation *****\n"
     ]
    },
    {
     "name": "stdout",
     "output_type": "stream",
     "text": [
      "Done\n",
      "Step: 37 / 100\n",
      "Training..."
     ]
    },
    {
     "name": "stderr",
     "output_type": "stream",
     "text": [
      "model_head.pkl not found on HuggingFace Hub, initialising classification head with random weights. You should TRAIN this model on a downstream task to use it for predictions and inference.\n",
      "***** Running training *****\n",
      "  Num unique pairs = 20\n",
      "  Batch size = 16\n",
      "  Num epochs = 8\n",
      "  Total optimization steps = 8\n",
      "***** Running evaluation *****\n"
     ]
    },
    {
     "name": "stdout",
     "output_type": "stream",
     "text": [
      "Done\n",
      "Step: 38 / 100\n",
      "Data augmentation... ( 1 / 2 )\n",
      "Data augmentation... ( 2 / 2 )\n",
      "Training..."
     ]
    },
    {
     "name": "stderr",
     "output_type": "stream",
     "text": [
      "model_head.pkl not found on HuggingFace Hub, initialising classification head with random weights. You should TRAIN this model on a downstream task to use it for predictions and inference.\n",
      "***** Running training *****\n",
      "  Num unique pairs = 22\n",
      "  Batch size = 16\n",
      "  Num epochs = 8\n",
      "  Total optimization steps = 8\n",
      "***** Running evaluation *****\n"
     ]
    },
    {
     "name": "stdout",
     "output_type": "stream",
     "text": [
      "Done\n",
      "Step: 39 / 100\n",
      "Training..."
     ]
    },
    {
     "name": "stderr",
     "output_type": "stream",
     "text": [
      "model_head.pkl not found on HuggingFace Hub, initialising classification head with random weights. You should TRAIN this model on a downstream task to use it for predictions and inference.\n",
      "***** Running training *****\n",
      "  Num unique pairs = 20\n",
      "  Batch size = 16\n",
      "  Num epochs = 8\n",
      "  Total optimization steps = 8\n",
      "***** Running evaluation *****\n"
     ]
    },
    {
     "name": "stdout",
     "output_type": "stream",
     "text": [
      "Done\n",
      "Step: 40 / 100\n",
      "Data augmentation... ( 1 / 2 )\n",
      "Data augmentation... ( 2 / 2 )\n",
      "Training..."
     ]
    },
    {
     "name": "stderr",
     "output_type": "stream",
     "text": [
      "model_head.pkl not found on HuggingFace Hub, initialising classification head with random weights. You should TRAIN this model on a downstream task to use it for predictions and inference.\n",
      "***** Running training *****\n",
      "  Num unique pairs = 22\n",
      "  Batch size = 16\n",
      "  Num epochs = 8\n",
      "  Total optimization steps = 8\n",
      "***** Running evaluation *****\n"
     ]
    },
    {
     "name": "stdout",
     "output_type": "stream",
     "text": [
      "Done\n",
      "Step: 41 / 100\n",
      "Training..."
     ]
    },
    {
     "name": "stderr",
     "output_type": "stream",
     "text": [
      "model_head.pkl not found on HuggingFace Hub, initialising classification head with random weights. You should TRAIN this model on a downstream task to use it for predictions and inference.\n",
      "***** Running training *****\n",
      "  Num unique pairs = 20\n",
      "  Batch size = 16\n",
      "  Num epochs = 8\n",
      "  Total optimization steps = 8\n",
      "***** Running evaluation *****\n"
     ]
    },
    {
     "name": "stdout",
     "output_type": "stream",
     "text": [
      "Done\n",
      "Step: 42 / 100\n",
      "Data augmentation... ( 1 / 2 )\n",
      "Data augmentation... ( 2 / 2 )\n",
      "Training..."
     ]
    },
    {
     "name": "stderr",
     "output_type": "stream",
     "text": [
      "model_head.pkl not found on HuggingFace Hub, initialising classification head with random weights. You should TRAIN this model on a downstream task to use it for predictions and inference.\n",
      "***** Running training *****\n",
      "  Num unique pairs = 22\n",
      "  Batch size = 16\n",
      "  Num epochs = 8\n",
      "  Total optimization steps = 8\n",
      "***** Running evaluation *****\n"
     ]
    },
    {
     "name": "stdout",
     "output_type": "stream",
     "text": [
      "Done\n",
      "Step: 43 / 100\n",
      "Training..."
     ]
    },
    {
     "name": "stderr",
     "output_type": "stream",
     "text": [
      "model_head.pkl not found on HuggingFace Hub, initialising classification head with random weights. You should TRAIN this model on a downstream task to use it for predictions and inference.\n",
      "***** Running training *****\n",
      "  Num unique pairs = 20\n",
      "  Batch size = 16\n",
      "  Num epochs = 8\n",
      "  Total optimization steps = 8\n",
      "***** Running evaluation *****\n"
     ]
    },
    {
     "name": "stdout",
     "output_type": "stream",
     "text": [
      "Done\n",
      "Step: 44 / 100\n",
      "Data augmentation... ( 1 / 2 )\n",
      "Data augmentation... ( 2 / 2 )\n",
      "Training..."
     ]
    },
    {
     "name": "stderr",
     "output_type": "stream",
     "text": [
      "model_head.pkl not found on HuggingFace Hub, initialising classification head with random weights. You should TRAIN this model on a downstream task to use it for predictions and inference.\n",
      "***** Running training *****\n",
      "  Num unique pairs = 22\n",
      "  Batch size = 16\n",
      "  Num epochs = 8\n",
      "  Total optimization steps = 8\n",
      "***** Running evaluation *****\n"
     ]
    },
    {
     "name": "stdout",
     "output_type": "stream",
     "text": [
      "Done\n",
      "Step: 45 / 100\n",
      "Training..."
     ]
    },
    {
     "name": "stderr",
     "output_type": "stream",
     "text": [
      "model_head.pkl not found on HuggingFace Hub, initialising classification head with random weights. You should TRAIN this model on a downstream task to use it for predictions and inference.\n",
      "***** Running training *****\n",
      "  Num unique pairs = 20\n",
      "  Batch size = 16\n",
      "  Num epochs = 8\n",
      "  Total optimization steps = 8\n",
      "***** Running evaluation *****\n"
     ]
    },
    {
     "name": "stdout",
     "output_type": "stream",
     "text": [
      "Done\n",
      "Step: 46 / 100\n",
      "Data augmentation... ( 1 / 2 )\n",
      "Data augmentation... ( 2 / 2 )\n",
      "Training..."
     ]
    },
    {
     "name": "stderr",
     "output_type": "stream",
     "text": [
      "model_head.pkl not found on HuggingFace Hub, initialising classification head with random weights. You should TRAIN this model on a downstream task to use it for predictions and inference.\n",
      "***** Running training *****\n",
      "  Num unique pairs = 22\n",
      "  Batch size = 16\n",
      "  Num epochs = 8\n",
      "  Total optimization steps = 8\n",
      "***** Running evaluation *****\n"
     ]
    },
    {
     "name": "stdout",
     "output_type": "stream",
     "text": [
      "Done\n",
      "Step: 47 / 100\n",
      "Training..."
     ]
    },
    {
     "name": "stderr",
     "output_type": "stream",
     "text": [
      "model_head.pkl not found on HuggingFace Hub, initialising classification head with random weights. You should TRAIN this model on a downstream task to use it for predictions and inference.\n",
      "***** Running training *****\n",
      "  Num unique pairs = 20\n",
      "  Batch size = 16\n",
      "  Num epochs = 8\n",
      "  Total optimization steps = 8\n",
      "***** Running evaluation *****\n"
     ]
    },
    {
     "name": "stdout",
     "output_type": "stream",
     "text": [
      "Done\n",
      "Step: 48 / 100\n",
      "Data augmentation... ( 1 / 2 )\n",
      "Data augmentation... ( 2 / 2 )\n",
      "Training..."
     ]
    },
    {
     "name": "stderr",
     "output_type": "stream",
     "text": [
      "model_head.pkl not found on HuggingFace Hub, initialising classification head with random weights. You should TRAIN this model on a downstream task to use it for predictions and inference.\n",
      "***** Running training *****\n",
      "  Num unique pairs = 22\n",
      "  Batch size = 16\n",
      "  Num epochs = 8\n",
      "  Total optimization steps = 8\n",
      "***** Running evaluation *****\n"
     ]
    },
    {
     "name": "stdout",
     "output_type": "stream",
     "text": [
      "Done\n",
      "Step: 49 / 100\n",
      "Training..."
     ]
    },
    {
     "name": "stderr",
     "output_type": "stream",
     "text": [
      "model_head.pkl not found on HuggingFace Hub, initialising classification head with random weights. You should TRAIN this model on a downstream task to use it for predictions and inference.\n",
      "***** Running training *****\n",
      "  Num unique pairs = 20\n",
      "  Batch size = 16\n",
      "  Num epochs = 8\n",
      "  Total optimization steps = 8\n",
      "***** Running evaluation *****\n"
     ]
    },
    {
     "name": "stdout",
     "output_type": "stream",
     "text": [
      "Done\n",
      "Step: 50 / 100\n",
      "Data augmentation... ( 1 / 2 )\n",
      "Data augmentation... ( 2 / 2 )\n",
      "Training..."
     ]
    },
    {
     "name": "stderr",
     "output_type": "stream",
     "text": [
      "model_head.pkl not found on HuggingFace Hub, initialising classification head with random weights. You should TRAIN this model on a downstream task to use it for predictions and inference.\n",
      "***** Running training *****\n",
      "  Num unique pairs = 22\n",
      "  Batch size = 16\n",
      "  Num epochs = 8\n",
      "  Total optimization steps = 8\n",
      "***** Running evaluation *****\n"
     ]
    },
    {
     "name": "stdout",
     "output_type": "stream",
     "text": [
      "Done\n",
      "Step: 51 / 100\n",
      "Training..."
     ]
    },
    {
     "name": "stderr",
     "output_type": "stream",
     "text": [
      "model_head.pkl not found on HuggingFace Hub, initialising classification head with random weights. You should TRAIN this model on a downstream task to use it for predictions and inference.\n",
      "***** Running training *****\n",
      "  Num unique pairs = 20\n",
      "  Batch size = 16\n",
      "  Num epochs = 8\n",
      "  Total optimization steps = 8\n",
      "***** Running evaluation *****\n"
     ]
    },
    {
     "name": "stdout",
     "output_type": "stream",
     "text": [
      "Done\n",
      "Step: 52 / 100\n",
      "Data augmentation... ( 1 / 2 )\n",
      "Data augmentation... ( 2 / 2 )\n",
      "Training..."
     ]
    },
    {
     "name": "stderr",
     "output_type": "stream",
     "text": [
      "model_head.pkl not found on HuggingFace Hub, initialising classification head with random weights. You should TRAIN this model on a downstream task to use it for predictions and inference.\n",
      "***** Running training *****\n",
      "  Num unique pairs = 22\n",
      "  Batch size = 16\n",
      "  Num epochs = 8\n",
      "  Total optimization steps = 8\n",
      "***** Running evaluation *****\n"
     ]
    },
    {
     "name": "stdout",
     "output_type": "stream",
     "text": [
      "Done\n",
      "Step: 53 / 100\n",
      "Training..."
     ]
    },
    {
     "name": "stderr",
     "output_type": "stream",
     "text": [
      "model_head.pkl not found on HuggingFace Hub, initialising classification head with random weights. You should TRAIN this model on a downstream task to use it for predictions and inference.\n",
      "***** Running training *****\n",
      "  Num unique pairs = 20\n",
      "  Batch size = 16\n",
      "  Num epochs = 8\n",
      "  Total optimization steps = 8\n",
      "***** Running evaluation *****\n"
     ]
    },
    {
     "name": "stdout",
     "output_type": "stream",
     "text": [
      "Done\n",
      "Step: 54 / 100\n",
      "Data augmentation... ( 1 / 2 )\n",
      "Data augmentation... ( 2 / 2 )\n",
      "Training..."
     ]
    },
    {
     "name": "stderr",
     "output_type": "stream",
     "text": [
      "model_head.pkl not found on HuggingFace Hub, initialising classification head with random weights. You should TRAIN this model on a downstream task to use it for predictions and inference.\n",
      "***** Running training *****\n",
      "  Num unique pairs = 22\n",
      "  Batch size = 16\n",
      "  Num epochs = 8\n",
      "  Total optimization steps = 8\n",
      "***** Running evaluation *****\n"
     ]
    },
    {
     "name": "stdout",
     "output_type": "stream",
     "text": [
      "Done\n",
      "Step: 55 / 100\n",
      "Training..."
     ]
    },
    {
     "name": "stderr",
     "output_type": "stream",
     "text": [
      "model_head.pkl not found on HuggingFace Hub, initialising classification head with random weights. You should TRAIN this model on a downstream task to use it for predictions and inference.\n",
      "***** Running training *****\n",
      "  Num unique pairs = 20\n",
      "  Batch size = 16\n",
      "  Num epochs = 8\n",
      "  Total optimization steps = 8\n",
      "***** Running evaluation *****\n"
     ]
    },
    {
     "name": "stdout",
     "output_type": "stream",
     "text": [
      "Done\n",
      "Step: 56 / 100\n",
      "Data augmentation... ( 1 / 2 )\n",
      "Data augmentation... ( 2 / 2 )\n",
      "Training..."
     ]
    },
    {
     "name": "stderr",
     "output_type": "stream",
     "text": [
      "model_head.pkl not found on HuggingFace Hub, initialising classification head with random weights. You should TRAIN this model on a downstream task to use it for predictions and inference.\n",
      "***** Running training *****\n",
      "  Num unique pairs = 22\n",
      "  Batch size = 16\n",
      "  Num epochs = 8\n",
      "  Total optimization steps = 8\n",
      "***** Running evaluation *****\n"
     ]
    },
    {
     "name": "stdout",
     "output_type": "stream",
     "text": [
      "Done\n",
      "Step: 57 / 100\n",
      "Training..."
     ]
    },
    {
     "name": "stderr",
     "output_type": "stream",
     "text": [
      "model_head.pkl not found on HuggingFace Hub, initialising classification head with random weights. You should TRAIN this model on a downstream task to use it for predictions and inference.\n",
      "***** Running training *****\n",
      "  Num unique pairs = 20\n",
      "  Batch size = 16\n",
      "  Num epochs = 8\n",
      "  Total optimization steps = 8\n",
      "***** Running evaluation *****\n"
     ]
    },
    {
     "name": "stdout",
     "output_type": "stream",
     "text": [
      "Done\n",
      "Step: 58 / 100\n",
      "Data augmentation... ( 1 / 2 )\n",
      "Data augmentation... ( 2 / 2 )\n",
      "Training..."
     ]
    },
    {
     "name": "stderr",
     "output_type": "stream",
     "text": [
      "model_head.pkl not found on HuggingFace Hub, initialising classification head with random weights. You should TRAIN this model on a downstream task to use it for predictions and inference.\n",
      "***** Running training *****\n",
      "  Num unique pairs = 22\n",
      "  Batch size = 16\n",
      "  Num epochs = 8\n",
      "  Total optimization steps = 8\n",
      "***** Running evaluation *****\n"
     ]
    },
    {
     "name": "stdout",
     "output_type": "stream",
     "text": [
      "Done\n",
      "Step: 59 / 100\n",
      "Training..."
     ]
    },
    {
     "name": "stderr",
     "output_type": "stream",
     "text": [
      "model_head.pkl not found on HuggingFace Hub, initialising classification head with random weights. You should TRAIN this model on a downstream task to use it for predictions and inference.\n",
      "***** Running training *****\n",
      "  Num unique pairs = 20\n",
      "  Batch size = 16\n",
      "  Num epochs = 8\n",
      "  Total optimization steps = 8\n",
      "***** Running evaluation *****\n"
     ]
    },
    {
     "name": "stdout",
     "output_type": "stream",
     "text": [
      "Done\n",
      "Step: 60 / 100\n",
      "Data augmentation... ( 1 / 2 )\n",
      "Data augmentation... ( 2 / 2 )\n",
      "Training..."
     ]
    },
    {
     "name": "stderr",
     "output_type": "stream",
     "text": [
      "model_head.pkl not found on HuggingFace Hub, initialising classification head with random weights. You should TRAIN this model on a downstream task to use it for predictions and inference.\n",
      "***** Running training *****\n",
      "  Num unique pairs = 22\n",
      "  Batch size = 16\n",
      "  Num epochs = 8\n",
      "  Total optimization steps = 8\n",
      "***** Running evaluation *****\n"
     ]
    },
    {
     "name": "stdout",
     "output_type": "stream",
     "text": [
      "Done\n",
      "Step: 61 / 100\n",
      "Training..."
     ]
    },
    {
     "name": "stderr",
     "output_type": "stream",
     "text": [
      "model_head.pkl not found on HuggingFace Hub, initialising classification head with random weights. You should TRAIN this model on a downstream task to use it for predictions and inference.\n",
      "***** Running training *****\n",
      "  Num unique pairs = 20\n",
      "  Batch size = 16\n",
      "  Num epochs = 8\n",
      "  Total optimization steps = 8\n",
      "***** Running evaluation *****\n"
     ]
    },
    {
     "name": "stdout",
     "output_type": "stream",
     "text": [
      "Done\n",
      "Step: 62 / 100\n",
      "Data augmentation... ( 1 / 2 )\n",
      "Data augmentation... ( 2 / 2 )\n",
      "Training..."
     ]
    },
    {
     "name": "stderr",
     "output_type": "stream",
     "text": [
      "model_head.pkl not found on HuggingFace Hub, initialising classification head with random weights. You should TRAIN this model on a downstream task to use it for predictions and inference.\n",
      "***** Running training *****\n",
      "  Num unique pairs = 22\n",
      "  Batch size = 16\n",
      "  Num epochs = 8\n",
      "  Total optimization steps = 8\n",
      "***** Running evaluation *****\n"
     ]
    },
    {
     "name": "stdout",
     "output_type": "stream",
     "text": [
      "Done\n",
      "Step: 63 / 100\n",
      "Training..."
     ]
    },
    {
     "name": "stderr",
     "output_type": "stream",
     "text": [
      "model_head.pkl not found on HuggingFace Hub, initialising classification head with random weights. You should TRAIN this model on a downstream task to use it for predictions and inference.\n",
      "***** Running training *****\n",
      "  Num unique pairs = 20\n",
      "  Batch size = 16\n",
      "  Num epochs = 8\n",
      "  Total optimization steps = 8\n",
      "***** Running evaluation *****\n"
     ]
    },
    {
     "name": "stdout",
     "output_type": "stream",
     "text": [
      "Done\n",
      "Step: 64 / 100\n",
      "Data augmentation... ( 1 / 2 )\n",
      "Data augmentation... ( 2 / 2 )\n",
      "Training..."
     ]
    },
    {
     "name": "stderr",
     "output_type": "stream",
     "text": [
      "model_head.pkl not found on HuggingFace Hub, initialising classification head with random weights. You should TRAIN this model on a downstream task to use it for predictions and inference.\n",
      "***** Running training *****\n",
      "  Num unique pairs = 22\n",
      "  Batch size = 16\n",
      "  Num epochs = 8\n",
      "  Total optimization steps = 8\n",
      "***** Running evaluation *****\n"
     ]
    },
    {
     "name": "stdout",
     "output_type": "stream",
     "text": [
      "Done\n",
      "Step: 65 / 100\n",
      "Training..."
     ]
    },
    {
     "name": "stderr",
     "output_type": "stream",
     "text": [
      "model_head.pkl not found on HuggingFace Hub, initialising classification head with random weights. You should TRAIN this model on a downstream task to use it for predictions and inference.\n",
      "***** Running training *****\n",
      "  Num unique pairs = 20\n",
      "  Batch size = 16\n",
      "  Num epochs = 8\n",
      "  Total optimization steps = 8\n",
      "***** Running evaluation *****\n"
     ]
    },
    {
     "name": "stdout",
     "output_type": "stream",
     "text": [
      "Done\n",
      "Step: 66 / 100\n",
      "Data augmentation... ( 1 / 2 )\n",
      "Data augmentation... ( 2 / 2 )\n",
      "Training..."
     ]
    },
    {
     "name": "stderr",
     "output_type": "stream",
     "text": [
      "model_head.pkl not found on HuggingFace Hub, initialising classification head with random weights. You should TRAIN this model on a downstream task to use it for predictions and inference.\n",
      "***** Running training *****\n",
      "  Num unique pairs = 22\n",
      "  Batch size = 16\n",
      "  Num epochs = 8\n",
      "  Total optimization steps = 8\n",
      "***** Running evaluation *****\n"
     ]
    },
    {
     "name": "stdout",
     "output_type": "stream",
     "text": [
      "Done\n",
      "Step: 67 / 100\n",
      "Training..."
     ]
    },
    {
     "name": "stderr",
     "output_type": "stream",
     "text": [
      "model_head.pkl not found on HuggingFace Hub, initialising classification head with random weights. You should TRAIN this model on a downstream task to use it for predictions and inference.\n",
      "***** Running training *****\n",
      "  Num unique pairs = 20\n",
      "  Batch size = 16\n",
      "  Num epochs = 8\n",
      "  Total optimization steps = 8\n",
      "***** Running evaluation *****\n"
     ]
    },
    {
     "name": "stdout",
     "output_type": "stream",
     "text": [
      "Done\n",
      "Step: 68 / 100\n",
      "Data augmentation... ( 1 / 2 )\n",
      "Data augmentation... ( 2 / 2 )\n",
      "Training..."
     ]
    },
    {
     "name": "stderr",
     "output_type": "stream",
     "text": [
      "model_head.pkl not found on HuggingFace Hub, initialising classification head with random weights. You should TRAIN this model on a downstream task to use it for predictions and inference.\n",
      "***** Running training *****\n",
      "  Num unique pairs = 22\n",
      "  Batch size = 16\n",
      "  Num epochs = 8\n",
      "  Total optimization steps = 8\n",
      "***** Running evaluation *****\n"
     ]
    },
    {
     "name": "stdout",
     "output_type": "stream",
     "text": [
      "Done\n",
      "Step: 69 / 100\n",
      "Training..."
     ]
    },
    {
     "name": "stderr",
     "output_type": "stream",
     "text": [
      "model_head.pkl not found on HuggingFace Hub, initialising classification head with random weights. You should TRAIN this model on a downstream task to use it for predictions and inference.\n",
      "***** Running training *****\n",
      "  Num unique pairs = 20\n",
      "  Batch size = 16\n",
      "  Num epochs = 8\n",
      "  Total optimization steps = 8\n",
      "***** Running evaluation *****\n"
     ]
    },
    {
     "name": "stdout",
     "output_type": "stream",
     "text": [
      "Done\n",
      "Step: 70 / 100\n",
      "Data augmentation... ( 1 / 2 )\n",
      "Data augmentation... ( 2 / 2 )\n",
      "Training..."
     ]
    },
    {
     "name": "stderr",
     "output_type": "stream",
     "text": [
      "model_head.pkl not found on HuggingFace Hub, initialising classification head with random weights. You should TRAIN this model on a downstream task to use it for predictions and inference.\n",
      "***** Running training *****\n",
      "  Num unique pairs = 22\n",
      "  Batch size = 16\n",
      "  Num epochs = 8\n",
      "  Total optimization steps = 8\n",
      "***** Running evaluation *****\n"
     ]
    },
    {
     "name": "stdout",
     "output_type": "stream",
     "text": [
      "Done\n",
      "Step: 71 / 100\n",
      "Training..."
     ]
    },
    {
     "name": "stderr",
     "output_type": "stream",
     "text": [
      "model_head.pkl not found on HuggingFace Hub, initialising classification head with random weights. You should TRAIN this model on a downstream task to use it for predictions and inference.\n",
      "***** Running training *****\n",
      "  Num unique pairs = 20\n",
      "  Batch size = 16\n",
      "  Num epochs = 8\n",
      "  Total optimization steps = 8\n",
      "***** Running evaluation *****\n"
     ]
    },
    {
     "name": "stdout",
     "output_type": "stream",
     "text": [
      "Done\n",
      "Step: 72 / 100\n",
      "Data augmentation... ( 1 / 2 )\n",
      "Data augmentation... ( 2 / 2 )\n",
      "Training..."
     ]
    },
    {
     "name": "stderr",
     "output_type": "stream",
     "text": [
      "model_head.pkl not found on HuggingFace Hub, initialising classification head with random weights. You should TRAIN this model on a downstream task to use it for predictions and inference.\n",
      "***** Running training *****\n",
      "  Num unique pairs = 22\n",
      "  Batch size = 16\n",
      "  Num epochs = 8\n",
      "  Total optimization steps = 8\n",
      "***** Running evaluation *****\n"
     ]
    },
    {
     "name": "stdout",
     "output_type": "stream",
     "text": [
      "Done\n",
      "Step: 73 / 100\n",
      "Training..."
     ]
    },
    {
     "name": "stderr",
     "output_type": "stream",
     "text": [
      "model_head.pkl not found on HuggingFace Hub, initialising classification head with random weights. You should TRAIN this model on a downstream task to use it for predictions and inference.\n",
      "***** Running training *****\n",
      "  Num unique pairs = 20\n",
      "  Batch size = 16\n",
      "  Num epochs = 8\n",
      "  Total optimization steps = 8\n",
      "***** Running evaluation *****\n"
     ]
    },
    {
     "name": "stdout",
     "output_type": "stream",
     "text": [
      "Done\n",
      "Step: 74 / 100\n",
      "Data augmentation... ( 1 / 2 )\n",
      "Data augmentation... ( 2 / 2 )\n",
      "Training..."
     ]
    },
    {
     "name": "stderr",
     "output_type": "stream",
     "text": [
      "model_head.pkl not found on HuggingFace Hub, initialising classification head with random weights. You should TRAIN this model on a downstream task to use it for predictions and inference.\n",
      "***** Running training *****\n",
      "  Num unique pairs = 22\n",
      "  Batch size = 16\n",
      "  Num epochs = 8\n",
      "  Total optimization steps = 8\n",
      "***** Running evaluation *****\n"
     ]
    },
    {
     "name": "stdout",
     "output_type": "stream",
     "text": [
      "Done\n",
      "Step: 75 / 100\n",
      "Training..."
     ]
    },
    {
     "name": "stderr",
     "output_type": "stream",
     "text": [
      "model_head.pkl not found on HuggingFace Hub, initialising classification head with random weights. You should TRAIN this model on a downstream task to use it for predictions and inference.\n",
      "***** Running training *****\n",
      "  Num unique pairs = 20\n",
      "  Batch size = 16\n",
      "  Num epochs = 8\n",
      "  Total optimization steps = 8\n",
      "***** Running evaluation *****\n"
     ]
    },
    {
     "name": "stdout",
     "output_type": "stream",
     "text": [
      "Done\n",
      "Step: 76 / 100\n",
      "Data augmentation... ( 1 / 2 )\n",
      "Data augmentation... ( 2 / 2 )\n",
      "Training..."
     ]
    },
    {
     "name": "stderr",
     "output_type": "stream",
     "text": [
      "model_head.pkl not found on HuggingFace Hub, initialising classification head with random weights. You should TRAIN this model on a downstream task to use it for predictions and inference.\n",
      "***** Running training *****\n",
      "  Num unique pairs = 22\n",
      "  Batch size = 16\n",
      "  Num epochs = 8\n",
      "  Total optimization steps = 8\n",
      "***** Running evaluation *****\n"
     ]
    },
    {
     "name": "stdout",
     "output_type": "stream",
     "text": [
      "Done\n",
      "Step: 77 / 100\n",
      "Training..."
     ]
    },
    {
     "name": "stderr",
     "output_type": "stream",
     "text": [
      "model_head.pkl not found on HuggingFace Hub, initialising classification head with random weights. You should TRAIN this model on a downstream task to use it for predictions and inference.\n",
      "***** Running training *****\n",
      "  Num unique pairs = 20\n",
      "  Batch size = 16\n",
      "  Num epochs = 8\n",
      "  Total optimization steps = 8\n",
      "***** Running evaluation *****\n"
     ]
    },
    {
     "name": "stdout",
     "output_type": "stream",
     "text": [
      "Done\n",
      "Step: 78 / 100\n",
      "Data augmentation... ( 1 / 2 )\n",
      "Data augmentation... ( 2 / 2 )\n",
      "Training..."
     ]
    },
    {
     "name": "stderr",
     "output_type": "stream",
     "text": [
      "model_head.pkl not found on HuggingFace Hub, initialising classification head with random weights. You should TRAIN this model on a downstream task to use it for predictions and inference.\n",
      "***** Running training *****\n",
      "  Num unique pairs = 22\n",
      "  Batch size = 16\n",
      "  Num epochs = 8\n",
      "  Total optimization steps = 8\n",
      "***** Running evaluation *****\n"
     ]
    },
    {
     "name": "stdout",
     "output_type": "stream",
     "text": [
      "Done\n",
      "Step: 79 / 100\n",
      "Training..."
     ]
    },
    {
     "name": "stderr",
     "output_type": "stream",
     "text": [
      "model_head.pkl not found on HuggingFace Hub, initialising classification head with random weights. You should TRAIN this model on a downstream task to use it for predictions and inference.\n",
      "***** Running training *****\n",
      "  Num unique pairs = 20\n",
      "  Batch size = 16\n",
      "  Num epochs = 8\n",
      "  Total optimization steps = 8\n",
      "***** Running evaluation *****\n"
     ]
    },
    {
     "name": "stdout",
     "output_type": "stream",
     "text": [
      "Done\n",
      "Step: 80 / 100\n",
      "Data augmentation... ( 1 / 2 )\n",
      "Data augmentation... ( 2 / 2 )\n",
      "Training..."
     ]
    },
    {
     "name": "stderr",
     "output_type": "stream",
     "text": [
      "model_head.pkl not found on HuggingFace Hub, initialising classification head with random weights. You should TRAIN this model on a downstream task to use it for predictions and inference.\n",
      "***** Running training *****\n",
      "  Num unique pairs = 22\n",
      "  Batch size = 16\n",
      "  Num epochs = 8\n",
      "  Total optimization steps = 8\n",
      "***** Running evaluation *****\n"
     ]
    },
    {
     "name": "stdout",
     "output_type": "stream",
     "text": [
      "Done\n",
      "Step: 81 / 100\n",
      "Training..."
     ]
    },
    {
     "name": "stderr",
     "output_type": "stream",
     "text": [
      "model_head.pkl not found on HuggingFace Hub, initialising classification head with random weights. You should TRAIN this model on a downstream task to use it for predictions and inference.\n",
      "***** Running training *****\n",
      "  Num unique pairs = 20\n",
      "  Batch size = 16\n",
      "  Num epochs = 8\n",
      "  Total optimization steps = 8\n",
      "***** Running evaluation *****\n"
     ]
    },
    {
     "name": "stdout",
     "output_type": "stream",
     "text": [
      "Done\n",
      "Step: 82 / 100\n",
      "Data augmentation... ( 1 / 2 )\n",
      "Data augmentation... ( 2 / 2 )\n",
      "Training..."
     ]
    },
    {
     "name": "stderr",
     "output_type": "stream",
     "text": [
      "model_head.pkl not found on HuggingFace Hub, initialising classification head with random weights. You should TRAIN this model on a downstream task to use it for predictions and inference.\n",
      "***** Running training *****\n",
      "  Num unique pairs = 22\n",
      "  Batch size = 16\n",
      "  Num epochs = 8\n",
      "  Total optimization steps = 8\n",
      "***** Running evaluation *****\n"
     ]
    },
    {
     "name": "stdout",
     "output_type": "stream",
     "text": [
      "Done\n",
      "Step: 83 / 100\n",
      "Training..."
     ]
    },
    {
     "name": "stderr",
     "output_type": "stream",
     "text": [
      "model_head.pkl not found on HuggingFace Hub, initialising classification head with random weights. You should TRAIN this model on a downstream task to use it for predictions and inference.\n",
      "***** Running training *****\n",
      "  Num unique pairs = 20\n",
      "  Batch size = 16\n",
      "  Num epochs = 8\n",
      "  Total optimization steps = 8\n",
      "***** Running evaluation *****\n"
     ]
    },
    {
     "name": "stdout",
     "output_type": "stream",
     "text": [
      "Done\n",
      "Step: 84 / 100\n",
      "Data augmentation... ( 1 / 2 )\n",
      "Data augmentation... ( 2 / 2 )\n",
      "Training..."
     ]
    },
    {
     "name": "stderr",
     "output_type": "stream",
     "text": [
      "model_head.pkl not found on HuggingFace Hub, initialising classification head with random weights. You should TRAIN this model on a downstream task to use it for predictions and inference.\n",
      "***** Running training *****\n",
      "  Num unique pairs = 22\n",
      "  Batch size = 16\n",
      "  Num epochs = 8\n",
      "  Total optimization steps = 8\n",
      "***** Running evaluation *****\n"
     ]
    },
    {
     "name": "stdout",
     "output_type": "stream",
     "text": [
      "Done\n",
      "Step: 85 / 100\n",
      "Training..."
     ]
    },
    {
     "name": "stderr",
     "output_type": "stream",
     "text": [
      "model_head.pkl not found on HuggingFace Hub, initialising classification head with random weights. You should TRAIN this model on a downstream task to use it for predictions and inference.\n",
      "***** Running training *****\n",
      "  Num unique pairs = 20\n",
      "  Batch size = 16\n",
      "  Num epochs = 8\n",
      "  Total optimization steps = 8\n",
      "***** Running evaluation *****\n"
     ]
    },
    {
     "name": "stdout",
     "output_type": "stream",
     "text": [
      "Done\n",
      "Step: 86 / 100\n",
      "Data augmentation... ( 1 / 2 )\n",
      "Data augmentation... ( 2 / 2 )\n",
      "Training..."
     ]
    },
    {
     "name": "stderr",
     "output_type": "stream",
     "text": [
      "model_head.pkl not found on HuggingFace Hub, initialising classification head with random weights. You should TRAIN this model on a downstream task to use it for predictions and inference.\n",
      "***** Running training *****\n",
      "  Num unique pairs = 22\n",
      "  Batch size = 16\n",
      "  Num epochs = 8\n",
      "  Total optimization steps = 8\n",
      "***** Running evaluation *****\n"
     ]
    },
    {
     "name": "stdout",
     "output_type": "stream",
     "text": [
      "Done\n",
      "Step: 87 / 100\n",
      "Training..."
     ]
    },
    {
     "name": "stderr",
     "output_type": "stream",
     "text": [
      "model_head.pkl not found on HuggingFace Hub, initialising classification head with random weights. You should TRAIN this model on a downstream task to use it for predictions and inference.\n",
      "***** Running training *****\n",
      "  Num unique pairs = 20\n",
      "  Batch size = 16\n",
      "  Num epochs = 8\n",
      "  Total optimization steps = 8\n",
      "***** Running evaluation *****\n"
     ]
    },
    {
     "name": "stdout",
     "output_type": "stream",
     "text": [
      "Done\n",
      "Step: 88 / 100\n",
      "Data augmentation... ( 1 / 2 )\n",
      "Data augmentation... ( 2 / 2 )\n",
      "Training..."
     ]
    },
    {
     "name": "stderr",
     "output_type": "stream",
     "text": [
      "model_head.pkl not found on HuggingFace Hub, initialising classification head with random weights. You should TRAIN this model on a downstream task to use it for predictions and inference.\n",
      "***** Running training *****\n",
      "  Num unique pairs = 22\n",
      "  Batch size = 16\n",
      "  Num epochs = 8\n",
      "  Total optimization steps = 8\n",
      "***** Running evaluation *****\n"
     ]
    },
    {
     "name": "stdout",
     "output_type": "stream",
     "text": [
      "Done\n",
      "Step: 89 / 100\n",
      "Training..."
     ]
    },
    {
     "name": "stderr",
     "output_type": "stream",
     "text": [
      "model_head.pkl not found on HuggingFace Hub, initialising classification head with random weights. You should TRAIN this model on a downstream task to use it for predictions and inference.\n",
      "***** Running training *****\n",
      "  Num unique pairs = 20\n",
      "  Batch size = 16\n",
      "  Num epochs = 8\n",
      "  Total optimization steps = 8\n",
      "***** Running evaluation *****\n"
     ]
    },
    {
     "name": "stdout",
     "output_type": "stream",
     "text": [
      "Done\n",
      "Step: 90 / 100\n",
      "Data augmentation... ( 1 / 2 )\n",
      "Data augmentation... ( 2 / 2 )\n",
      "Training..."
     ]
    },
    {
     "name": "stderr",
     "output_type": "stream",
     "text": [
      "model_head.pkl not found on HuggingFace Hub, initialising classification head with random weights. You should TRAIN this model on a downstream task to use it for predictions and inference.\n",
      "***** Running training *****\n",
      "  Num unique pairs = 22\n",
      "  Batch size = 16\n",
      "  Num epochs = 8\n",
      "  Total optimization steps = 8\n",
      "***** Running evaluation *****\n"
     ]
    },
    {
     "name": "stdout",
     "output_type": "stream",
     "text": [
      "Done\n",
      "Step: 91 / 100\n",
      "Training..."
     ]
    },
    {
     "name": "stderr",
     "output_type": "stream",
     "text": [
      "model_head.pkl not found on HuggingFace Hub, initialising classification head with random weights. You should TRAIN this model on a downstream task to use it for predictions and inference.\n",
      "***** Running training *****\n",
      "  Num unique pairs = 20\n",
      "  Batch size = 16\n",
      "  Num epochs = 8\n",
      "  Total optimization steps = 8\n",
      "***** Running evaluation *****\n"
     ]
    },
    {
     "name": "stdout",
     "output_type": "stream",
     "text": [
      "Done\n",
      "Step: 92 / 100\n",
      "Data augmentation... ( 1 / 2 )\n",
      "Data augmentation... ( 2 / 2 )\n",
      "Training..."
     ]
    },
    {
     "name": "stderr",
     "output_type": "stream",
     "text": [
      "model_head.pkl not found on HuggingFace Hub, initialising classification head with random weights. You should TRAIN this model on a downstream task to use it for predictions and inference.\n",
      "***** Running training *****\n",
      "  Num unique pairs = 22\n",
      "  Batch size = 16\n",
      "  Num epochs = 8\n",
      "  Total optimization steps = 8\n",
      "***** Running evaluation *****\n"
     ]
    },
    {
     "name": "stdout",
     "output_type": "stream",
     "text": [
      "Done\n",
      "Step: 93 / 100\n",
      "Training..."
     ]
    },
    {
     "name": "stderr",
     "output_type": "stream",
     "text": [
      "model_head.pkl not found on HuggingFace Hub, initialising classification head with random weights. You should TRAIN this model on a downstream task to use it for predictions and inference.\n",
      "***** Running training *****\n",
      "  Num unique pairs = 20\n",
      "  Batch size = 16\n",
      "  Num epochs = 8\n",
      "  Total optimization steps = 8\n",
      "***** Running evaluation *****\n"
     ]
    },
    {
     "name": "stdout",
     "output_type": "stream",
     "text": [
      "Done\n",
      "Step: 94 / 100\n",
      "Data augmentation... ( 1 / 2 )\n",
      "Data augmentation... ( 2 / 2 )\n",
      "Training..."
     ]
    },
    {
     "name": "stderr",
     "output_type": "stream",
     "text": [
      "model_head.pkl not found on HuggingFace Hub, initialising classification head with random weights. You should TRAIN this model on a downstream task to use it for predictions and inference.\n",
      "***** Running training *****\n",
      "  Num unique pairs = 22\n",
      "  Batch size = 16\n",
      "  Num epochs = 8\n",
      "  Total optimization steps = 8\n",
      "***** Running evaluation *****\n"
     ]
    },
    {
     "name": "stdout",
     "output_type": "stream",
     "text": [
      "Done\n",
      "Step: 95 / 100\n",
      "Training..."
     ]
    },
    {
     "name": "stderr",
     "output_type": "stream",
     "text": [
      "model_head.pkl not found on HuggingFace Hub, initialising classification head with random weights. You should TRAIN this model on a downstream task to use it for predictions and inference.\n",
      "***** Running training *****\n",
      "  Num unique pairs = 20\n",
      "  Batch size = 16\n",
      "  Num epochs = 8\n",
      "  Total optimization steps = 8\n",
      "***** Running evaluation *****\n"
     ]
    },
    {
     "name": "stdout",
     "output_type": "stream",
     "text": [
      "Done\n",
      "Step: 96 / 100\n",
      "Data augmentation... ( 1 / 2 )\n",
      "Data augmentation... ( 2 / 2 )\n",
      "Training..."
     ]
    },
    {
     "name": "stderr",
     "output_type": "stream",
     "text": [
      "model_head.pkl not found on HuggingFace Hub, initialising classification head with random weights. You should TRAIN this model on a downstream task to use it for predictions and inference.\n",
      "***** Running training *****\n",
      "  Num unique pairs = 22\n",
      "  Batch size = 16\n",
      "  Num epochs = 8\n",
      "  Total optimization steps = 8\n",
      "***** Running evaluation *****\n"
     ]
    },
    {
     "name": "stdout",
     "output_type": "stream",
     "text": [
      "Done\n",
      "Step: 97 / 100\n",
      "Training..."
     ]
    },
    {
     "name": "stderr",
     "output_type": "stream",
     "text": [
      "model_head.pkl not found on HuggingFace Hub, initialising classification head with random weights. You should TRAIN this model on a downstream task to use it for predictions and inference.\n",
      "***** Running training *****\n",
      "  Num unique pairs = 20\n",
      "  Batch size = 16\n",
      "  Num epochs = 8\n",
      "  Total optimization steps = 8\n",
      "***** Running evaluation *****\n"
     ]
    },
    {
     "name": "stdout",
     "output_type": "stream",
     "text": [
      "Done\n",
      "Step: 98 / 100\n",
      "Data augmentation... ( 1 / 2 )\n",
      "Data augmentation... ( 2 / 2 )\n",
      "Training..."
     ]
    },
    {
     "name": "stderr",
     "output_type": "stream",
     "text": [
      "model_head.pkl not found on HuggingFace Hub, initialising classification head with random weights. You should TRAIN this model on a downstream task to use it for predictions and inference.\n",
      "***** Running training *****\n",
      "  Num unique pairs = 22\n",
      "  Batch size = 16\n",
      "  Num epochs = 8\n",
      "  Total optimization steps = 8\n",
      "***** Running evaluation *****\n"
     ]
    },
    {
     "name": "stdout",
     "output_type": "stream",
     "text": [
      "Done\n",
      "Step: 99 / 100\n",
      "Training..."
     ]
    },
    {
     "name": "stderr",
     "output_type": "stream",
     "text": [
      "model_head.pkl not found on HuggingFace Hub, initialising classification head with random weights. You should TRAIN this model on a downstream task to use it for predictions and inference.\n",
      "***** Running training *****\n",
      "  Num unique pairs = 20\n",
      "  Batch size = 16\n",
      "  Num epochs = 8\n",
      "  Total optimization steps = 8\n",
      "***** Running evaluation *****\n"
     ]
    },
    {
     "name": "stdout",
     "output_type": "stream",
     "text": [
      "Done\n",
      "Step: 100 / 100\n",
      "Data augmentation... ( 1 / 2 )\n",
      "Data augmentation... ( 2 / 2 )\n",
      "Training..."
     ]
    },
    {
     "name": "stderr",
     "output_type": "stream",
     "text": [
      "model_head.pkl not found on HuggingFace Hub, initialising classification head with random weights. You should TRAIN this model on a downstream task to use it for predictions and inference.\n",
      "***** Running training *****\n",
      "  Num unique pairs = 22\n",
      "  Batch size = 16\n",
      "  Num epochs = 8\n",
      "  Total optimization steps = 8\n",
      "***** Running evaluation *****\n"
     ]
    },
    {
     "name": "stdout",
     "output_type": "stream",
     "text": [
      "Done\n"
     ]
    }
   ],
   "source": [
    "params = {\n",
    "\t\"n_shot\": 10,\n",
    "\t\"n_iter\": 50,\n",
    "\t\"loss\": BatchAllTripletLoss,\n",
    "\t\"model\": \"paraphrase-mpnet-base-v2\",\n",
    "\t\"num_epochs\":(8,1),\n",
    " \t\"data_augmentation_ratio\":[1,1.1], # no data augmentation and + 10 %\n",
    "\t\"data_augmentation_strategy\":\"swapping_inter\",\n",
    "\t# \"strategy_params\": {\n",
    "\t# \t\"modification_rate\": 0.2,\n",
    "\t# }\n",
    "}\n",
    "\n",
    "results, run_times = data_augmentation_tests(params, train_set, test_set)\n",
    "\n",
    "params[\"loss\"] = loss_to_str(params[\"loss\"])\n",
    "save_to_json({\"results\":results, \"run_times\":run_times, \"params\": params},  r'../results/setfit/data_augmentation')"
   ]
  },
  {
   "cell_type": "markdown",
   "metadata": {},
   "source": [
    "## Graphs"
   ]
  },
  {
   "cell_type": "markdown",
   "metadata": {},
   "source": [
    "### Functions to fetch data from result files (in JSON)"
   ]
  },
  {
   "cell_type": "code",
   "execution_count": 64,
   "metadata": {},
   "outputs": [],
   "source": [
    "def load_results_data(filename, folder):\n",
    "\twith open(folder+\"/\"+filename, 'r') as file:\n",
    "\t\tdata = json.load(file)\n",
    " \n",
    "\treturn data['results'], data['run_times'], data['params']\n",
    "\n",
    "def load_latest_results_data(folder):\n",
    "\tfilenames = os.listdir(folder)\n",
    "\tlatest = max(filenames, key=lambda x: os.path.getmtime(os.path.join(folder, x)))\n",
    "\treturn load_results_data(latest, folder)\n",
    "\n",
    "def load_all_results_data(folder, test_name, filters={}):\n",
    "\tfilenames_list = os.listdir(folder)\n",
    "\tall_data = {\"results\":{}, \"run_times\":{}}\n",
    " \n",
    " \n",
    "\tfor filename in filenames_list:\n",
    "\t\tdo_add_data = True\n",
    "\t\ttested_param = test_name\n",
    "\t\tnew_data = {\"results\":{}, \"run_times\":{}}\n",
    "  \n",
    "\t\twith open(folder+\"/\"+filename, 'r') as file:\n",
    "\t\t\tdata = json.load(file)\n",
    "\t\t\tfor param_key, param_value in data[\"params\"].items():\n",
    "\t\t\t\tif not (param_key in filters):\n",
    "\t\t\t\t\t# No filter\n",
    "\t\t\t\t\tif param_key == tested_param:\n",
    "\t\t\t\t\t\tnew_data[\"results\"] = data[\"results\"]\n",
    "\t\t\t\t\t\tnew_data[\"run_times\"] = data[\"run_times\"]\n",
    "\t\t\t\t\tcontinue\n",
    "\t\t\t\t\n",
    "\t\t\t\tif type(filters[param_key]) != type([]):\n",
    "\t\t\t\t\tfilters[param_key] = [filters[param_key]]\n",
    "\n",
    "\t\t\t\tif type(param_value) == type([]) and len(param_value)>0 and type(param_value[0]) == type([]):\n",
    "\t\t\t\t\tfor i in range(len(param_value)):\n",
    "\t\t\t\t\t\tparam_value[i] = f\"[{param_value[i][0]},{param_value[i][1]}]\"\n",
    "\n",
    "\t\t\t\tif type(filters[param_key][0]) == type([]):\n",
    "\t\t\t\t\tfor i in range(len(filters[param_key])):\n",
    "\t\t\t\t\t\tfilters[param_key][i] = f\"[{filters[param_key][i][0]},{filters[param_key][i][1]}]\"\n",
    "      \n",
    "\t\t\t\tif param_key == tested_param:\n",
    "\t\t\t\t\tfor filter_value in filters[param_key]:\n",
    "\t\t\t\t\t\tif filter_value in param_value:\n",
    "\t\t\t\t\t\t\tnew_data[\"results\"][filter_value] = data[\"results\"][str(filter_value)]\n",
    "\t\t\t\t\t\t\tnew_data[\"run_times\"][filter_value] = data[\"run_times\"][str(filter_value)]\n",
    "\t\t\t\telif not (param_value in filters[param_key]):\n",
    "\t\t\t\t\tdo_add_data = False\n",
    "\t\t\t\t\tbreak\n",
    " \n",
    "\t\tif do_add_data == True:\n",
    "\t\t\tfor output_type in new_data.keys(): # results and run_times\n",
    "\t\t\t\tfor key in new_data[output_type].keys():\n",
    "\t\t\t\t\tif key in all_data[output_type]:\n",
    "\t\t\t\t\t\tall_data[output_type][key] = np.concatenate((all_data[output_type][key], new_data[output_type][key]))\n",
    "\t\t\t\t\telse:\n",
    "\t\t\t\t\t\tall_data[output_type][key] = new_data[output_type][key]\n",
    "\tisSorted = False\n",
    "\ttry:\n",
    "\t\t# Try to sort the keys if they are number\n",
    "\t\tall_data[\"results\"] = dict(sorted(all_data[\"results\"].items(), key=lambda x: float(x[0])))\n",
    "\t\tall_data[\"run_times\"] = dict(sorted(all_data[\"run_times\"].items(), key=lambda x: float(x[0])))\n",
    "\t\tisSorted = True\n",
    "\texcept:\"\"\n",
    "\tif not isSorted:\n",
    "\t\ttry:\n",
    "\t\t\t# Try to sort the keys if they are pairs of numbers (tuples or lists)\n",
    "\t\t\tall_data[\"results\"] = dict(sorted(all_data[\"results\"].items(), key=lambda x: (float(json.loads(x[0])[0]),float(json.loads(x[0])[1]))))\n",
    "\t\t\tall_data[\"run_times\"] = dict(sorted(all_data[\"run_times\"].items(), key=lambda x: (float(json.loads(x[0])[0]),float(json.loads(x[0])[1]))))\n",
    "\t\texcept:\"\"\n",
    "\treturn all_data['results'], all_data['run_times']"
   ]
  },
  {
   "cell_type": "markdown",
   "metadata": {},
   "source": [
    "### Functions to create the graphs"
   ]
  },
  {
   "cell_type": "code",
   "execution_count": 25,
   "metadata": {},
   "outputs": [],
   "source": [
    "import matplotlib.pyplot as plt\n",
    "\n",
    "def create_scatter_line_plot(data, title, xlabel, ylabel):\n",
    "\tresultsMeans = {}\n",
    "\n",
    "\tfor key in data.keys():\n",
    "\t\tif len(data[key]) > 0:\n",
    "\t\t\tresultsMeans[key] = np.mean(data[key])\n",
    "\t\telse:\n",
    "\t\t\tresultsMeans[key] = 0.0\n",
    "\n",
    "\txMean = list(resultsMeans.keys())\n",
    "\tyMean = list(resultsMeans.values())\n",
    "\n",
    "\tlistOfLists = list(data.values())\n",
    "\n",
    "\txAll = []\n",
    "\tfor i in range(len(listOfLists)): # for each key\n",
    "\t\tfor _ in range(len(listOfLists[i])): # for each repetition of the key\n",
    "\t\t\txAll.append(xMean[i])\n",
    "\tyAll = np.concatenate(list(data.values()))\n",
    "\t\n",
    "\tplt.figure(figsize=(8, 6))\n",
    "\tplt.plot(xMean, yMean, marker='', linestyle='-')\n",
    "\tplt.scatter(xAll, yAll)\n",
    "\t\n",
    "\tfor i in range(len(xMean)):\n",
    "\t\tplt.text(xMean[i], yMean[i], f'{yMean[i]:.2f}', ha='center', bbox = dict(facecolor = 'white', alpha =.8))\n",
    "\t\n",
    "\tplt.title(title)\n",
    "\tplt.xlabel(xlabel)\n",
    "\tplt.ylabel(ylabel)\n",
    "\t\n",
    "\tplt.grid(True)\n",
    "\tplt.show()\n",
    "\n",
    "def create_bar_plot(data, title, xlabel, ylabel, vertical_xticks=False):\n",
    "\tresultsMeans = {}\n",
    "\n",
    "\tfor key in data.keys():\n",
    "\t\tif len(data[key]) > 0:\n",
    "\t\t\tresultsMeans[key] = np.mean(data[key])\n",
    "\n",
    "\txMean = list(resultsMeans.keys())\n",
    "\tyMean = list(resultsMeans.values())\n",
    "\t\n",
    "\tplt.figure(figsize=(11, 6))\n",
    "\tif vertical_xticks:\n",
    "\t\tplt.xticks(fontsize=15, rotation='vertical')\n",
    "\telse:\n",
    "\t\tplt.xticks(fontsize=15)\n",
    "\tplt.yticks(fontsize=15)\n",
    "\n",
    "\tfor i in range(len(xMean)):\n",
    "\t\tplt.text(i, yMean[i], f'{yMean[i]:.2f}', ha = 'center', bbox = dict(facecolor = 'white', alpha =.8))\n",
    " \n",
    "\tplt.bar(xMean, yMean)\n",
    "\n",
    "\tplt.title(title)\n",
    "\tplt.xlabel(xlabel)\n",
    "\tplt.ylabel(ylabel)\n",
    "\n",
    "\tplt.show()\n",
    " \n",
    " \n",
    "def create_boxplot(data, title, xlabel, ylabel, vertical_xticks=False):\n",
    "\tmedians = {}\n",
    "\tfor key, value in data.items():\n",
    "\t\tmedians[key] = np.median(value)\n",
    "\n",
    "\tplt.figure(figsize=(8, 6))\n",
    "\tplt.boxplot(data.values())\n",
    "\t\n",
    "\tif vertical_xticks:\n",
    "\t\tplt.xticks(ticks=list(range(1,len(data)+1)) ,labels=data.keys(), rotation='vertical')\n",
    "\telse:\n",
    "\t\tplt.xticks(ticks=list(range(1,len(data)+1)) ,labels=data.keys())\n",
    "\t\n",
    "\ti = 1 \n",
    "\tfor key in data.keys():\n",
    "\t\tplt.text(i, medians[key], f'{medians[key]:.2f}', ha='center', bbox = dict(facecolor = 'white', alpha =.8))\n",
    "\t\ti += 1\n",
    "\t\n",
    "\tplt.title(title)\n",
    "\tplt.xlabel(xlabel)\n",
    "\tplt.ylabel(ylabel)\n",
    "\t\n",
    "\tplt.grid(True)\n",
    "\tplt.show()"
   ]
  },
  {
   "cell_type": "markdown",
   "metadata": {},
   "source": [
    "### Plot latest graphs"
   ]
  },
  {
   "cell_type": "code",
   "execution_count": 65,
   "metadata": {},
   "outputs": [
    {
     "data": {
      "image/png": "[encoded data removed]",
      "text/plain": [
       "<Figure size 800x600 with 1 Axes>"
      ]
     },
     "metadata": {},
     "output_type": "display_data"
    }
   ],
   "source": [
    "# results, run_times, _ = load_latest_results_data(r'../results/setfit/n_shot')\n",
    "# create_boxplot(results, 'Effect of the number of shots on F1-score', 'N-shot', 'F1-score')\n",
    "# create_bar_plot(run_times, 'Runtime for the N-shot tests', 'N-shot', 'Run time (s)')\n",
    "\n",
    "# results, run_times, _ = load_latest_results_data(r'../results/setfit/input_length')\n",
    "# create_boxplot(results, 'Effect of the length of the input on F1-score (train set only)', 'Number of words', 'F1-score')\n",
    "# create_bar_plot(run_times, 'Runtime for the input length tests', 'Number of words', 'Run time (s)')\n",
    "\n",
    "# results, run_times, _ = load_latest_results_data(r'../results/setfit/distance')\n",
    "# create_boxplot(results, 'Effect of the distance on F1-score', 'Distance', 'F1-score')\n",
    "# create_bar_plot(run_times, 'Runtime for the distance tests', 'Distance', 'Run time (s)')\n",
    "\n",
    "# results, run_times, _ = load_latest_results_data(r'../results/setfit/loss')\n",
    "# create_boxplot(results, 'Effect of the loss on F1-score', 'Loss', 'F1-score')\n",
    "# create_bar_plot(run_times, 'Runtime for the distance tests', 'Loss', 'Run time (s)')\n",
    "\n",
    "# results, run_times, _ = load_latest_results_data(r'../results/setfit/language')\n",
    "# create_boxplot(results, 'Effect of the language on F1-score (train and test sets)', 'Language', 'F1-score')\n",
    "# create_bar_plot(run_times, 'Runtime for the language tests', 'Language', 'Run time (s)')\n",
    "\n",
    "# results, run_times, _ = load_latest_results_data(r'../results/setfit/model')\n",
    "# create_boxplot(results, 'Effect of the Sentence Transformer model on F1-score', 'Model', 'F1-score', vertical_xticks=True)\n",
    "# create_bar_plot(run_times, 'Runtime for the Sentence Transformer model tests', 'Model', 'Run time (s)', vertical_xticks=True)\n",
    "\n",
    "# results, run_times, _ = load_latest_results_data(r'../results/setfit/num_epoch')\n",
    "# create_boxplot(results, 'Effect of the number of epochs on F1-score', 'Number of epochs', 'F1-score')\n",
    "# create_bar_plot(run_times, 'Runtime for the number of epochs tests', 'Number of epochs', 'Run time (s)')\n",
    "\n",
    "# results, run_times, _ = load_latest_results_data(r'../results/setfit/head_learning_rate')\n",
    "# create_boxplot(results, 'Effect of the head learning rate on F1-score', 'Head learning rate', 'F1-score')\n",
    "# create_bar_plot(run_times, 'Runtime for the head learning rate tests', 'Head learning rate', 'Run time (s)')\n",
    "\n",
    "# results, run_times, params = load_latest_results_data(r'../results/setfit/data_sampling')\n",
    "# create_boxplot(results, f\"F1-score with the same params with {params['n_iter']} different support sets\", str(params), 'F1-score')\n",
    "# create_bar_plot(run_times, 'Runtime for the same params', str(params), 'Run time (s)')\n",
    "\n",
    "results, run_times, params = load_latest_results_data(r'../results/setfit/data_augmentation')\n",
    "create_boxplot(results, \"Effect of data augmentation on F1-score\", \"Data augmentation ratio\", 'F1-score')\n",
    "# create_bar_plot(run_times, 'Runtime for data augmentation tests', \"Data augmentation ratio\", 'Run time (s)')"
   ]
  },
  {
   "cell_type": "markdown",
   "metadata": {},
   "source": [
    "### Plot graphs using all data and filters"
   ]
  },
  {
   "cell_type": "code",
   "execution_count": 67,
   "metadata": {},
   "outputs": [
    {
     "data": {
      "image/png": "[encoded data removed]",
      "text/plain": [
       "<Figure size 800x600 with 1 Axes>"
      ]
     },
     "metadata": {},
     "output_type": "display_data"
    },
    {
     "data": {
      "image/png": "[encoded data removed]",
      "text/plain": [
       "<Figure size 800x600 with 1 Axes>"
      ]
     },
     "metadata": {},
     "output_type": "display_data"
    },
    {
     "data": {
      "image/png": "[encoded data removed]",
      "text/plain": [
       "<Figure size 800x600 with 1 Axes>"
      ]
     },
     "metadata": {},
     "output_type": "display_data"
    },
    {
     "data": {
      "image/png": "[encoded data removed]",
      "text/plain": [
       "<Figure size 800x600 with 1 Axes>"
      ]
     },
     "metadata": {},
     "output_type": "display_data"
    }
   ],
   "source": [
    "# results, run_times = load_all_results_data(r'../results/setfit/n_shot', \"n_shot\")\n",
    "# create_boxplot(results, 'Effect of the number of shots on F1-score', 'N-shot', 'F1-score')\n",
    "\n",
    "# results, run_times = load_all_results_data(r'../results/setfit/input_length', \"input_length_range\", {\"input_length_range\":[[0,2],[1,3],[0,3],[1,2],[2,3],[3,4],[4,5],[5,6],[6,7],[7,8],[8,9],[9,10]]})\n",
    "# create_boxplot(results, 'Effect of the length of the input on F1-score (train set only)', 'Number of words', 'F1-score')\n",
    "\n",
    "# results, run_times = load_all_results_data(r'../results/setfit/language', \"lang\", {\"model\":\"sentence-transformers/paraphrase-multilingual-mpnet-base-v2\", \"n_shot\":8})\n",
    "# create_boxplot(results, 'Effect of the language on F1-score (train and test sets) (multilingual model) (8 shots)', 'Language', 'F1-score')\n",
    "\n",
    "# results, run_times = load_all_results_data(r'../results/setfit/language', \"lang\", {\"model\":\"sentence-transformers/paraphrase-mpnet-base-v2\", \"n_shot\":8})\n",
    "# create_boxplot(results, 'Effect of the language on F1-score (train and test sets) (not multilingual model) (8 shots)', 'Language', 'F1-score')\n",
    "\n",
    "# results, run_times = load_all_results_data(r'../results/setfit/model', \"model\", {\"n_shot\":8})\n",
    "# create_boxplot(results, 'Effect of the model on F1-score (8 shots)', 'Model', 'F1-score', vertical_xticks=True)\n",
    "\n",
    "for strategy in [\"back_translation\", \"synonym_replacement\", \"crossover\", \"swapping_inter\"]:\n",
    "\tresults, run_times = load_all_results_data(r'../results/setfit/data_augmentation', \"data_augmentation_ratio\", {\"data_augmentation_strategy\":strategy})\n",
    "\tcreate_boxplot(results, f\"Effect of the data augmentation ratio on F1-score (8 shots) (strategy: {strategy})\", 'Data augmentation ratio', 'F1-score', vertical_xticks=True)"
   ]
  }
 ],
 "metadata": {
  "kernelspec": {
   "display_name": "Python 3 (ipykernel)",
   "language": "python",
   "name": "python3"
  },
  "language_info": {
   "codemirror_mode": {
    "name": "ipython",
    "version": 3
   },
   "file_extension": ".py",
   "mimetype": "text/x-python",
   "name": "python",
   "nbconvert_exporter": "python",
   "pygments_lexer": "ipython3",
   "version": "3.10.6"
  }
 },
 "nbformat": 4,
 "nbformat_minor": 2
}
