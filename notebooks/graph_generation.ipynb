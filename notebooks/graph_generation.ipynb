{
 "cells": [
  {
   "cell_type": "markdown",
   "metadata": {},
   "source": [
    "## Graphs"
   ]
  },
  {
   "cell_type": "code",
   "execution_count": null,
   "metadata": {},
   "outputs": [],
   "source": [
    "from benchmark.utility import load_all_results_data, create_boxplot, create_bar_plot, load_latest_results_data, create_scatter_line_plot"
   ]
  },
  {
   "cell_type": "markdown",
   "metadata": {},
   "source": [
    "### Plot latest graphs"
   ]
  },
  {
   "cell_type": "code",
   "execution_count": null,
   "metadata": {},
   "outputs": [],
   "source": [
    "results, train_times, eval_times, _ = load_latest_results_data(r'../results/setfit/n_shot')\n",
    "for key in ['20', '40', '60', '100']:\n",
    "    if not (key in results):\n",
    "        results[key] = []\n",
    "create_boxplot(results, 'Effect of the number of shots on F1-score', 'N-shot', 'F1-score',y_min=0, y_max=1)\n",
    "# create_bar_plot(train_times, 'Runtime for the N-shot tests', 'N-shot', 'Run time (s)', y_min=0, y_max=1000)\n",
    "\n",
    "# results, train_times, eval_times, _ = load_latest_results_data(r'../results/setfit/n_shot')\n",
    "# create_boxplot(results, 'Effect of the number of shots on F1-score', 'N-shot', 'F1-score',y_min=0, y_max=1)\n",
    "\n",
    "# results, train_times, eval_times, _ = load_latest_results_data(r'../results/setfit/data_sampling')\n",
    "# create_boxplot(results, 'Effect of the number of shots on F1-score', 'N-shot', 'F1-score',y_min=0, y_max=1)\n",
    "\n",
    "# results, train_times, eval_times, _ = load_latest_results_data(r'../results/setfit/input_length')\n",
    "# create_boxplot(results, 'Effect of the length of the input on F1-score (train set only) (8 shots)', 'Number of words', 'F1-score',y_min=0, y_max=1)\n",
    "# create_bar_plot(train_times, 'Runtime for the input length tests', 'Number of words', 'Run time (s)')\n",
    "\n",
    "# results, train_times, eval_times, _ = load_latest_results_data(r'../results/setfit/distance')\n",
    "# create_boxplot(results, 'Effect of the distance on F1-score', 'Distance', 'F1-score',y_min=0, y_max=1)\n",
    "# create_bar_plot(train_times, 'Runtime for the distance tests', 'Distance', 'Run time (s)')\n",
    "\n",
    "# results, train_times, eval_times, _ = load_latest_results_data(r'../results/setfit/loss')\n",
    "# create_boxplot(results, 'Effect of the loss on F1-score', 'Loss', 'F1-score',y_min=0, y_max=1)\n",
    "# create_bar_plot(train_times, 'Runtime for the loss tests', 'Loss', 'Run time (s)')\n",
    "\n",
    "# results, train_times, eval_times, _ = load_latest_results_data(r'../results/setfit/language')\n",
    "# create_boxplot(results, 'Effect of the language on F1-score (train and test sets)', 'Language', 'F1-score',y_min=0, y_max=1)\n",
    "# create_bar_plot(train_times, 'Runtime for the language tests', 'Language', 'Run time (s)')\n",
    "\n",
    "# results, train_times, eval_times, _ = load_latest_results_data(r'../results/setfit/model')\n",
    "# create_boxplot(results, 'Effect of the Sentence Transformer model on F1-score', 'Model', 'F1-score', vertical_xticks=True, y_min=0, y_max=1)\n",
    "# create_bar_plot(train_times, 'Runtime for the Sentence Transformer model tests', 'Model', 'Run time (s)', vertical_xticks=True)\n",
    "\n",
    "# results, train_times, eval_times, _ = load_latest_results_data(r'../results/setfit/num_epochs')\n",
    "# create_boxplot(results, 'Effect of the number of epochs on F1-score', 'Number of epochs', 'F1-score',y_min=0, y_max=1)\n",
    "# create_bar_plot(train_times, 'Runtime for the number of epochs tests', 'Number of epochs', 'Run time (s)')\n",
    "\n",
    "# results, train_times, eval_times, _ = load_latest_results_data(r'../results/setfit/head_learning_rate')\n",
    "# create_boxplot(results, 'Effect of the head learning rate on F1-score', 'Head learning rate', 'F1-score',y_min=0, y_max=1)\n",
    "# create_bar_plot(train_times, 'Runtime for the head learning rate tests', 'Head learning rate', 'Run time (s)')\n",
    "\n",
    "# results, train_times, eval_times, params = load_latest_results_data(r'../results/setfit/data_sampling')\n",
    "# create_boxplot(results, f\"F1-score with the same params with {params['n_iter']} different support sets\", str(params), 'F1-score',y_min=0, y_max=1)\n",
    "# create_bar_plot(train_times, 'Runtime for the same params', str(params), 'Run time (s)')\n",
    "\n",
    "# results, train_times, eval_times, _ = load_latest_results_data(r'../results/setfit/data_augmentation')\n",
    "# create_boxplot(results, \"Effect of data augmentation on F1-score\", \"Data augmentation strategy\", 'F1-score', vertical_xticks=True,y_min=0, y_max=1)\n",
    "\n",
    "# results, train_times, eval_times, _ = load_latest_results_data(r'../results/protonet/n_shot')\n",
    "# create_boxplot(results, 'Effect of the number of shots on F1-score', 'N-shot', 'F1-score',y_min=0, y_max=1)\n",
    "# create_bar_plot(train_times, 'Runtime for the N-shot tests', 'N-shot', 'Run time (s)')\n",
    "\n",
    "# results, train_times, eval_times, _ = load_latest_results_data(r'../results/protonet/input_length')\n",
    "# create_boxplot(results, 'Effect of the length of the input on F1-score (train set only)', 'Number of words', 'F1-score',y_min=0, y_max=1)\n",
    "# create_bar_plot(train_times, 'Runtime for the input length tests', 'Number of words', 'Run time (s)')\n",
    "\n",
    "# results, train_times, eval_times, _ = load_latest_results_data(r'../results/protonet/language')\n",
    "# create_boxplot(results, 'Effect of the language on F1-score (train and test sets)', 'Language', 'F1-score',y_min=0, y_max=1)\n",
    "# create_bar_plot(train_times, 'Runtime for the language tests', 'Language', 'Run time (s)')\n",
    "\n",
    "# results, train_times, eval_times, _ = load_latest_results_data(r'../results/protonet/frozen_ratio')\n",
    "# create_boxplot(results, 'Effect of the frozen weights ratio for the ProtoNet on F1-score (train and test sets)', 'Frozen weights ratio', 'F1-score',y_min=0, y_max=1)\n",
    "# create_bar_plot(train_times, 'Runtime for the frozen weights ratio tests', 'Frozen weights ratio', 'Run time (s)')"
   ]
  },
  {
   "cell_type": "markdown",
   "metadata": {},
   "source": [
    "### Plot graphs using all data and filters"
   ]
  },
  {
   "cell_type": "code",
   "execution_count": null,
   "metadata": {},
   "outputs": [],
   "source": [
    "results, train_times, eval_times = load_all_results_data(r'../results/protonet/n_shot', \"n_shot\")\n",
    "for key in ['20', '40', '60', '100']:\n",
    "    if not (key in results):\n",
    "        results[key] = []\n",
    "create_boxplot(results, 'Effect of the number of shots on F1-score', 'N-shot', 'F1-score',y_min=0, y_max=1)\n",
    "create_boxplot(results, 'Effect of the number of shots on F1-score', 'N-shot', 'F1-score', y_min=0, y_max=1)\n",
    "# create_bar_plot(train_times, 'Runtime for the N-shot tests', 'N-shot', 'Run time (s)')\n",
    "\n",
    "# results, train_times, eval_times = load_all_results_data(r'../results/setfit/input_length', \"input_length_range\", {\"n_shot\":8,\"input_length_range\":[[0,5],[5,25],[25,50],[50,100],[100,200],[200,350]]})\n",
    "# create_boxplot(results, 'Effect of the length of the input on F1-score (train set only)', 'Number of words', 'F1-score', y_min=0, y_max=1)\n",
    "# create_bar_plot(train_times, 'Runtime for the N-shot tests', 'N-shot', 'Run time (s)')\n",
    "\n",
    "# results, train_times, eval_times = load_all_results_data(r'../results/setfit/language', \"lang\", {\"model\":\"sentence-transformers/paraphrase-multilingual-mpnet-base-v2\", \"n_shot\":8})\n",
    "# create_boxplot(results, 'Effect of the language on F1-score (train and test sets) (multilingual model) (8 shots)', 'Language', 'F1-score', y_min=0, y_max=1)\n",
    "\n",
    "# results, train_times, eval_times = load_all_results_data(r'../results/setfit/language', \"lang\", {\"model\":\"sentence-transformers/paraphrase-mpnet-base-v2\", \"n_shot\":8})\n",
    "# create_boxplot(results, 'Effect of the language on F1-score (train and test sets) (not multilingual model) (8 shots)', 'Language', 'F1-score', y_min=0, y_max=1)\n",
    "\n",
    "# results, train_times, eval_times = load_all_results_data(r'../results/setfit/model', \"model\", {\"n_shot\":8, \"model\":[\"xlm-roberta-base-fr-en\", \"camembert-base\", \"paraphrase-mpnet-base-v2\", \"paraphrase-multilingual-mpnet-base-v2\", \"multilingual-e5-large\"]})\n",
    "# create_boxplot(results, 'Effect of the model on F1-score (8 shots)', 'Model', 'F1-score', vertical_xticks=True, y_min=0, y_max=1)\n",
    "\n",
    "\n",
    "# results, train_times, eval_times = load_all_results_data(r'../results/setfit/num_epochs', \"num_epochs\", {\"n_shot\":8, \"num_epochs\":[(1,1),(2,1),(4,1),(8,1),(16,1),(32,1),(64,1)]})\n",
    "# create_boxplot(results, 'Effect of the number of epochs (body) on F1-score (8 shots)', 'Number of epochs', 'F1-score', custom_xticks=['1','2','4','8','16','32','64'])\n",
    "# create_bar_plot(train_times, 'Runtime for the body epochs tests', 'Number of epochs', 'Run time (s)', custom_xticks=['1','2','4','8','16','32','64'])\n",
    "\n",
    "# results, train_times, eval_times = load_all_results_data(r'../results/setfit/data_augmentation', \"data_augmentation_strategy\", {\"data_augmentation_strategy\":[\"none\", \"back_translation\",\"crossover\",\"synonym_replacement\"], \"n_shot\":8})\n",
    "# create_boxplot(results, f\"Effect of the data augmentation ratio on F1-score (8 shots)\", 'Strategy', 'F1-score', vertical_xticks=True, y_min=0, y_max=1)\n",
    "\n",
    "# results, train_times, eval_times = load_all_results_data(r'../results/setfit/training_set_labels_restriction', \"model\")\n",
    "# create_boxplot(results, 'Effect of the training set labels restriction on F1-score', 'Model', 'F1-score', vertical_xticks=True)\n",
    "\n",
    "# results, train_times, eval_times = load_all_results_data(r'../results/protonet/n_shot', \"n_shot\", {\"model\":\"sentence-transformers/paraphrase-mpnet-base-v2\"})\n",
    "# create_boxplot(results, 'Effect of the number of shots on F1-score', 'N-shot', 'F1-score', y_min=0, y_max=1)\n",
    "# create_bar_plot(train_times, 'Runtime for the N-shot tests', 'N-shot', 'Run time (s)')\n",
    "\n",
    "# results, train_times, eval_times = load_all_results_data(r'../results/protonet/input_length', \"input_length_range\", {\"model\":\"sentence-transformers/paraphrase-mpnet-base-v2\"})\n",
    "# create_boxplot(results, 'Effect of the length of the input on F1-score (train set only)', 'Input length', 'F1-score', y_min=0, y_max=1)\n",
    "# create_bar_plot(train_times, 'Runtime for length tests', 'N-shot', 'Run time (s)')\n",
    "\n",
    "# results, train_times, eval_times = load_all_results_data(r'../results/protonet/language', \"lang\", {\"model\":\"sentence-transformers/paraphrase-mpnet-base-v2\"})\n",
    "# create_boxplot(results, 'Effect of the language on F1-score (train and test sets)', 'Language', 'F1-score', y_min=0, y_max=1)\n",
    "# create_bar_plot(train_times, 'Runtime for the language tests', 'lang', 'Run time (s)')"
   ]
  }
 ],
 "metadata": {
  "kernelspec": {
   "display_name": ".venv",
   "language": "python",
   "name": "python3"
  },
  "language_info": {
   "codemirror_mode": {
    "name": "ipython",
    "version": 3
   },
   "file_extension": ".py",
   "mimetype": "text/x-python",
   "name": "python",
   "nbconvert_exporter": "python",
   "pygments_lexer": "ipython3",
   "version": "3.10.12"
  }
 },
 "nbformat": 4,
 "nbformat_minor": 2
}
